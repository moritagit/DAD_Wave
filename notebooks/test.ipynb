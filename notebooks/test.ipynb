{
 "cells": [
  {
   "cell_type": "markdown",
   "metadata": {},
   "source": [
    "# DAD for Wave by Triplet Loss"
   ]
  },
  {
   "cell_type": "markdown",
   "metadata": {},
   "source": [
    "## Settings"
   ]
  },
  {
   "cell_type": "code",
   "execution_count": 1,
   "metadata": {},
   "outputs": [],
   "source": [
    "from pathlib import Path\n",
    "import sys"
   ]
  },
  {
   "cell_type": "code",
   "execution_count": 2,
   "metadata": {},
   "outputs": [],
   "source": [
    "import matplotlib.pyplot as plt\n",
    "import numpy as np\n",
    "\n",
    "from sklearn.neighbors import LocalOutlierFactor\n",
    "from sklearn import metrics\n",
    "\n",
    "import torch\n",
    "from torchvision import transforms"
   ]
  },
  {
   "cell_type": "code",
   "execution_count": 3,
   "metadata": {},
   "outputs": [],
   "source": [
    "sys.path.append('../src')\n",
    "\n",
    "import utils\n",
    "from dataloader import ESC50Dataset, ESC50DatasetTriplet\n",
    "from models import EmbeddingNet, TripletNet\n",
    "from loss_functions import TripletLoss"
   ]
  },
  {
   "cell_type": "code",
   "execution_count": 4,
   "metadata": {},
   "outputs": [],
   "source": [
    "no_cuda = True\n",
    "seed = 0"
   ]
  },
  {
   "cell_type": "code",
   "execution_count": 5,
   "metadata": {},
   "outputs": [],
   "source": [
    "data_dir = Path().cwd().parent/'data'\n",
    "raw_data_dir = data_dir/'external'/'ESC-50'\n",
    "processed_data_dir = data_dir/'processed'/'ESC-50'\n",
    "models_dir = Path().cwd().parent/'models'"
   ]
  },
  {
   "cell_type": "code",
   "execution_count": 6,
   "metadata": {},
   "outputs": [],
   "source": [
    "model_path = models_dir/'model_best.pth'\n",
    "#embeddingnet_path = models_dir/'embeddingnet_best.pth'\n",
    "embeddingnet_path = models_dir/'embeddingnet_best_m04.pth'"
   ]
  },
  {
   "cell_type": "code",
   "execution_count": 7,
   "metadata": {},
   "outputs": [],
   "source": [
    "metadata_path = raw_data_dir/'meta'/'esc50.csv'\n",
    "audio_dir = raw_data_dir/'audio'\n",
    "spectrogram_dir = processed_data_dir/'spectrogram'"
   ]
  },
  {
   "cell_type": "code",
   "execution_count": 8,
   "metadata": {},
   "outputs": [],
   "source": [
    "train_metadata_path = processed_data_dir/'metadata_train.csv'\n",
    "valid_metadata_path = processed_data_dir/'metadata_valid.csv'\n",
    "test_metadata_path = processed_data_dir/'metadata_test.csv'"
   ]
  },
  {
   "cell_type": "code",
   "execution_count": 38,
   "metadata": {},
   "outputs": [],
   "source": [
    "np.random.seed(0)"
   ]
  },
  {
   "cell_type": "code",
   "execution_count": 9,
   "metadata": {},
   "outputs": [
    {
     "name": "stdout",
     "output_type": "stream",
     "text": [
      "device: cpu\n"
     ]
    }
   ],
   "source": [
    "use_cuda = torch.cuda.is_available() and (not no_cuda)\n",
    "device = 'cuda' if use_cuda else 'cpu'\n",
    "torch.manual_seed(seed)\n",
    "torch.backends.cudnn.benchmark = True\n",
    "\n",
    "print('device: {}'.format(device))"
   ]
  },
  {
   "cell_type": "code",
   "execution_count": 10,
   "metadata": {},
   "outputs": [],
   "source": [
    "class ESC50DatasetTest(ESC50Dataset):\n",
    "    def __init__(self, metadata_path, audio_dir, spectrogram_dir, transform=None,):\n",
    "        super(ESC50DatasetTest, self).__init__(metadata_path, audio_dir, spectrogram_dir, transform)\n",
    "\n",
    "    def __len__(self):\n",
    "        return len(self.metadata)\n",
    "\n",
    "    def __getitem__(self, index):\n",
    "        spec, label = self.load_spectrogram(index), self.load_label(index)\n",
    "        if self.transform is not None:\n",
    "            spec = self.transform(spec)\n",
    "        return spec, label"
   ]
  },
  {
   "cell_type": "code",
   "execution_count": 11,
   "metadata": {},
   "outputs": [],
   "source": [
    "def evaluate_bc(y_true, y_pred):\n",
    "    confusion_matrix = metrics.confusion_matrix(y_true, y_pred)\n",
    "    acc = metrics.accuracy_score(y_true, y_pred)\n",
    "    prec = metrics.precision_score(y_true, y_pred)\n",
    "    recall = metrics.recall_score(y_true, y_pred)\n",
    "    f1 = metrics.f1_score(y_true, y_pred)\n",
    "\n",
    "    print('Acc: {:.4f}  Precision: {:.4f}  Recall: {:.4f}  F1: {:4f}'.format(acc, prec, recall, f1))\n",
    "    print('Confusion Matrix')\n",
    "    print(confusion_matrix)"
   ]
  },
  {
   "cell_type": "code",
   "execution_count": 12,
   "metadata": {},
   "outputs": [],
   "source": [
    "def evaluate_auc(labels, scores):\n",
    "    fpr, tpr, _ = metrics.roc_curve(labels, scores)\n",
    "    auc = metrics.auc(fpr, tpr)\n",
    "\n",
    "    plt.title('ROC curve (AUC = {:.2f})'.format(auc))\n",
    "    plt.xlabel('False Positive Rate')\n",
    "    plt.ylabel('True Positive Rate')\n",
    "    plt.grid(True)\n",
    "    plt.show()"
   ]
  },
  {
   "cell_type": "markdown",
   "metadata": {},
   "source": [
    "## Hyperparameters"
   ]
  },
  {
   "cell_type": "code",
   "execution_count": 13,
   "metadata": {},
   "outputs": [],
   "source": [
    "input_size = (257, 431)\n",
    "output_size = 128"
   ]
  },
  {
   "cell_type": "markdown",
   "metadata": {},
   "source": [
    "## Dataloader"
   ]
  },
  {
   "cell_type": "code",
   "execution_count": 14,
   "metadata": {},
   "outputs": [],
   "source": [
    "kwargs = {'num_workers': 1, 'pin_memory': True} if use_cuda else {}"
   ]
  },
  {
   "cell_type": "code",
   "execution_count": 15,
   "metadata": {},
   "outputs": [],
   "source": [
    "transform = transforms.Compose([\n",
    "    transforms.ToTensor(),\n",
    "    ])"
   ]
  },
  {
   "cell_type": "code",
   "execution_count": 16,
   "metadata": {},
   "outputs": [],
   "source": [
    "dataset_test = ESC50DatasetTest(\n",
    "    test_metadata_path, audio_dir, spectrogram_dir, transform,\n",
    "    )"
   ]
  },
  {
   "cell_type": "code",
   "execution_count": 17,
   "metadata": {},
   "outputs": [],
   "source": [
    "dataloader_test = torch.utils.data.DataLoader(dataset_test, batch_size=1, shuffle=False, **kwargs)"
   ]
  },
  {
   "cell_type": "markdown",
   "metadata": {},
   "source": [
    "## Model"
   ]
  },
  {
   "cell_type": "code",
   "execution_count": 18,
   "metadata": {},
   "outputs": [],
   "source": [
    "embedding_net = EmbeddingNet(input_size, output_size).to(device)\n",
    "embedding_net.eval()\n",
    "embedding_net.load_state_dict(torch.load(str(embeddingnet_path)))"
   ]
  },
  {
   "cell_type": "markdown",
   "metadata": {},
   "source": [
    "### Test"
   ]
  },
  {
   "cell_type": "code",
   "execution_count": 19,
   "metadata": {},
   "outputs": [
    {
     "data": {
      "text/plain": [
       "{2, 24, 28, 34, 40}"
      ]
     },
     "execution_count": 19,
     "metadata": {},
     "output_type": "execute_result"
    }
   ],
   "source": [
    "dataset_test.labels"
   ]
  },
  {
   "cell_type": "code",
   "execution_count": 20,
   "metadata": {},
   "outputs": [],
   "source": [
    "label_ref = 40\n",
    "n_ref = 30"
   ]
  },
  {
   "cell_type": "code",
   "execution_count": 21,
   "metadata": {},
   "outputs": [],
   "source": [
    "indices_ref_all = dataset_test.label2indices[label_ref]\n",
    "_indices_ref = np.random.permutation(range(len(indices_ref_all)))[:n_ref]\n",
    "indices_ref = np.array(indices_ref_all)[_indices_ref]"
   ]
  },
  {
   "cell_type": "code",
   "execution_count": 22,
   "metadata": {},
   "outputs": [
    {
     "name": "stdout",
     "output_type": "stream",
     "text": [
      "Index 199"
     ]
    }
   ],
   "source": [
    "embeddings_ref = []\n",
    "embeddings = []\n",
    "labels = []\n",
    "\n",
    "for index, (spec, label) in enumerate(dataloader_test):\n",
    "    print('\\rIndex {}'.format(index), end='')\n",
    "    embedding = embedding_net(spec).cpu().detach().numpy().flatten()\n",
    "    if index in indices_ref:\n",
    "        embeddings_ref.append(embedding)\n",
    "    else:\n",
    "        embeddings.append(embedding)\n",
    "        raw_label = label.cpu().detach().numpy()[0]\n",
    "        used_label = 1 if (raw_label == label_ref) else -1\n",
    "        labels.append(used_label)\n",
    "embeddings_ref = np.array(embeddings_ref)\n",
    "embeddings = np.array(embeddings)"
   ]
  },
  {
   "cell_type": "markdown",
   "metadata": {},
   "source": [
    "## Threshold"
   ]
  },
  {
   "cell_type": "code",
   "execution_count": 42,
   "metadata": {},
   "outputs": [
    {
     "name": "stdout",
     "output_type": "stream",
     "text": [
      "label -1    Score: 0.030182307586073875\n",
      "label -1    Score: 0.027133697643876076\n",
      "label -1    Score: 0.029728107154369354\n",
      "label -1    Score: 0.02792331948876381\n",
      "label -1    Score: 0.025864947587251663\n",
      "label -1    Score: 0.026170941069722176\n",
      "label -1    Score: 0.03554757684469223\n",
      "label -1    Score: 0.02860270068049431\n",
      "label -1    Score: 0.026230426505208015\n",
      "label -1    Score: 0.028551911935210228\n",
      "label -1    Score: 0.032385990023612976\n",
      "label -1    Score: 0.03795165568590164\n",
      "label -1    Score: 0.027183016762137413\n",
      "label -1    Score: 0.029435016214847565\n",
      "label -1    Score: 0.03310113400220871\n",
      "label -1    Score: 0.027247345075011253\n",
      "label -1    Score: 0.17367354035377502\n",
      "label -1    Score: 0.02910737134516239\n",
      "label -1    Score: 0.144181489944458\n",
      "label -1    Score: 0.0883764699101448\n",
      "label -1    Score: 0.11599066853523254\n",
      "label -1    Score: 0.0695265680551529\n",
      "label -1    Score: 0.10651468485593796\n",
      "label -1    Score: 0.11239566653966904\n",
      "label -1    Score: 0.03509260341525078\n",
      "label -1    Score: 0.03368049114942551\n",
      "label -1    Score: 0.10560421645641327\n",
      "label -1    Score: 0.08772217482328415\n",
      "label -1    Score: 0.056241925805807114\n",
      "label -1    Score: 0.029783567413687706\n",
      "label -1    Score: 0.03052401915192604\n",
      "label -1    Score: 0.028131840750575066\n",
      "label -1    Score: 0.029185825958848\n",
      "label -1    Score: 0.08575687557458878\n",
      "label -1    Score: 0.12629951536655426\n",
      "label -1    Score: 0.19589580595493317\n",
      "label -1    Score: 0.0629473477602005\n",
      "label -1    Score: 0.22694087028503418\n",
      "label -1    Score: 0.17694370448589325\n",
      "label -1    Score: 0.027586178854107857\n",
      "label -1    Score: 0.19072800874710083\n",
      "label -1    Score: 0.3393530249595642\n",
      "label -1    Score: 0.4274523854255676\n",
      "label -1    Score: 0.11446142941713333\n",
      "label -1    Score: 0.26778462529182434\n",
      "label -1    Score: 0.1570570319890976\n",
      "label -1    Score: 0.23844890296459198\n",
      "label -1    Score: 0.30776911973953247\n",
      "label -1    Score: 0.08146589249372482\n",
      "label -1    Score: 0.3225235342979431\n",
      "label -1    Score: 0.35413849353790283\n",
      "label -1    Score: 0.2585468292236328\n",
      "label -1    Score: 0.03887782245874405\n",
      "label -1    Score: 0.19334129989147186\n",
      "label -1    Score: 0.31306761503219604\n",
      "label -1    Score: 0.15967251360416412\n",
      "label -1    Score: 0.31194543838500977\n",
      "label -1    Score: 0.3547106087207794\n",
      "label -1    Score: 0.4166601002216339\n",
      "label -1    Score: 0.12782393395900726\n",
      "label -1    Score: 0.3324874937534332\n",
      "label -1    Score: 0.2818956971168518\n",
      "label -1    Score: 0.18881984055042267\n",
      "label -1    Score: 0.1434166580438614\n",
      "label -1    Score: 0.12473095208406448\n",
      "label -1    Score: 0.40426868200302124\n",
      "label -1    Score: 0.33881130814552307\n",
      "label -1    Score: 0.24043574929237366\n",
      "label -1    Score: 0.3172151744365692\n",
      "label -1    Score: 0.3654521405696869\n",
      "label -1    Score: 0.40299734473228455\n",
      "label -1    Score: 0.19328704476356506\n",
      "label -1    Score: 0.1653863787651062\n",
      "label -1    Score: 0.18373386561870575\n",
      "label -1    Score: 0.11586121469736099\n",
      "label -1    Score: 0.3121505677700043\n",
      "label -1    Score: 0.10810278356075287\n",
      "label -1    Score: 0.06743167340755463\n",
      "label -1    Score: 0.1734311878681183\n",
      "label -1    Score: 0.2960904836654663\n",
      "label -1    Score: 0.21641454100608826\n",
      "label -1    Score: 0.4917472004890442\n",
      "label -1    Score: 0.21486663818359375\n",
      "label -1    Score: 0.3126372992992401\n",
      "label -1    Score: 0.3034028112888336\n",
      "label -1    Score: 0.2832590639591217\n",
      "label -1    Score: 0.057296764105558395\n",
      "label -1    Score: 0.13439223170280457\n",
      "label -1    Score: 0.08782826364040375\n",
      "label -1    Score: 0.14423297345638275\n",
      "label -1    Score: 0.1683492362499237\n",
      "label -1    Score: 0.1724071204662323\n",
      "label -1    Score: 0.1089482307434082\n",
      "label -1    Score: 0.08299567550420761\n",
      "label -1    Score: 0.16898326575756073\n",
      "label -1    Score: 0.4023994207382202\n",
      "label -1    Score: 0.2623976171016693\n",
      "label -1    Score: 0.3375924825668335\n",
      "label -1    Score: 0.225436732172966\n",
      "label -1    Score: 0.16178588569164276\n",
      "label -1    Score: 0.26858118176460266\n",
      "label -1    Score: 0.3112408518791199\n",
      "label -1    Score: 0.2801249623298645\n",
      "label -1    Score: 0.25871625542640686\n",
      "label -1    Score: 0.25085532665252686\n",
      "label -1    Score: 0.11023977398872375\n",
      "label -1    Score: 0.19637468457221985\n",
      "label -1    Score: 0.20214901864528656\n",
      "label -1    Score: 0.17347560822963715\n",
      "label -1    Score: 0.14816227555274963\n",
      "label -1    Score: 0.21084481477737427\n",
      "label -1    Score: 0.2575419247150421\n",
      "label -1    Score: 0.07449660450220108\n",
      "label -1    Score: 0.15961405634880066\n",
      "label -1    Score: 0.15630458295345306\n",
      "label -1    Score: 0.10434092581272125\n",
      "label -1    Score: 0.18943198025226593\n",
      "label -1    Score: 0.29442963004112244\n",
      "label -1    Score: 0.2216559201478958\n",
      "label -1    Score: 0.24945302307605743\n",
      "label 1    Score: 0.07239662855863571\n",
      "label 1    Score: 0.057515986263751984\n",
      "label 1    Score: 0.04215534031391144\n",
      "label 1    Score: 0.03047572635114193\n",
      "label 1    Score: 0.028704356402158737\n",
      "label 1    Score: 0.02692410536110401\n",
      "label 1    Score: 0.033242952078580856\n",
      "label 1    Score: 0.2294284850358963\n",
      "label 1    Score: 0.02929401583969593\n",
      "label 1    Score: 0.05123114585876465\n",
      "label -1    Score: 0.13961581885814667\n",
      "label -1    Score: 0.034756969660520554\n",
      "label -1    Score: 0.07419220358133316\n",
      "label -1    Score: 0.03264579921960831\n",
      "label -1    Score: 0.14599226415157318\n",
      "label -1    Score: 0.10044729709625244\n",
      "label -1    Score: 0.04943231865763664\n",
      "label -1    Score: 0.03127259761095047\n",
      "label -1    Score: 0.348619669675827\n",
      "label -1    Score: 0.33126986026763916\n",
      "label -1    Score: 0.19019339978694916\n",
      "label -1    Score: 0.18830057978630066\n",
      "label -1    Score: 0.16650938987731934\n",
      "label -1    Score: 0.2682742774486542\n",
      "label -1    Score: 0.057482462376356125\n",
      "label -1    Score: 0.058282479643821716\n",
      "label -1    Score: 0.05859827250242233\n",
      "label -1    Score: 0.39147311449050903\n",
      "label -1    Score: 0.03333955630660057\n",
      "label -1    Score: 0.03153781220316887\n",
      "label -1    Score: 0.029882043600082397\n",
      "label -1    Score: 0.12773734331130981\n",
      "label -1    Score: 0.04197319224476814\n",
      "label -1    Score: 0.03330366313457489\n",
      "label -1    Score: 0.09691613167524338\n",
      "label -1    Score: 0.030310455709695816\n",
      "label -1    Score: 0.04793812334537506\n",
      "label -1    Score: 0.14603203535079956\n",
      "label -1    Score: 0.10592494904994965\n",
      "label -1    Score: 0.07130295783281326\n",
      "label -1    Score: 0.09713525325059891\n",
      "label -1    Score: 0.11575235426425934\n",
      "label -1    Score: 0.05197498947381973\n",
      "label -1    Score: 0.10943209379911423\n",
      "label -1    Score: 0.06106720119714737\n",
      "label -1    Score: 0.2277829796075821\n",
      "label -1    Score: 0.22340735793113708\n",
      "label -1    Score: 0.11524201184511185\n",
      "label -1    Score: 0.10098352283239365\n",
      "label -1    Score: 0.17485778033733368\n"
     ]
    }
   ],
   "source": [
    "n_test = len(labels)\n",
    "scores = []\n",
    "for i in range(n_test):\n",
    "    embedding = embeddings[i]\n",
    "    label = labels[i]\n",
    "    dists = np.sum((embedding[np.newaxis, :] - embeddings_ref)**2, axis=1)\n",
    "    score = dists.mean()\n",
    "    scores.append(score)\n",
    "    print('label {}    Score: {}'.format(label, score))"
   ]
  },
  {
   "cell_type": "code",
   "execution_count": 43,
   "metadata": {},
   "outputs": [],
   "source": [
    "preds = [1 if (score < 0.05) else -1 for score in scores]"
   ]
  },
  {
   "cell_type": "code",
   "execution_count": 44,
   "metadata": {},
   "outputs": [
    {
     "name": "stdout",
     "output_type": "stream",
     "text": [
      "Acc: 0.7647  Precision: 0.1429  Recall: 0.6000  F1: 0.230769\n",
      "Confusion Matrix\n",
      "[[124  36]\n",
      " [  4   6]]\n"
     ]
    }
   ],
   "source": [
    "evaluate_bc(labels, preds)"
   ]
  },
  {
   "cell_type": "code",
   "execution_count": 45,
   "metadata": {},
   "outputs": [],
   "source": [
    "score_max, score_min = max(scores), min(scores)\n",
    "#scores_n = [(score-score_min)/(score_max-score_min) for score in scores]\n",
    "scores_n = [-score for score in scores]"
   ]
  },
  {
   "cell_type": "code",
   "execution_count": 46,
   "metadata": {},
   "outputs": [
    {
     "name": "stdout",
     "output_type": "stream",
     "text": [
      "AUC: 0.7831\n"
     ]
    }
   ],
   "source": [
    "fpr, tpr, _ = metrics.roc_curve(labels, scores_n)\n",
    "auc = metrics.auc(fpr, tpr)\n",
    "print('AUC: {:.4f}'.format(auc))"
   ]
  },
  {
   "cell_type": "code",
   "execution_count": 47,
   "metadata": {},
   "outputs": [
    {
     "data": {
      "image/png": "[encoded data removed]",
      "text/plain": [
       "<Figure size 432x288 with 1 Axes>"
      ]
     },
     "metadata": {
      "needs_background": "light"
     },
     "output_type": "display_data"
    }
   ],
   "source": [
    "plt.plot(fpr, tpr, label='AUC = {:.2f}'.format(auc))\n",
    "plt.legend()\n",
    "plt.title('ROC curve')\n",
    "plt.xlabel('False Positive Rate')\n",
    "plt.ylabel('True Positive Rate')\n",
    "plt.grid(True)\n",
    "plt.show()"
   ]
  },
  {
   "cell_type": "markdown",
   "metadata": {},
   "source": [
    "## Test by LOF"
   ]
  },
  {
   "cell_type": "code",
   "execution_count": 30,
   "metadata": {},
   "outputs": [],
   "source": [
    "clf = LocalOutlierFactor(\n",
    "    n_neighbors=1,\n",
    "    novelty=True,\n",
    "    contamination='auto',\n",
    "    )"
   ]
  },
  {
   "cell_type": "code",
   "execution_count": 31,
   "metadata": {},
   "outputs": [
    {
     "data": {
      "text/plain": [
       "LocalOutlierFactor(algorithm='auto', contamination='auto', leaf_size=30,\n",
       "          metric='minkowski', metric_params=None, n_jobs=None,\n",
       "          n_neighbors=1, novelty=True, p=2)"
      ]
     },
     "execution_count": 31,
     "metadata": {},
     "output_type": "execute_result"
    }
   ],
   "source": [
    "clf.fit(embeddings_ref)"
   ]
  },
  {
   "cell_type": "code",
   "execution_count": 32,
   "metadata": {},
   "outputs": [],
   "source": [
    "preds = clf.predict(embeddings)"
   ]
  },
  {
   "cell_type": "code",
   "execution_count": 33,
   "metadata": {},
   "outputs": [
    {
     "name": "stdout",
     "output_type": "stream",
     "text": [
      "Acc: 0.6235  Precision: 0.1250  Recall: 0.9000  F1: 0.219512\n",
      "Confusion Matrix\n",
      "[[97 63]\n",
      " [ 1  9]]\n"
     ]
    }
   ],
   "source": [
    "evaluate_bc(labels, preds)"
   ]
  },
  {
   "cell_type": "code",
   "execution_count": 34,
   "metadata": {},
   "outputs": [],
   "source": [
    "scores = clf.score_samples(embeddings)"
   ]
  },
  {
   "cell_type": "code",
   "execution_count": 35,
   "metadata": {},
   "outputs": [
    {
     "name": "stdout",
     "output_type": "stream",
     "text": [
      "AUC: 0.8556\n"
     ]
    }
   ],
   "source": [
    "fpr, tpr, _ = metrics.roc_curve(labels, scores)\n",
    "auc = metrics.auc(fpr, tpr)\n",
    "print('AUC: {:.4f}'.format(auc))"
   ]
  },
  {
   "cell_type": "code",
   "execution_count": 36,
   "metadata": {},
   "outputs": [
    {
     "data": {
      "image/png": "[encoded data removed]",
      "text/plain": [
       "<Figure size 432x288 with 1 Axes>"
      ]
     },
     "metadata": {
      "needs_background": "light"
     },
     "output_type": "display_data"
    }
   ],
   "source": [
    "plt.plot(fpr, tpr, label='AUC = {:.2f}'.format(auc))\n",
    "plt.legend()\n",
    "plt.title('ROC curve')\n",
    "plt.xlabel('False Positive Rate')\n",
    "plt.ylabel('True Positive Rate')\n",
    "plt.grid(True)\n",
    "plt.show()"
   ]
  }
 ],
 "metadata": {
  "kernelspec": {
   "display_name": "Python 3",
   "language": "python",
   "name": "python3"
  },
  "language_info": {
   "codemirror_mode": {
    "name": "ipython",
    "version": 3
   },
   "file_extension": ".py",
   "mimetype": "text/x-python",
   "name": "python",
   "nbconvert_exporter": "python",
   "pygments_lexer": "ipython3",
   "version": "3.7.3"
  }
 },
 "nbformat": 4,
 "nbformat_minor": 2
}

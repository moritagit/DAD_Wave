{
 "cells": [
  {
   "cell_type": "markdown",
   "metadata": {},
   "source": [
    "# DAD for Wave by Triplet Loss"
   ]
  },
  {
   "cell_type": "markdown",
   "metadata": {},
   "source": [
    "## Settings"
   ]
  },
  {
   "cell_type": "code",
   "execution_count": 1,
   "metadata": {},
   "outputs": [],
   "source": [
    "from pathlib import Path\n",
    "import sys"
   ]
  },
  {
   "cell_type": "code",
   "execution_count": 2,
   "metadata": {},
   "outputs": [],
   "source": [
    "import matplotlib.pyplot as plt\n",
    "import numpy as np\n",
    "import pandas as pd\n",
    "\n",
    "from sklearn.neighbors import LocalOutlierFactor\n",
    "from sklearn import metrics\n",
    "\n",
    "import torch\n",
    "from torchvision import transforms"
   ]
  },
  {
   "cell_type": "code",
   "execution_count": 3,
   "metadata": {},
   "outputs": [],
   "source": [
    "sys.path.append('../src')\n",
    "\n",
    "import utils\n",
    "from dataloader import ESC50DatasetTest\n",
    "from models import EmbeddingNet, TripletNet"
   ]
  },
  {
   "cell_type": "code",
   "execution_count": 4,
   "metadata": {},
   "outputs": [],
   "source": [
    "no_cuda = False\n",
    "seed = 0"
   ]
  },
  {
   "cell_type": "code",
   "execution_count": 5,
   "metadata": {},
   "outputs": [],
   "source": [
    "data_dir = Path().cwd().parent/'data'\n",
    "raw_data_dir = data_dir/'external'/'ESC-50'\n",
    "processed_data_dir = data_dir/'processed'/'ESC-50'\n",
    "models_dir = Path().cwd().parent/'models'"
   ]
  },
  {
   "cell_type": "code",
   "execution_count": 6,
   "metadata": {},
   "outputs": [],
   "source": [
    "#model_path = models_dir/'model_tmp.pth'\n",
    "embeddingnet_path = models_dir/'embeddingnet_best_m08.pth'"
   ]
  },
  {
   "cell_type": "code",
   "execution_count": 7,
   "metadata": {},
   "outputs": [],
   "source": [
    "metadata_path = raw_data_dir/'meta'/'esc50.csv'\n",
    "audio_dir = raw_data_dir/'audio'\n",
    "spectrogram_dir = processed_data_dir/'spectrogram'"
   ]
  },
  {
   "cell_type": "code",
   "execution_count": 8,
   "metadata": {},
   "outputs": [],
   "source": [
    "train_metadata_path = processed_data_dir/'metadata_train.csv'\n",
    "valid_metadata_path = processed_data_dir/'metadata_valid.csv'\n",
    "test_metadata_path = processed_data_dir/'metadata_test.csv'"
   ]
  },
  {
   "cell_type": "code",
   "execution_count": 9,
   "metadata": {},
   "outputs": [],
   "source": [
    "np.random.seed(seed)"
   ]
  },
  {
   "cell_type": "code",
   "execution_count": 10,
   "metadata": {},
   "outputs": [
    {
     "name": "stdout",
     "output_type": "stream",
     "text": [
      "device: cuda\n"
     ]
    }
   ],
   "source": [
    "use_cuda = torch.cuda.is_available() and (not no_cuda)\n",
    "device = 'cuda' if use_cuda else 'cpu'\n",
    "torch.manual_seed(seed)\n",
    "torch.backends.cudnn.benchmark = True\n",
    "\n",
    "print('device: {}'.format(device))"
   ]
  },
  {
   "cell_type": "code",
   "execution_count": 11,
   "metadata": {},
   "outputs": [],
   "source": [
    "def evaluate_bc(y_true, y_pred):\n",
    "    confusion_matrix = metrics.confusion_matrix(y_true, y_pred)\n",
    "    acc = metrics.accuracy_score(y_true, y_pred)\n",
    "    prec = metrics.precision_score(y_true, y_pred)\n",
    "    recall = metrics.recall_score(y_true, y_pred)\n",
    "    f1 = metrics.f1_score(y_true, y_pred)\n",
    "\n",
    "    print('Acc: {:.4f}  Precision: {:.4f}  Recall: {:.4f}  F1: {:4f}'.format(acc, prec, recall, f1))\n",
    "    print('Confusion Matrix')\n",
    "    print(confusion_matrix)"
   ]
  },
  {
   "cell_type": "code",
   "execution_count": 12,
   "metadata": {},
   "outputs": [],
   "source": [
    "def evaluate_auc(labels, scores):\n",
    "    fpr, tpr, _ = metrics.roc_curve(labels, scores)\n",
    "    auc = metrics.auc(fpr, tpr)\n",
    "\n",
    "    plt.title('ROC curve (AUC = {:.2f})'.format(auc))\n",
    "    plt.xlabel('False Positive Rate')\n",
    "    plt.ylabel('True Positive Rate')\n",
    "    plt.grid(True)\n",
    "    plt.show()"
   ]
  },
  {
   "cell_type": "markdown",
   "metadata": {},
   "source": [
    "## Hyperparameters"
   ]
  },
  {
   "cell_type": "code",
   "execution_count": 13,
   "metadata": {},
   "outputs": [],
   "source": [
    "input_size = (257, 431)\n",
    "output_size = 128\n",
    "\n",
    "batch_size = 8"
   ]
  },
  {
   "cell_type": "markdown",
   "metadata": {},
   "source": [
    "## Dataloader"
   ]
  },
  {
   "cell_type": "code",
   "execution_count": 14,
   "metadata": {},
   "outputs": [],
   "source": [
    "kwargs = {'num_workers': 1, 'pin_memory': True} if use_cuda else {}"
   ]
  },
  {
   "cell_type": "code",
   "execution_count": 15,
   "metadata": {},
   "outputs": [],
   "source": [
    "transform = transforms.Compose([\n",
    "    transforms.ToTensor(),\n",
    "    ])"
   ]
  },
  {
   "cell_type": "code",
   "execution_count": 16,
   "metadata": {},
   "outputs": [],
   "source": [
    "dataset = ESC50DatasetTest(\n",
    "    test_metadata_path, audio_dir, spectrogram_dir, transform,\n",
    "    )"
   ]
  },
  {
   "cell_type": "code",
   "execution_count": 17,
   "metadata": {},
   "outputs": [],
   "source": [
    "dataloader = torch.utils.data.DataLoader(dataset, batch_size=batch_size, shuffle=False, **kwargs)"
   ]
  },
  {
   "cell_type": "markdown",
   "metadata": {},
   "source": [
    "## Model"
   ]
  },
  {
   "cell_type": "code",
   "execution_count": 18,
   "metadata": {},
   "outputs": [],
   "source": [
    "embedding_net = EmbeddingNet(input_size, output_size).to(device)\n",
    "embedding_net.eval()\n",
    "embedding_net.load_state_dict(torch.load(str(embeddingnet_path)))\n",
    "\n",
    "#model = TripletNet(embedding_net).to(device)\n",
    "#model.eval()\n",
    "#model.load_state_dict(torch.load(str(model_path)))"
   ]
  },
  {
   "cell_type": "markdown",
   "metadata": {},
   "source": [
    "## Build Embeddings"
   ]
  },
  {
   "cell_type": "code",
   "execution_count": 19,
   "metadata": {},
   "outputs": [
    {
     "name": "stdout",
     "output_type": "stream",
     "text": [
      "Minibatch 25/25\n"
     ]
    },
    {
     "data": {
      "text/plain": [
       "(200, 128)"
      ]
     },
     "execution_count": 19,
     "metadata": {},
     "output_type": "execute_result"
    }
   ],
   "source": [
    "embeddings_all = []\n",
    "for i, (spec, label) in enumerate(dataloader):\n",
    "    print('\\rMinibatch {}/{}'.format(i+1, len(dataloader)), end='')\n",
    "    if use_cuda: \n",
    "        spec =spec.cuda()\n",
    "    embeddings = embedding_net(spec)\n",
    "    embeddings = embeddings.cpu().detach().numpy().reshape(-1, output_size)\n",
    "    embeddings_all.extend(list(embeddings))\n",
    "print()\n",
    "dataset.embeddings = np.array(embeddings_all)\n",
    "dataset.embeddings.shape"
   ]
  },
  {
   "cell_type": "markdown",
   "metadata": {},
   "source": [
    "### Test Settings"
   ]
  },
  {
   "cell_type": "code",
   "execution_count": 20,
   "metadata": {},
   "outputs": [],
   "source": [
    "label_normal = 1\n",
    "label_abnormal = -1"
   ]
  },
  {
   "cell_type": "code",
   "execution_count": 21,
   "metadata": {},
   "outputs": [
    {
     "data": {
      "text/html": [
       "<div>\n",
       "<style scoped>\n",
       "    .dataframe tbody tr th:only-of-type {\n",
       "        vertical-align: middle;\n",
       "    }\n",
       "\n",
       "    .dataframe tbody tr th {\n",
       "        vertical-align: top;\n",
       "    }\n",
       "\n",
       "    .dataframe thead th {\n",
       "        text-align: right;\n",
       "    }\n",
       "</style>\n",
       "<table border=\"1\" class=\"dataframe\">\n",
       "  <thead>\n",
       "    <tr style=\"text-align: right;\">\n",
       "      <th></th>\n",
       "      <th>target</th>\n",
       "      <th>category</th>\n",
       "    </tr>\n",
       "  </thead>\n",
       "  <tbody>\n",
       "    <tr>\n",
       "      <th>0</th>\n",
       "      <td>2</td>\n",
       "      <td>pig</td>\n",
       "    </tr>\n",
       "    <tr>\n",
       "      <th>1</th>\n",
       "      <td>34</td>\n",
       "      <td>can_opening</td>\n",
       "    </tr>\n",
       "    <tr>\n",
       "      <th>2</th>\n",
       "      <td>24</td>\n",
       "      <td>coughing</td>\n",
       "    </tr>\n",
       "    <tr>\n",
       "      <th>3</th>\n",
       "      <td>40</td>\n",
       "      <td>helicopter</td>\n",
       "    </tr>\n",
       "    <tr>\n",
       "      <th>4</th>\n",
       "      <td>28</td>\n",
       "      <td>snoring</td>\n",
       "    </tr>\n",
       "  </tbody>\n",
       "</table>\n",
       "</div>"
      ],
      "text/plain": [
       "   target     category\n",
       "0       2          pig\n",
       "1      34  can_opening\n",
       "2      24     coughing\n",
       "3      40   helicopter\n",
       "4      28      snoring"
      ]
     },
     "execution_count": 21,
     "metadata": {},
     "output_type": "execute_result"
    }
   ],
   "source": [
    "dataset.metadata.loc[:, ['target', 'category']].drop_duplicates().reset_index(drop=True)"
   ]
  },
  {
   "cell_type": "code",
   "execution_count": 22,
   "metadata": {},
   "outputs": [],
   "source": [
    "_label_normal = 28\n",
    "indices_normal_all = dataset.label2indices[_label_normal]"
   ]
  },
  {
   "cell_type": "code",
   "execution_count": 23,
   "metadata": {},
   "outputs": [],
   "source": [
    "n_ref = 15"
   ]
  },
  {
   "cell_type": "code",
   "execution_count": 24,
   "metadata": {},
   "outputs": [
    {
     "data": {
      "text/plain": [
       "array([142, 140, 145, 124, 130, 135, 148, 131, 138, 149, 147, 155, 157,\n",
       "       122, 159, 150, 154, 136, 156, 128, 133, 125, 137, 134, 153])"
      ]
     },
     "execution_count": 24,
     "metadata": {},
     "output_type": "execute_result"
    }
   ],
   "source": [
    "# all\n",
    "#indices_abnormal = np.array(list(set(dataset.metadata.index.values) - set(indices_normal_all)))\n",
    "\n",
    "# one class\n",
    "_label_abnormal = 40\n",
    "#indices_abnormal = np.array(list(dataset.label2indices[_label_abnormal]))\n",
    "\n",
    "# a part of one class\n",
    "n_abnormal = 40 - n_ref\n",
    "indices_abnormal = np.random.permutation(dataset.label2indices[_label_abnormal])[:n_abnormal]\n",
    "\n",
    "indices_abnormal"
   ]
  },
  {
   "cell_type": "markdown",
   "metadata": {},
   "source": [
    "## Preparation"
   ]
  },
  {
   "cell_type": "code",
   "execution_count": 25,
   "metadata": {},
   "outputs": [],
   "source": [
    "_indices_ref = np.random.permutation(range(len(indices_normal_all)))[:n_ref]\n",
    "indices_ref = np.array(indices_normal_all)[_indices_ref]"
   ]
  },
  {
   "cell_type": "code",
   "execution_count": 26,
   "metadata": {},
   "outputs": [
    {
     "data": {
      "text/plain": [
       "(15, 128)"
      ]
     },
     "execution_count": 26,
     "metadata": {},
     "output_type": "execute_result"
    }
   ],
   "source": [
    "embeddings_ref = dataset.embeddings[indices_ref]\n",
    "embeddings_ref.shape"
   ]
  },
  {
   "cell_type": "code",
   "execution_count": 27,
   "metadata": {},
   "outputs": [
    {
     "data": {
      "text/plain": [
       "(25, 128)"
      ]
     },
     "execution_count": 27,
     "metadata": {},
     "output_type": "execute_result"
    }
   ],
   "source": [
    "indices_normal = np.array(sorted(list(set(indices_normal_all) - set(indices_ref))))\n",
    "embeddings_normal = dataset.embeddings[indices_normal]\n",
    "embeddings_normal.shape"
   ]
  },
  {
   "cell_type": "code",
   "execution_count": 28,
   "metadata": {},
   "outputs": [
    {
     "data": {
      "text/plain": [
       "(25, 128)"
      ]
     },
     "execution_count": 28,
     "metadata": {},
     "output_type": "execute_result"
    }
   ],
   "source": [
    "embeddings_abnormal = dataset.embeddings[indices_abnormal]\n",
    "embeddings_abnormal.shape"
   ]
  },
  {
   "cell_type": "code",
   "execution_count": 29,
   "metadata": {},
   "outputs": [
    {
     "name": "stdout",
     "output_type": "stream",
     "text": [
      "[1, 1, 1, 1, 1, 1, 1, 1, 1, 1, 1, 1, 1, 1, 1, 1, 1, 1, 1, 1, 1, 1, 1, 1, 1, -1, -1, -1, -1, -1, -1, -1, -1, -1, -1, -1, -1, -1, -1, -1, -1, -1, -1, -1, -1, -1, -1, -1, -1, -1]\n"
     ]
    }
   ],
   "source": [
    "labels = [label_normal]*len(embeddings_normal) + [label_abnormal]*len(embeddings_abnormal)\n",
    "print(labels)"
   ]
  },
  {
   "cell_type": "markdown",
   "metadata": {},
   "source": [
    "## Threshold"
   ]
  },
  {
   "cell_type": "markdown",
   "metadata": {},
   "source": [
    "### Euclid Distance"
   ]
  },
  {
   "cell_type": "code",
   "execution_count": 30,
   "metadata": {},
   "outputs": [],
   "source": [
    "threshold = 0.3"
   ]
  },
  {
   "cell_type": "code",
   "execution_count": 31,
   "metadata": {},
   "outputs": [],
   "source": [
    "data_list = []\n",
    "for embedding in embeddings_normal:\n",
    "    euclid_distances = np.sqrt(np.sum((embedding[np.newaxis, :] - embeddings_ref)**2, axis=1))\n",
    "    data = pd.DataFrame(euclid_distances).describe()\n",
    "    data_list.append(data.to_dict()[0])\n",
    "euclid_distance_statistics_normal = pd.io.json.json_normalize(data_list)"
   ]
  },
  {
   "cell_type": "code",
   "execution_count": 32,
   "metadata": {},
   "outputs": [
    {
     "name": "stdout",
     "output_type": "stream",
     "text": [
      "mean: 0.5671  max: 1.2979  min: 0.0527\n"
     ]
    }
   ],
   "source": [
    "print('mean: {:.4f}  max: {:.4f}  min: {:.4f}'.format(\n",
    "    euclid_distance_statistics_normal['mean'].mean(),\n",
    "    euclid_distance_statistics_normal['max'].max(),\n",
    "    euclid_distance_statistics_normal['min'].min(),\n",
    "    ))"
   ]
  },
  {
   "cell_type": "code",
   "execution_count": 33,
   "metadata": {
    "scrolled": true
   },
   "outputs": [
    {
     "data": {
      "text/html": [
       "<div>\n",
       "<style scoped>\n",
       "    .dataframe tbody tr th:only-of-type {\n",
       "        vertical-align: middle;\n",
       "    }\n",
       "\n",
       "    .dataframe tbody tr th {\n",
       "        vertical-align: top;\n",
       "    }\n",
       "\n",
       "    .dataframe thead th {\n",
       "        text-align: right;\n",
       "    }\n",
       "</style>\n",
       "<table border=\"1\" class=\"dataframe\">\n",
       "  <thead>\n",
       "    <tr style=\"text-align: right;\">\n",
       "      <th></th>\n",
       "      <th>25%</th>\n",
       "      <th>50%</th>\n",
       "      <th>75%</th>\n",
       "      <th>count</th>\n",
       "      <th>max</th>\n",
       "      <th>mean</th>\n",
       "      <th>min</th>\n",
       "      <th>std</th>\n",
       "    </tr>\n",
       "  </thead>\n",
       "  <tbody>\n",
       "    <tr>\n",
       "      <th>0</th>\n",
       "      <td>0.201340</td>\n",
       "      <td>0.513977</td>\n",
       "      <td>0.876741</td>\n",
       "      <td>15.0</td>\n",
       "      <td>1.161479</td>\n",
       "      <td>0.555606</td>\n",
       "      <td>0.134268</td>\n",
       "      <td>0.378833</td>\n",
       "    </tr>\n",
       "    <tr>\n",
       "      <th>1</th>\n",
       "      <td>0.288342</td>\n",
       "      <td>0.715621</td>\n",
       "      <td>0.914429</td>\n",
       "      <td>15.0</td>\n",
       "      <td>1.194572</td>\n",
       "      <td>0.661224</td>\n",
       "      <td>0.107552</td>\n",
       "      <td>0.389264</td>\n",
       "    </tr>\n",
       "    <tr>\n",
       "      <th>2</th>\n",
       "      <td>0.185096</td>\n",
       "      <td>0.412587</td>\n",
       "      <td>0.784638</td>\n",
       "      <td>15.0</td>\n",
       "      <td>1.095555</td>\n",
       "      <td>0.494645</td>\n",
       "      <td>0.116056</td>\n",
       "      <td>0.356001</td>\n",
       "    </tr>\n",
       "    <tr>\n",
       "      <th>3</th>\n",
       "      <td>0.229812</td>\n",
       "      <td>0.396896</td>\n",
       "      <td>0.590661</td>\n",
       "      <td>15.0</td>\n",
       "      <td>0.944771</td>\n",
       "      <td>0.443971</td>\n",
       "      <td>0.087420</td>\n",
       "      <td>0.272064</td>\n",
       "    </tr>\n",
       "    <tr>\n",
       "      <th>4</th>\n",
       "      <td>0.522689</td>\n",
       "      <td>0.636502</td>\n",
       "      <td>0.719550</td>\n",
       "      <td>15.0</td>\n",
       "      <td>0.962553</td>\n",
       "      <td>0.641067</td>\n",
       "      <td>0.376451</td>\n",
       "      <td>0.161673</td>\n",
       "    </tr>\n",
       "    <tr>\n",
       "      <th>5</th>\n",
       "      <td>0.329251</td>\n",
       "      <td>0.459512</td>\n",
       "      <td>0.635534</td>\n",
       "      <td>15.0</td>\n",
       "      <td>0.925438</td>\n",
       "      <td>0.514616</td>\n",
       "      <td>0.177690</td>\n",
       "      <td>0.243116</td>\n",
       "    </tr>\n",
       "    <tr>\n",
       "      <th>6</th>\n",
       "      <td>0.343036</td>\n",
       "      <td>0.661624</td>\n",
       "      <td>1.013195</td>\n",
       "      <td>15.0</td>\n",
       "      <td>1.272601</td>\n",
       "      <td>0.663942</td>\n",
       "      <td>0.131596</td>\n",
       "      <td>0.404980</td>\n",
       "    </tr>\n",
       "    <tr>\n",
       "      <th>7</th>\n",
       "      <td>0.343515</td>\n",
       "      <td>0.660840</td>\n",
       "      <td>1.012378</td>\n",
       "      <td>15.0</td>\n",
       "      <td>1.273263</td>\n",
       "      <td>0.661402</td>\n",
       "      <td>0.118200</td>\n",
       "      <td>0.407671</td>\n",
       "    </tr>\n",
       "    <tr>\n",
       "      <th>8</th>\n",
       "      <td>0.318893</td>\n",
       "      <td>0.622712</td>\n",
       "      <td>0.990928</td>\n",
       "      <td>15.0</td>\n",
       "      <td>1.267396</td>\n",
       "      <td>0.639364</td>\n",
       "      <td>0.120746</td>\n",
       "      <td>0.411175</td>\n",
       "    </tr>\n",
       "    <tr>\n",
       "      <th>9</th>\n",
       "      <td>0.297220</td>\n",
       "      <td>0.581031</td>\n",
       "      <td>0.959556</td>\n",
       "      <td>15.0</td>\n",
       "      <td>1.252412</td>\n",
       "      <td>0.603667</td>\n",
       "      <td>0.078354</td>\n",
       "      <td>0.420469</td>\n",
       "    </tr>\n",
       "    <tr>\n",
       "      <th>10</th>\n",
       "      <td>0.290818</td>\n",
       "      <td>0.486236</td>\n",
       "      <td>0.600335</td>\n",
       "      <td>15.0</td>\n",
       "      <td>0.844627</td>\n",
       "      <td>0.478566</td>\n",
       "      <td>0.133908</td>\n",
       "      <td>0.220205</td>\n",
       "    </tr>\n",
       "    <tr>\n",
       "      <th>11</th>\n",
       "      <td>0.298934</td>\n",
       "      <td>0.403400</td>\n",
       "      <td>0.604666</td>\n",
       "      <td>15.0</td>\n",
       "      <td>0.774395</td>\n",
       "      <td>0.446042</td>\n",
       "      <td>0.096851</td>\n",
       "      <td>0.208263</td>\n",
       "    </tr>\n",
       "    <tr>\n",
       "      <th>12</th>\n",
       "      <td>0.370287</td>\n",
       "      <td>0.691618</td>\n",
       "      <td>1.037104</td>\n",
       "      <td>15.0</td>\n",
       "      <td>1.287214</td>\n",
       "      <td>0.691249</td>\n",
       "      <td>0.163226</td>\n",
       "      <td>0.398890</td>\n",
       "    </tr>\n",
       "    <tr>\n",
       "      <th>13</th>\n",
       "      <td>0.452424</td>\n",
       "      <td>0.870100</td>\n",
       "      <td>1.037188</td>\n",
       "      <td>15.0</td>\n",
       "      <td>1.293381</td>\n",
       "      <td>0.767366</td>\n",
       "      <td>0.058585</td>\n",
       "      <td>0.419280</td>\n",
       "    </tr>\n",
       "    <tr>\n",
       "      <th>14</th>\n",
       "      <td>0.456642</td>\n",
       "      <td>0.873631</td>\n",
       "      <td>1.041529</td>\n",
       "      <td>15.0</td>\n",
       "      <td>1.297888</td>\n",
       "      <td>0.771617</td>\n",
       "      <td>0.059774</td>\n",
       "      <td>0.419485</td>\n",
       "    </tr>\n",
       "    <tr>\n",
       "      <th>15</th>\n",
       "      <td>0.280087</td>\n",
       "      <td>0.522606</td>\n",
       "      <td>0.892450</td>\n",
       "      <td>15.0</td>\n",
       "      <td>1.202749</td>\n",
       "      <td>0.572500</td>\n",
       "      <td>0.089679</td>\n",
       "      <td>0.386655</td>\n",
       "    </tr>\n",
       "    <tr>\n",
       "      <th>16</th>\n",
       "      <td>0.285563</td>\n",
       "      <td>0.569580</td>\n",
       "      <td>0.791568</td>\n",
       "      <td>15.0</td>\n",
       "      <td>1.079711</td>\n",
       "      <td>0.571823</td>\n",
       "      <td>0.052661</td>\n",
       "      <td>0.339705</td>\n",
       "    </tr>\n",
       "    <tr>\n",
       "      <th>17</th>\n",
       "      <td>0.186541</td>\n",
       "      <td>0.334649</td>\n",
       "      <td>0.711681</td>\n",
       "      <td>15.0</td>\n",
       "      <td>1.035219</td>\n",
       "      <td>0.457135</td>\n",
       "      <td>0.063262</td>\n",
       "      <td>0.332816</td>\n",
       "    </tr>\n",
       "    <tr>\n",
       "      <th>18</th>\n",
       "      <td>0.224053</td>\n",
       "      <td>0.333247</td>\n",
       "      <td>0.669544</td>\n",
       "      <td>15.0</td>\n",
       "      <td>1.000934</td>\n",
       "      <td>0.458144</td>\n",
       "      <td>0.126706</td>\n",
       "      <td>0.299399</td>\n",
       "    </tr>\n",
       "    <tr>\n",
       "      <th>19</th>\n",
       "      <td>0.211843</td>\n",
       "      <td>0.364614</td>\n",
       "      <td>0.708711</td>\n",
       "      <td>15.0</td>\n",
       "      <td>1.023455</td>\n",
       "      <td>0.469603</td>\n",
       "      <td>0.101013</td>\n",
       "      <td>0.314779</td>\n",
       "    </tr>\n",
       "    <tr>\n",
       "      <th>20</th>\n",
       "      <td>0.241146</td>\n",
       "      <td>0.368759</td>\n",
       "      <td>0.765388</td>\n",
       "      <td>15.0</td>\n",
       "      <td>1.108718</td>\n",
       "      <td>0.510376</td>\n",
       "      <td>0.175105</td>\n",
       "      <td>0.335237</td>\n",
       "    </tr>\n",
       "    <tr>\n",
       "      <th>21</th>\n",
       "      <td>0.326164</td>\n",
       "      <td>0.430280</td>\n",
       "      <td>0.605749</td>\n",
       "      <td>15.0</td>\n",
       "      <td>0.762897</td>\n",
       "      <td>0.454534</td>\n",
       "      <td>0.139011</td>\n",
       "      <td>0.186030</td>\n",
       "    </tr>\n",
       "    <tr>\n",
       "      <th>22</th>\n",
       "      <td>0.315184</td>\n",
       "      <td>0.608156</td>\n",
       "      <td>0.979167</td>\n",
       "      <td>15.0</td>\n",
       "      <td>1.262047</td>\n",
       "      <td>0.621220</td>\n",
       "      <td>0.077155</td>\n",
       "      <td>0.420870</td>\n",
       "    </tr>\n",
       "    <tr>\n",
       "      <th>23</th>\n",
       "      <td>0.243723</td>\n",
       "      <td>0.335042</td>\n",
       "      <td>0.700556</td>\n",
       "      <td>15.0</td>\n",
       "      <td>1.045987</td>\n",
       "      <td>0.466814</td>\n",
       "      <td>0.090343</td>\n",
       "      <td>0.324144</td>\n",
       "    </tr>\n",
       "    <tr>\n",
       "      <th>24</th>\n",
       "      <td>0.235234</td>\n",
       "      <td>0.520991</td>\n",
       "      <td>0.897550</td>\n",
       "      <td>15.0</td>\n",
       "      <td>1.195870</td>\n",
       "      <td>0.559918</td>\n",
       "      <td>0.071354</td>\n",
       "      <td>0.399674</td>\n",
       "    </tr>\n",
       "  </tbody>\n",
       "</table>\n",
       "</div>"
      ],
      "text/plain": [
       "         25%       50%       75%  count       max      mean       min  \\\n",
       "0   0.201340  0.513977  0.876741   15.0  1.161479  0.555606  0.134268   \n",
       "1   0.288342  0.715621  0.914429   15.0  1.194572  0.661224  0.107552   \n",
       "2   0.185096  0.412587  0.784638   15.0  1.095555  0.494645  0.116056   \n",
       "3   0.229812  0.396896  0.590661   15.0  0.944771  0.443971  0.087420   \n",
       "4   0.522689  0.636502  0.719550   15.0  0.962553  0.641067  0.376451   \n",
       "5   0.329251  0.459512  0.635534   15.0  0.925438  0.514616  0.177690   \n",
       "6   0.343036  0.661624  1.013195   15.0  1.272601  0.663942  0.131596   \n",
       "7   0.343515  0.660840  1.012378   15.0  1.273263  0.661402  0.118200   \n",
       "8   0.318893  0.622712  0.990928   15.0  1.267396  0.639364  0.120746   \n",
       "9   0.297220  0.581031  0.959556   15.0  1.252412  0.603667  0.078354   \n",
       "10  0.290818  0.486236  0.600335   15.0  0.844627  0.478566  0.133908   \n",
       "11  0.298934  0.403400  0.604666   15.0  0.774395  0.446042  0.096851   \n",
       "12  0.370287  0.691618  1.037104   15.0  1.287214  0.691249  0.163226   \n",
       "13  0.452424  0.870100  1.037188   15.0  1.293381  0.767366  0.058585   \n",
       "14  0.456642  0.873631  1.041529   15.0  1.297888  0.771617  0.059774   \n",
       "15  0.280087  0.522606  0.892450   15.0  1.202749  0.572500  0.089679   \n",
       "16  0.285563  0.569580  0.791568   15.0  1.079711  0.571823  0.052661   \n",
       "17  0.186541  0.334649  0.711681   15.0  1.035219  0.457135  0.063262   \n",
       "18  0.224053  0.333247  0.669544   15.0  1.000934  0.458144  0.126706   \n",
       "19  0.211843  0.364614  0.708711   15.0  1.023455  0.469603  0.101013   \n",
       "20  0.241146  0.368759  0.765388   15.0  1.108718  0.510376  0.175105   \n",
       "21  0.326164  0.430280  0.605749   15.0  0.762897  0.454534  0.139011   \n",
       "22  0.315184  0.608156  0.979167   15.0  1.262047  0.621220  0.077155   \n",
       "23  0.243723  0.335042  0.700556   15.0  1.045987  0.466814  0.090343   \n",
       "24  0.235234  0.520991  0.897550   15.0  1.195870  0.559918  0.071354   \n",
       "\n",
       "         std  \n",
       "0   0.378833  \n",
       "1   0.389264  \n",
       "2   0.356001  \n",
       "3   0.272064  \n",
       "4   0.161673  \n",
       "5   0.243116  \n",
       "6   0.404980  \n",
       "7   0.407671  \n",
       "8   0.411175  \n",
       "9   0.420469  \n",
       "10  0.220205  \n",
       "11  0.208263  \n",
       "12  0.398890  \n",
       "13  0.419280  \n",
       "14  0.419485  \n",
       "15  0.386655  \n",
       "16  0.339705  \n",
       "17  0.332816  \n",
       "18  0.299399  \n",
       "19  0.314779  \n",
       "20  0.335237  \n",
       "21  0.186030  \n",
       "22  0.420870  \n",
       "23  0.324144  \n",
       "24  0.399674  "
      ]
     },
     "execution_count": 33,
     "metadata": {},
     "output_type": "execute_result"
    }
   ],
   "source": [
    "euclid_distance_statistics_normal"
   ]
  },
  {
   "cell_type": "code",
   "execution_count": 34,
   "metadata": {},
   "outputs": [],
   "source": [
    "data_list = []\n",
    "for embedding in embeddings_abnormal:\n",
    "    euclid_distances = np.sqrt(np.sum((embedding[np.newaxis, :] - embeddings_ref)**2, axis=1))\n",
    "    data = pd.DataFrame(euclid_distances).describe()\n",
    "    data_list.append(data.to_dict()[0])\n",
    "euclid_distance_statistics_abnormal = pd.io.json.json_normalize(data_list)"
   ]
  },
  {
   "cell_type": "code",
   "execution_count": 35,
   "metadata": {},
   "outputs": [
    {
     "name": "stdout",
     "output_type": "stream",
     "text": [
      "mean: 0.7377  max: 1.3620  min: 0.0884\n"
     ]
    }
   ],
   "source": [
    "print('mean: {:.4f}  max: {:.4f}  min: {:.4f}'.format(\n",
    "    euclid_distance_statistics_abnormal['mean'].mean(),\n",
    "    euclid_distance_statistics_abnormal['max'].max(),\n",
    "    euclid_distance_statistics_abnormal['min'].min(),\n",
    "    ))"
   ]
  },
  {
   "cell_type": "code",
   "execution_count": 36,
   "metadata": {
    "scrolled": true
   },
   "outputs": [
    {
     "data": {
      "text/html": [
       "<div>\n",
       "<style scoped>\n",
       "    .dataframe tbody tr th:only-of-type {\n",
       "        vertical-align: middle;\n",
       "    }\n",
       "\n",
       "    .dataframe tbody tr th {\n",
       "        vertical-align: top;\n",
       "    }\n",
       "\n",
       "    .dataframe thead th {\n",
       "        text-align: right;\n",
       "    }\n",
       "</style>\n",
       "<table border=\"1\" class=\"dataframe\">\n",
       "  <thead>\n",
       "    <tr style=\"text-align: right;\">\n",
       "      <th></th>\n",
       "      <th>25%</th>\n",
       "      <th>50%</th>\n",
       "      <th>75%</th>\n",
       "      <th>count</th>\n",
       "      <th>max</th>\n",
       "      <th>mean</th>\n",
       "      <th>min</th>\n",
       "      <th>std</th>\n",
       "    </tr>\n",
       "  </thead>\n",
       "  <tbody>\n",
       "    <tr>\n",
       "      <th>0</th>\n",
       "      <td>0.527957</td>\n",
       "      <td>0.924430</td>\n",
       "      <td>1.075747</td>\n",
       "      <td>15.0</td>\n",
       "      <td>1.318584</td>\n",
       "      <td>0.822144</td>\n",
       "      <td>0.136851</td>\n",
       "      <td>0.397879</td>\n",
       "    </tr>\n",
       "    <tr>\n",
       "      <th>1</th>\n",
       "      <td>0.438232</td>\n",
       "      <td>0.499948</td>\n",
       "      <td>0.599153</td>\n",
       "      <td>15.0</td>\n",
       "      <td>0.774007</td>\n",
       "      <td>0.526865</td>\n",
       "      <td>0.331705</td>\n",
       "      <td>0.129153</td>\n",
       "    </tr>\n",
       "    <tr>\n",
       "      <th>2</th>\n",
       "      <td>0.297232</td>\n",
       "      <td>0.585064</td>\n",
       "      <td>0.904649</td>\n",
       "      <td>15.0</td>\n",
       "      <td>1.147205</td>\n",
       "      <td>0.615950</td>\n",
       "      <td>0.248825</td>\n",
       "      <td>0.337684</td>\n",
       "    </tr>\n",
       "    <tr>\n",
       "      <th>3</th>\n",
       "      <td>0.603021</td>\n",
       "      <td>0.985279</td>\n",
       "      <td>1.124602</td>\n",
       "      <td>15.0</td>\n",
       "      <td>1.352607</td>\n",
       "      <td>0.880113</td>\n",
       "      <td>0.212024</td>\n",
       "      <td>0.382795</td>\n",
       "    </tr>\n",
       "    <tr>\n",
       "      <th>4</th>\n",
       "      <td>0.608757</td>\n",
       "      <td>0.987612</td>\n",
       "      <td>1.126740</td>\n",
       "      <td>15.0</td>\n",
       "      <td>1.353791</td>\n",
       "      <td>0.884371</td>\n",
       "      <td>0.222367</td>\n",
       "      <td>0.379810</td>\n",
       "    </tr>\n",
       "    <tr>\n",
       "      <th>5</th>\n",
       "      <td>0.541536</td>\n",
       "      <td>0.932658</td>\n",
       "      <td>1.081078</td>\n",
       "      <td>15.0</td>\n",
       "      <td>1.321212</td>\n",
       "      <td>0.830929</td>\n",
       "      <td>0.152956</td>\n",
       "      <td>0.393018</td>\n",
       "    </tr>\n",
       "    <tr>\n",
       "      <th>6</th>\n",
       "      <td>0.386337</td>\n",
       "      <td>0.510385</td>\n",
       "      <td>0.786583</td>\n",
       "      <td>15.0</td>\n",
       "      <td>1.021433</td>\n",
       "      <td>0.570936</td>\n",
       "      <td>0.183405</td>\n",
       "      <td>0.273343</td>\n",
       "    </tr>\n",
       "    <tr>\n",
       "      <th>7</th>\n",
       "      <td>0.626315</td>\n",
       "      <td>1.000717</td>\n",
       "      <td>1.136562</td>\n",
       "      <td>15.0</td>\n",
       "      <td>1.359597</td>\n",
       "      <td>0.897432</td>\n",
       "      <td>0.243486</td>\n",
       "      <td>0.374599</td>\n",
       "    </tr>\n",
       "    <tr>\n",
       "      <th>8</th>\n",
       "      <td>0.342438</td>\n",
       "      <td>0.648909</td>\n",
       "      <td>0.808443</td>\n",
       "      <td>15.0</td>\n",
       "      <td>1.086838</td>\n",
       "      <td>0.635756</td>\n",
       "      <td>0.253908</td>\n",
       "      <td>0.295960</td>\n",
       "    </tr>\n",
       "    <tr>\n",
       "      <th>9</th>\n",
       "      <td>0.392179</td>\n",
       "      <td>0.499515</td>\n",
       "      <td>0.760304</td>\n",
       "      <td>15.0</td>\n",
       "      <td>0.991561</td>\n",
       "      <td>0.560472</td>\n",
       "      <td>0.176704</td>\n",
       "      <td>0.259887</td>\n",
       "    </tr>\n",
       "    <tr>\n",
       "      <th>10</th>\n",
       "      <td>0.328562</td>\n",
       "      <td>0.584181</td>\n",
       "      <td>0.896666</td>\n",
       "      <td>15.0</td>\n",
       "      <td>1.134756</td>\n",
       "      <td>0.619486</td>\n",
       "      <td>0.243045</td>\n",
       "      <td>0.326061</td>\n",
       "    </tr>\n",
       "    <tr>\n",
       "      <th>11</th>\n",
       "      <td>0.460525</td>\n",
       "      <td>0.856204</td>\n",
       "      <td>1.020510</td>\n",
       "      <td>15.0</td>\n",
       "      <td>1.278205</td>\n",
       "      <td>0.768007</td>\n",
       "      <td>0.103004</td>\n",
       "      <td>0.398847</td>\n",
       "    </tr>\n",
       "    <tr>\n",
       "      <th>12</th>\n",
       "      <td>0.280611</td>\n",
       "      <td>0.712817</td>\n",
       "      <td>0.903250</td>\n",
       "      <td>15.0</td>\n",
       "      <td>1.176266</td>\n",
       "      <td>0.651800</td>\n",
       "      <td>0.091588</td>\n",
       "      <td>0.383070</td>\n",
       "    </tr>\n",
       "    <tr>\n",
       "      <th>13</th>\n",
       "      <td>0.635683</td>\n",
       "      <td>1.008496</td>\n",
       "      <td>1.141753</td>\n",
       "      <td>15.0</td>\n",
       "      <td>1.362034</td>\n",
       "      <td>0.903996</td>\n",
       "      <td>0.253776</td>\n",
       "      <td>0.372050</td>\n",
       "    </tr>\n",
       "    <tr>\n",
       "      <th>14</th>\n",
       "      <td>0.399615</td>\n",
       "      <td>0.480457</td>\n",
       "      <td>0.631214</td>\n",
       "      <td>15.0</td>\n",
       "      <td>0.873845</td>\n",
       "      <td>0.528013</td>\n",
       "      <td>0.224098</td>\n",
       "      <td>0.195317</td>\n",
       "    </tr>\n",
       "    <tr>\n",
       "      <th>15</th>\n",
       "      <td>0.547824</td>\n",
       "      <td>0.940330</td>\n",
       "      <td>1.088911</td>\n",
       "      <td>15.0</td>\n",
       "      <td>1.328655</td>\n",
       "      <td>0.837512</td>\n",
       "      <td>0.154048</td>\n",
       "      <td>0.394686</td>\n",
       "    </tr>\n",
       "    <tr>\n",
       "      <th>16</th>\n",
       "      <td>0.526849</td>\n",
       "      <td>0.929034</td>\n",
       "      <td>1.081021</td>\n",
       "      <td>15.0</td>\n",
       "      <td>1.324426</td>\n",
       "      <td>0.823716</td>\n",
       "      <td>0.128964</td>\n",
       "      <td>0.402725</td>\n",
       "    </tr>\n",
       "    <tr>\n",
       "      <th>17</th>\n",
       "      <td>0.394881</td>\n",
       "      <td>0.542767</td>\n",
       "      <td>0.681282</td>\n",
       "      <td>15.0</td>\n",
       "      <td>0.961812</td>\n",
       "      <td>0.585448</td>\n",
       "      <td>0.326792</td>\n",
       "      <td>0.211548</td>\n",
       "    </tr>\n",
       "    <tr>\n",
       "      <th>18</th>\n",
       "      <td>0.473182</td>\n",
       "      <td>0.874116</td>\n",
       "      <td>1.035038</td>\n",
       "      <td>15.0</td>\n",
       "      <td>1.289587</td>\n",
       "      <td>0.777692</td>\n",
       "      <td>0.088392</td>\n",
       "      <td>0.405482</td>\n",
       "    </tr>\n",
       "    <tr>\n",
       "      <th>19</th>\n",
       "      <td>0.450599</td>\n",
       "      <td>0.798318</td>\n",
       "      <td>0.938725</td>\n",
       "      <td>15.0</td>\n",
       "      <td>1.189067</td>\n",
       "      <td>0.730382</td>\n",
       "      <td>0.206314</td>\n",
       "      <td>0.337308</td>\n",
       "    </tr>\n",
       "    <tr>\n",
       "      <th>20</th>\n",
       "      <td>0.525811</td>\n",
       "      <td>0.918297</td>\n",
       "      <td>1.069512</td>\n",
       "      <td>15.0</td>\n",
       "      <td>1.313015</td>\n",
       "      <td>0.818527</td>\n",
       "      <td>0.140084</td>\n",
       "      <td>0.394773</td>\n",
       "    </tr>\n",
       "    <tr>\n",
       "      <th>21</th>\n",
       "      <td>0.607593</td>\n",
       "      <td>0.987846</td>\n",
       "      <td>1.126267</td>\n",
       "      <td>15.0</td>\n",
       "      <td>1.353214</td>\n",
       "      <td>0.883253</td>\n",
       "      <td>0.219643</td>\n",
       "      <td>0.380653</td>\n",
       "    </tr>\n",
       "    <tr>\n",
       "      <th>22</th>\n",
       "      <td>0.353048</td>\n",
       "      <td>0.663000</td>\n",
       "      <td>0.813071</td>\n",
       "      <td>15.0</td>\n",
       "      <td>1.085445</td>\n",
       "      <td>0.641230</td>\n",
       "      <td>0.257106</td>\n",
       "      <td>0.293147</td>\n",
       "    </tr>\n",
       "    <tr>\n",
       "      <th>23</th>\n",
       "      <td>0.528251</td>\n",
       "      <td>0.916963</td>\n",
       "      <td>1.066205</td>\n",
       "      <td>15.0</td>\n",
       "      <td>1.308316</td>\n",
       "      <td>0.818319</td>\n",
       "      <td>0.150174</td>\n",
       "      <td>0.390215</td>\n",
       "    </tr>\n",
       "    <tr>\n",
       "      <th>24</th>\n",
       "      <td>0.535376</td>\n",
       "      <td>0.934859</td>\n",
       "      <td>1.086242</td>\n",
       "      <td>15.0</td>\n",
       "      <td>1.328626</td>\n",
       "      <td>0.829858</td>\n",
       "      <td>0.133362</td>\n",
       "      <td>0.401708</td>\n",
       "    </tr>\n",
       "  </tbody>\n",
       "</table>\n",
       "</div>"
      ],
      "text/plain": [
       "         25%       50%       75%  count       max      mean       min  \\\n",
       "0   0.527957  0.924430  1.075747   15.0  1.318584  0.822144  0.136851   \n",
       "1   0.438232  0.499948  0.599153   15.0  0.774007  0.526865  0.331705   \n",
       "2   0.297232  0.585064  0.904649   15.0  1.147205  0.615950  0.248825   \n",
       "3   0.603021  0.985279  1.124602   15.0  1.352607  0.880113  0.212024   \n",
       "4   0.608757  0.987612  1.126740   15.0  1.353791  0.884371  0.222367   \n",
       "5   0.541536  0.932658  1.081078   15.0  1.321212  0.830929  0.152956   \n",
       "6   0.386337  0.510385  0.786583   15.0  1.021433  0.570936  0.183405   \n",
       "7   0.626315  1.000717  1.136562   15.0  1.359597  0.897432  0.243486   \n",
       "8   0.342438  0.648909  0.808443   15.0  1.086838  0.635756  0.253908   \n",
       "9   0.392179  0.499515  0.760304   15.0  0.991561  0.560472  0.176704   \n",
       "10  0.328562  0.584181  0.896666   15.0  1.134756  0.619486  0.243045   \n",
       "11  0.460525  0.856204  1.020510   15.0  1.278205  0.768007  0.103004   \n",
       "12  0.280611  0.712817  0.903250   15.0  1.176266  0.651800  0.091588   \n",
       "13  0.635683  1.008496  1.141753   15.0  1.362034  0.903996  0.253776   \n",
       "14  0.399615  0.480457  0.631214   15.0  0.873845  0.528013  0.224098   \n",
       "15  0.547824  0.940330  1.088911   15.0  1.328655  0.837512  0.154048   \n",
       "16  0.526849  0.929034  1.081021   15.0  1.324426  0.823716  0.128964   \n",
       "17  0.394881  0.542767  0.681282   15.0  0.961812  0.585448  0.326792   \n",
       "18  0.473182  0.874116  1.035038   15.0  1.289587  0.777692  0.088392   \n",
       "19  0.450599  0.798318  0.938725   15.0  1.189067  0.730382  0.206314   \n",
       "20  0.525811  0.918297  1.069512   15.0  1.313015  0.818527  0.140084   \n",
       "21  0.607593  0.987846  1.126267   15.0  1.353214  0.883253  0.219643   \n",
       "22  0.353048  0.663000  0.813071   15.0  1.085445  0.641230  0.257106   \n",
       "23  0.528251  0.916963  1.066205   15.0  1.308316  0.818319  0.150174   \n",
       "24  0.535376  0.934859  1.086242   15.0  1.328626  0.829858  0.133362   \n",
       "\n",
       "         std  \n",
       "0   0.397879  \n",
       "1   0.129153  \n",
       "2   0.337684  \n",
       "3   0.382795  \n",
       "4   0.379810  \n",
       "5   0.393018  \n",
       "6   0.273343  \n",
       "7   0.374599  \n",
       "8   0.295960  \n",
       "9   0.259887  \n",
       "10  0.326061  \n",
       "11  0.398847  \n",
       "12  0.383070  \n",
       "13  0.372050  \n",
       "14  0.195317  \n",
       "15  0.394686  \n",
       "16  0.402725  \n",
       "17  0.211548  \n",
       "18  0.405482  \n",
       "19  0.337308  \n",
       "20  0.394773  \n",
       "21  0.380653  \n",
       "22  0.293147  \n",
       "23  0.390215  \n",
       "24  0.401708  "
      ]
     },
     "execution_count": 36,
     "metadata": {},
     "output_type": "execute_result"
    }
   ],
   "source": [
    "euclid_distance_statistics_abnormal"
   ]
  },
  {
   "cell_type": "markdown",
   "metadata": {},
   "source": [
    "#### Score and Predict"
   ]
  },
  {
   "cell_type": "code",
   "execution_count": 37,
   "metadata": {},
   "outputs": [],
   "source": [
    "column_name = 'mean'\n",
    "scores = (\n",
    "    list(euclid_distance_statistics_normal[column_name].values)\n",
    "    + list(euclid_distance_statistics_abnormal[column_name].values)\n",
    "    )"
   ]
  },
  {
   "cell_type": "code",
   "execution_count": 38,
   "metadata": {},
   "outputs": [],
   "source": [
    "preds = [\n",
    "    label_normal\n",
    "    if (score < threshold)\n",
    "    else label_abnormal\n",
    "    for score in scores\n",
    "    ]"
   ]
  },
  {
   "cell_type": "code",
   "execution_count": 39,
   "metadata": {},
   "outputs": [],
   "source": [
    "scores = [-score for score in scores]"
   ]
  },
  {
   "cell_type": "markdown",
   "metadata": {},
   "source": [
    "#### Evaluate"
   ]
  },
  {
   "cell_type": "code",
   "execution_count": 40,
   "metadata": {},
   "outputs": [
    {
     "name": "stdout",
     "output_type": "stream",
     "text": [
      "#Pred Normal: 0\n"
     ]
    }
   ],
   "source": [
    "print('#Pred Normal: {}'.format(preds.count(1)))"
   ]
  },
  {
   "cell_type": "code",
   "execution_count": 41,
   "metadata": {},
   "outputs": [
    {
     "name": "stdout",
     "output_type": "stream",
     "text": [
      "Acc: 0.5000  Precision: 0.0000  Recall: 0.0000  F1: 0.000000\n",
      "Confusion Matrix\n",
      "[[25  0]\n",
      " [25  0]]\n"
     ]
    },
    {
     "name": "stderr",
     "output_type": "stream",
     "text": [
      "/home/morita/.conda/envs/morita/lib/python3.7/site-packages/sklearn/metrics/classification.py:1143: UndefinedMetricWarning: Precision is ill-defined and being set to 0.0 due to no predicted samples.\n",
      "  'precision', 'predicted', average, warn_for)\n",
      "/home/morita/.conda/envs/morita/lib/python3.7/site-packages/sklearn/metrics/classification.py:1143: UndefinedMetricWarning: F-score is ill-defined and being set to 0.0 due to no predicted samples.\n",
      "  'precision', 'predicted', average, warn_for)\n"
     ]
    }
   ],
   "source": [
    "evaluate_bc(labels, preds)"
   ]
  },
  {
   "cell_type": "code",
   "execution_count": 42,
   "metadata": {},
   "outputs": [
    {
     "name": "stdout",
     "output_type": "stream",
     "text": [
      "AUC: 0.8352\n"
     ]
    },
    {
     "data": {
      "image/png": "[encoded data removed]",
      "text/plain": [
       "<Figure size 432x288 with 1 Axes>"
      ]
     },
     "metadata": {
      "needs_background": "light"
     },
     "output_type": "display_data"
    }
   ],
   "source": [
    "# AUROC\n",
    "\n",
    "fpr, tpr, _ = metrics.roc_curve(labels, scores)\n",
    "auc = metrics.auc(fpr, tpr)\n",
    "print('AUC: {:.4f}'.format(auc))\n",
    "\n",
    "plt.plot(fpr, tpr, label='AUC = {:.2f}'.format(auc))\n",
    "plt.legend()\n",
    "plt.title('ROC curve')\n",
    "plt.xlabel('False Positive Rate')\n",
    "plt.ylabel('True Positive Rate')\n",
    "plt.grid(True)\n",
    "plt.show()"
   ]
  },
  {
   "cell_type": "markdown",
   "metadata": {},
   "source": [
    "### Cosine Similarity"
   ]
  },
  {
   "cell_type": "markdown",
   "metadata": {},
   "source": [
    "#### Watch Data"
   ]
  },
  {
   "cell_type": "code",
   "execution_count": 43,
   "metadata": {},
   "outputs": [],
   "source": [
    "threshold = 0.7"
   ]
  },
  {
   "cell_type": "code",
   "execution_count": 44,
   "metadata": {},
   "outputs": [],
   "source": [
    "data_list = []\n",
    "for embedding in embeddings_normal:\n",
    "    cosine_similarities = embeddings_ref.dot(embedding)\n",
    "    data = pd.DataFrame(cosine_similarities).describe()\n",
    "    data_list.append(data.to_dict()[0])\n",
    "cosine_similarity_statistics_normal = pd.io.json.json_normalize(data_list)"
   ]
  },
  {
   "cell_type": "code",
   "execution_count": 45,
   "metadata": {},
   "outputs": [
    {
     "name": "stdout",
     "output_type": "stream",
     "text": [
      "mean: 0.7781  max: 0.9986  min: 0.1577\n"
     ]
    }
   ],
   "source": [
    "print('mean: {:.4f}  max: {:.4f}  min: {:.4f}'.format(\n",
    "    cosine_similarity_statistics_normal['mean'].mean(),\n",
    "    cosine_similarity_statistics_normal['max'].max(),\n",
    "    cosine_similarity_statistics_normal['min'].min(),\n",
    "    ))"
   ]
  },
  {
   "cell_type": "code",
   "execution_count": 46,
   "metadata": {
    "scrolled": false
   },
   "outputs": [
    {
     "data": {
      "text/html": [
       "<div>\n",
       "<style scoped>\n",
       "    .dataframe tbody tr th:only-of-type {\n",
       "        vertical-align: middle;\n",
       "    }\n",
       "\n",
       "    .dataframe tbody tr th {\n",
       "        vertical-align: top;\n",
       "    }\n",
       "\n",
       "    .dataframe thead th {\n",
       "        text-align: right;\n",
       "    }\n",
       "</style>\n",
       "<table border=\"1\" class=\"dataframe\">\n",
       "  <thead>\n",
       "    <tr style=\"text-align: right;\">\n",
       "      <th></th>\n",
       "      <th>25%</th>\n",
       "      <th>50%</th>\n",
       "      <th>75%</th>\n",
       "      <th>count</th>\n",
       "      <th>max</th>\n",
       "      <th>mean</th>\n",
       "      <th>min</th>\n",
       "      <th>std</th>\n",
       "    </tr>\n",
       "  </thead>\n",
       "  <tbody>\n",
       "    <tr>\n",
       "      <th>0</th>\n",
       "      <td>0.612694</td>\n",
       "      <td>0.867914</td>\n",
       "      <td>0.979728</td>\n",
       "      <td>15.0</td>\n",
       "      <td>0.990986</td>\n",
       "      <td>0.778678</td>\n",
       "      <td>0.325484</td>\n",
       "      <td>0.243470</td>\n",
       "    </tr>\n",
       "    <tr>\n",
       "      <th>1</th>\n",
       "      <td>0.581696</td>\n",
       "      <td>0.743943</td>\n",
       "      <td>0.953366</td>\n",
       "      <td>15.0</td>\n",
       "      <td>0.994216</td>\n",
       "      <td>0.710679</td>\n",
       "      <td>0.286498</td>\n",
       "      <td>0.249577</td>\n",
       "    </tr>\n",
       "    <tr>\n",
       "      <th>2</th>\n",
       "      <td>0.688613</td>\n",
       "      <td>0.914886</td>\n",
       "      <td>0.982841</td>\n",
       "      <td>15.0</td>\n",
       "      <td>0.993266</td>\n",
       "      <td>0.818519</td>\n",
       "      <td>0.399880</td>\n",
       "      <td>0.214541</td>\n",
       "    </tr>\n",
       "    <tr>\n",
       "      <th>3</th>\n",
       "      <td>0.822202</td>\n",
       "      <td>0.921237</td>\n",
       "      <td>0.973407</td>\n",
       "      <td>15.0</td>\n",
       "      <td>0.996179</td>\n",
       "      <td>0.866903</td>\n",
       "      <td>0.553704</td>\n",
       "      <td>0.145612</td>\n",
       "    </tr>\n",
       "    <tr>\n",
       "      <th>4</th>\n",
       "      <td>0.741062</td>\n",
       "      <td>0.797432</td>\n",
       "      <td>0.863163</td>\n",
       "      <td>15.0</td>\n",
       "      <td>0.929142</td>\n",
       "      <td>0.782318</td>\n",
       "      <td>0.536745</td>\n",
       "      <td>0.110997</td>\n",
       "    </tr>\n",
       "    <tr>\n",
       "      <th>5</th>\n",
       "      <td>0.797952</td>\n",
       "      <td>0.894424</td>\n",
       "      <td>0.944739</td>\n",
       "      <td>15.0</td>\n",
       "      <td>0.984213</td>\n",
       "      <td>0.840002</td>\n",
       "      <td>0.571782</td>\n",
       "      <td>0.134904</td>\n",
       "    </tr>\n",
       "    <tr>\n",
       "      <th>6</th>\n",
       "      <td>0.484033</td>\n",
       "      <td>0.781126</td>\n",
       "      <td>0.941072</td>\n",
       "      <td>15.0</td>\n",
       "      <td>0.991341</td>\n",
       "      <td>0.703053</td>\n",
       "      <td>0.190243</td>\n",
       "      <td>0.291353</td>\n",
       "    </tr>\n",
       "    <tr>\n",
       "      <th>7</th>\n",
       "      <td>0.484822</td>\n",
       "      <td>0.781645</td>\n",
       "      <td>0.940898</td>\n",
       "      <td>15.0</td>\n",
       "      <td>0.993014</td>\n",
       "      <td>0.703716</td>\n",
       "      <td>0.189400</td>\n",
       "      <td>0.291748</td>\n",
       "    </tr>\n",
       "    <tr>\n",
       "      <th>8</th>\n",
       "      <td>0.506097</td>\n",
       "      <td>0.806115</td>\n",
       "      <td>0.949023</td>\n",
       "      <td>15.0</td>\n",
       "      <td>0.992710</td>\n",
       "      <td>0.716710</td>\n",
       "      <td>0.196854</td>\n",
       "      <td>0.289343</td>\n",
       "    </tr>\n",
       "    <tr>\n",
       "      <th>9</th>\n",
       "      <td>0.536348</td>\n",
       "      <td>0.831201</td>\n",
       "      <td>0.955485</td>\n",
       "      <td>15.0</td>\n",
       "      <td>0.996930</td>\n",
       "      <td>0.735289</td>\n",
       "      <td>0.215732</td>\n",
       "      <td>0.283117</td>\n",
       "    </tr>\n",
       "    <tr>\n",
       "      <th>10</th>\n",
       "      <td>0.819536</td>\n",
       "      <td>0.881787</td>\n",
       "      <td>0.957015</td>\n",
       "      <td>15.0</td>\n",
       "      <td>0.991034</td>\n",
       "      <td>0.862859</td>\n",
       "      <td>0.643303</td>\n",
       "      <td>0.108244</td>\n",
       "    </tr>\n",
       "    <tr>\n",
       "      <th>11</th>\n",
       "      <td>0.817067</td>\n",
       "      <td>0.918634</td>\n",
       "      <td>0.955316</td>\n",
       "      <td>15.0</td>\n",
       "      <td>0.995310</td>\n",
       "      <td>0.880282</td>\n",
       "      <td>0.700156</td>\n",
       "      <td>0.094810</td>\n",
       "    </tr>\n",
       "    <tr>\n",
       "      <th>12</th>\n",
       "      <td>0.459679</td>\n",
       "      <td>0.760832</td>\n",
       "      <td>0.931371</td>\n",
       "      <td>15.0</td>\n",
       "      <td>0.986679</td>\n",
       "      <td>0.686835</td>\n",
       "      <td>0.171540</td>\n",
       "      <td>0.296522</td>\n",
       "    </tr>\n",
       "    <tr>\n",
       "      <th>13</th>\n",
       "      <td>0.462002</td>\n",
       "      <td>0.621463</td>\n",
       "      <td>0.892782</td>\n",
       "      <td>15.0</td>\n",
       "      <td>0.998284</td>\n",
       "      <td>0.623537</td>\n",
       "      <td>0.163583</td>\n",
       "      <td>0.290955</td>\n",
       "    </tr>\n",
       "    <tr>\n",
       "      <th>14</th>\n",
       "      <td>0.457484</td>\n",
       "      <td>0.618384</td>\n",
       "      <td>0.890925</td>\n",
       "      <td>15.0</td>\n",
       "      <td>0.998213</td>\n",
       "      <td>0.620185</td>\n",
       "      <td>0.157743</td>\n",
       "      <td>0.292795</td>\n",
       "    </tr>\n",
       "    <tr>\n",
       "      <th>15</th>\n",
       "      <td>0.598170</td>\n",
       "      <td>0.863442</td>\n",
       "      <td>0.960173</td>\n",
       "      <td>15.0</td>\n",
       "      <td>0.995979</td>\n",
       "      <td>0.766355</td>\n",
       "      <td>0.276698</td>\n",
       "      <td>0.256857</td>\n",
       "    </tr>\n",
       "    <tr>\n",
       "      <th>16</th>\n",
       "      <td>0.686573</td>\n",
       "      <td>0.837789</td>\n",
       "      <td>0.958969</td>\n",
       "      <td>15.0</td>\n",
       "      <td>0.998613</td>\n",
       "      <td>0.782656</td>\n",
       "      <td>0.417112</td>\n",
       "      <td>0.199894</td>\n",
       "    </tr>\n",
       "    <tr>\n",
       "      <th>17</th>\n",
       "      <td>0.743077</td>\n",
       "      <td>0.944005</td>\n",
       "      <td>0.982048</td>\n",
       "      <td>15.0</td>\n",
       "      <td>0.997999</td>\n",
       "      <td>0.843823</td>\n",
       "      <td>0.464161</td>\n",
       "      <td>0.188101</td>\n",
       "    </tr>\n",
       "    <tr>\n",
       "      <th>18</th>\n",
       "      <td>0.772031</td>\n",
       "      <td>0.944473</td>\n",
       "      <td>0.974028</td>\n",
       "      <td>15.0</td>\n",
       "      <td>0.991973</td>\n",
       "      <td>0.853220</td>\n",
       "      <td>0.499065</td>\n",
       "      <td>0.170672</td>\n",
       "    </tr>\n",
       "    <tr>\n",
       "      <th>19</th>\n",
       "      <td>0.745313</td>\n",
       "      <td>0.933528</td>\n",
       "      <td>0.977481</td>\n",
       "      <td>15.0</td>\n",
       "      <td>0.994898</td>\n",
       "      <td>0.843496</td>\n",
       "      <td>0.476269</td>\n",
       "      <td>0.181498</td>\n",
       "    </tr>\n",
       "    <tr>\n",
       "      <th>20</th>\n",
       "      <td>0.702861</td>\n",
       "      <td>0.932008</td>\n",
       "      <td>0.970876</td>\n",
       "      <td>15.0</td>\n",
       "      <td>0.984669</td>\n",
       "      <td>0.817312</td>\n",
       "      <td>0.385373</td>\n",
       "      <td>0.213298</td>\n",
       "    </tr>\n",
       "    <tr>\n",
       "      <th>21</th>\n",
       "      <td>0.816315</td>\n",
       "      <td>0.907429</td>\n",
       "      <td>0.945802</td>\n",
       "      <td>15.0</td>\n",
       "      <td>0.990338</td>\n",
       "      <td>0.880549</td>\n",
       "      <td>0.708994</td>\n",
       "      <td>0.087158</td>\n",
       "    </tr>\n",
       "    <tr>\n",
       "      <th>22</th>\n",
       "      <td>0.517466</td>\n",
       "      <td>0.815073</td>\n",
       "      <td>0.950046</td>\n",
       "      <td>15.0</td>\n",
       "      <td>0.997024</td>\n",
       "      <td>0.724382</td>\n",
       "      <td>0.203619</td>\n",
       "      <td>0.287787</td>\n",
       "    </tr>\n",
       "    <tr>\n",
       "      <th>23</th>\n",
       "      <td>0.750440</td>\n",
       "      <td>0.943873</td>\n",
       "      <td>0.970093</td>\n",
       "      <td>15.0</td>\n",
       "      <td>0.995919</td>\n",
       "      <td>0.842010</td>\n",
       "      <td>0.452956</td>\n",
       "      <td>0.189194</td>\n",
       "    </tr>\n",
       "    <tr>\n",
       "      <th>24</th>\n",
       "      <td>0.593822</td>\n",
       "      <td>0.864284</td>\n",
       "      <td>0.971748</td>\n",
       "      <td>15.0</td>\n",
       "      <td>0.997454</td>\n",
       "      <td>0.768701</td>\n",
       "      <td>0.284948</td>\n",
       "      <td>0.258249</td>\n",
       "    </tr>\n",
       "  </tbody>\n",
       "</table>\n",
       "</div>"
      ],
      "text/plain": [
       "         25%       50%       75%  count       max      mean       min  \\\n",
       "0   0.612694  0.867914  0.979728   15.0  0.990986  0.778678  0.325484   \n",
       "1   0.581696  0.743943  0.953366   15.0  0.994216  0.710679  0.286498   \n",
       "2   0.688613  0.914886  0.982841   15.0  0.993266  0.818519  0.399880   \n",
       "3   0.822202  0.921237  0.973407   15.0  0.996179  0.866903  0.553704   \n",
       "4   0.741062  0.797432  0.863163   15.0  0.929142  0.782318  0.536745   \n",
       "5   0.797952  0.894424  0.944739   15.0  0.984213  0.840002  0.571782   \n",
       "6   0.484033  0.781126  0.941072   15.0  0.991341  0.703053  0.190243   \n",
       "7   0.484822  0.781645  0.940898   15.0  0.993014  0.703716  0.189400   \n",
       "8   0.506097  0.806115  0.949023   15.0  0.992710  0.716710  0.196854   \n",
       "9   0.536348  0.831201  0.955485   15.0  0.996930  0.735289  0.215732   \n",
       "10  0.819536  0.881787  0.957015   15.0  0.991034  0.862859  0.643303   \n",
       "11  0.817067  0.918634  0.955316   15.0  0.995310  0.880282  0.700156   \n",
       "12  0.459679  0.760832  0.931371   15.0  0.986679  0.686835  0.171540   \n",
       "13  0.462002  0.621463  0.892782   15.0  0.998284  0.623537  0.163583   \n",
       "14  0.457484  0.618384  0.890925   15.0  0.998213  0.620185  0.157743   \n",
       "15  0.598170  0.863442  0.960173   15.0  0.995979  0.766355  0.276698   \n",
       "16  0.686573  0.837789  0.958969   15.0  0.998613  0.782656  0.417112   \n",
       "17  0.743077  0.944005  0.982048   15.0  0.997999  0.843823  0.464161   \n",
       "18  0.772031  0.944473  0.974028   15.0  0.991973  0.853220  0.499065   \n",
       "19  0.745313  0.933528  0.977481   15.0  0.994898  0.843496  0.476269   \n",
       "20  0.702861  0.932008  0.970876   15.0  0.984669  0.817312  0.385373   \n",
       "21  0.816315  0.907429  0.945802   15.0  0.990338  0.880549  0.708994   \n",
       "22  0.517466  0.815073  0.950046   15.0  0.997024  0.724382  0.203619   \n",
       "23  0.750440  0.943873  0.970093   15.0  0.995919  0.842010  0.452956   \n",
       "24  0.593822  0.864284  0.971748   15.0  0.997454  0.768701  0.284948   \n",
       "\n",
       "         std  \n",
       "0   0.243470  \n",
       "1   0.249577  \n",
       "2   0.214541  \n",
       "3   0.145612  \n",
       "4   0.110997  \n",
       "5   0.134904  \n",
       "6   0.291353  \n",
       "7   0.291748  \n",
       "8   0.289343  \n",
       "9   0.283117  \n",
       "10  0.108244  \n",
       "11  0.094810  \n",
       "12  0.296522  \n",
       "13  0.290955  \n",
       "14  0.292795  \n",
       "15  0.256857  \n",
       "16  0.199894  \n",
       "17  0.188101  \n",
       "18  0.170672  \n",
       "19  0.181498  \n",
       "20  0.213298  \n",
       "21  0.087158  \n",
       "22  0.287787  \n",
       "23  0.189194  \n",
       "24  0.258249  "
      ]
     },
     "execution_count": 46,
     "metadata": {},
     "output_type": "execute_result"
    }
   ],
   "source": [
    "cosine_similarity_statistics_normal"
   ]
  },
  {
   "cell_type": "code",
   "execution_count": 47,
   "metadata": {},
   "outputs": [],
   "source": [
    "data_list = []\n",
    "for embedding in embeddings_abnormal:\n",
    "    cosine_similarities = embeddings_ref.dot(embedding)\n",
    "    data = pd.DataFrame(cosine_similarities).describe()\n",
    "    data_list.append(data.to_dict()[0])\n",
    "cosine_similarity_statistics_abnormal = pd.io.json.json_normalize(data_list)"
   ]
  },
  {
   "cell_type": "code",
   "execution_count": 48,
   "metadata": {},
   "outputs": [
    {
     "name": "stdout",
     "output_type": "stream",
     "text": [
      "mean: 0.6633  max: 0.9961  min: 0.0724\n"
     ]
    }
   ],
   "source": [
    "print('mean: {:.4f}  max: {:.4f}  min: {:.4f}'.format(\n",
    "    cosine_similarity_statistics_abnormal['mean'].mean(),\n",
    "    cosine_similarity_statistics_abnormal['max'].max(),\n",
    "    cosine_similarity_statistics_abnormal['min'].min(),\n",
    "    ))"
   ]
  },
  {
   "cell_type": "code",
   "execution_count": 49,
   "metadata": {
    "scrolled": true
   },
   "outputs": [
    {
     "data": {
      "text/html": [
       "<div>\n",
       "<style scoped>\n",
       "    .dataframe tbody tr th:only-of-type {\n",
       "        vertical-align: middle;\n",
       "    }\n",
       "\n",
       "    .dataframe tbody tr th {\n",
       "        vertical-align: top;\n",
       "    }\n",
       "\n",
       "    .dataframe thead th {\n",
       "        text-align: right;\n",
       "    }\n",
       "</style>\n",
       "<table border=\"1\" class=\"dataframe\">\n",
       "  <thead>\n",
       "    <tr style=\"text-align: right;\">\n",
       "      <th></th>\n",
       "      <th>25%</th>\n",
       "      <th>50%</th>\n",
       "      <th>75%</th>\n",
       "      <th>count</th>\n",
       "      <th>max</th>\n",
       "      <th>mean</th>\n",
       "      <th>min</th>\n",
       "      <th>std</th>\n",
       "    </tr>\n",
       "  </thead>\n",
       "  <tbody>\n",
       "    <tr>\n",
       "      <th>0</th>\n",
       "      <td>0.421301</td>\n",
       "      <td>0.572715</td>\n",
       "      <td>0.856246</td>\n",
       "      <td>15.0</td>\n",
       "      <td>0.990636</td>\n",
       "      <td>0.588163</td>\n",
       "      <td>0.130668</td>\n",
       "      <td>0.297188</td>\n",
       "    </tr>\n",
       "    <tr>\n",
       "      <th>1</th>\n",
       "      <td>0.820393</td>\n",
       "      <td>0.875026</td>\n",
       "      <td>0.903976</td>\n",
       "      <td>15.0</td>\n",
       "      <td>0.944986</td>\n",
       "      <td>0.853423</td>\n",
       "      <td>0.700457</td>\n",
       "      <td>0.073257</td>\n",
       "    </tr>\n",
       "    <tr>\n",
       "      <th>2</th>\n",
       "      <td>0.588587</td>\n",
       "      <td>0.828850</td>\n",
       "      <td>0.955826</td>\n",
       "      <td>15.0</td>\n",
       "      <td>0.969043</td>\n",
       "      <td>0.757089</td>\n",
       "      <td>0.341961</td>\n",
       "      <td>0.231928</td>\n",
       "    </tr>\n",
       "    <tr>\n",
       "      <th>3</th>\n",
       "      <td>0.367600</td>\n",
       "      <td>0.514613</td>\n",
       "      <td>0.814025</td>\n",
       "      <td>15.0</td>\n",
       "      <td>0.977523</td>\n",
       "      <td>0.544319</td>\n",
       "      <td>0.085227</td>\n",
       "      <td>0.306598</td>\n",
       "    </tr>\n",
       "    <tr>\n",
       "      <th>4</th>\n",
       "      <td>0.365196</td>\n",
       "      <td>0.512312</td>\n",
       "      <td>0.810574</td>\n",
       "      <td>15.0</td>\n",
       "      <td>0.975276</td>\n",
       "      <td>0.541625</td>\n",
       "      <td>0.083625</td>\n",
       "      <td>0.306175</td>\n",
       "    </tr>\n",
       "    <tr>\n",
       "      <th>5</th>\n",
       "      <td>0.415570</td>\n",
       "      <td>0.565075</td>\n",
       "      <td>0.849048</td>\n",
       "      <td>15.0</td>\n",
       "      <td>0.988302</td>\n",
       "      <td>0.582696</td>\n",
       "      <td>0.127199</td>\n",
       "      <td>0.296976</td>\n",
       "    </tr>\n",
       "    <tr>\n",
       "      <th>6</th>\n",
       "      <td>0.688830</td>\n",
       "      <td>0.869754</td>\n",
       "      <td>0.925146</td>\n",
       "      <td>15.0</td>\n",
       "      <td>0.983181</td>\n",
       "      <td>0.802148</td>\n",
       "      <td>0.478338</td>\n",
       "      <td>0.173298</td>\n",
       "    </tr>\n",
       "    <tr>\n",
       "      <th>7</th>\n",
       "      <td>0.354089</td>\n",
       "      <td>0.499282</td>\n",
       "      <td>0.799839</td>\n",
       "      <td>15.0</td>\n",
       "      <td>0.970357</td>\n",
       "      <td>0.531823</td>\n",
       "      <td>0.075748</td>\n",
       "      <td>0.306862</td>\n",
       "    </tr>\n",
       "    <tr>\n",
       "      <th>8</th>\n",
       "      <td>0.673112</td>\n",
       "      <td>0.789459</td>\n",
       "      <td>0.940058</td>\n",
       "      <td>15.0</td>\n",
       "      <td>0.967765</td>\n",
       "      <td>0.757031</td>\n",
       "      <td>0.409392</td>\n",
       "      <td>0.193781</td>\n",
       "    </tr>\n",
       "    <tr>\n",
       "      <th>9</th>\n",
       "      <td>0.709229</td>\n",
       "      <td>0.875242</td>\n",
       "      <td>0.923018</td>\n",
       "      <td>15.0</td>\n",
       "      <td>0.984388</td>\n",
       "      <td>0.811416</td>\n",
       "      <td>0.508403</td>\n",
       "      <td>0.160755</td>\n",
       "    </tr>\n",
       "    <tr>\n",
       "      <th>10</th>\n",
       "      <td>0.595938</td>\n",
       "      <td>0.829366</td>\n",
       "      <td>0.946019</td>\n",
       "      <td>15.0</td>\n",
       "      <td>0.970465</td>\n",
       "      <td>0.758505</td>\n",
       "      <td>0.356164</td>\n",
       "      <td>0.224501</td>\n",
       "    </tr>\n",
       "    <tr>\n",
       "      <th>11</th>\n",
       "      <td>0.479147</td>\n",
       "      <td>0.633458</td>\n",
       "      <td>0.889476</td>\n",
       "      <td>15.0</td>\n",
       "      <td>0.994695</td>\n",
       "      <td>0.630846</td>\n",
       "      <td>0.183096</td>\n",
       "      <td>0.281067</td>\n",
       "    </tr>\n",
       "    <tr>\n",
       "      <th>12</th>\n",
       "      <td>0.591905</td>\n",
       "      <td>0.745946</td>\n",
       "      <td>0.956311</td>\n",
       "      <td>15.0</td>\n",
       "      <td>0.995806</td>\n",
       "      <td>0.719099</td>\n",
       "      <td>0.308199</td>\n",
       "      <td>0.242374</td>\n",
       "    </tr>\n",
       "    <tr>\n",
       "      <th>13</th>\n",
       "      <td>0.348180</td>\n",
       "      <td>0.491468</td>\n",
       "      <td>0.793991</td>\n",
       "      <td>15.0</td>\n",
       "      <td>0.967799</td>\n",
       "      <td>0.526799</td>\n",
       "      <td>0.072431</td>\n",
       "      <td>0.307066</td>\n",
       "    </tr>\n",
       "    <tr>\n",
       "      <th>14</th>\n",
       "      <td>0.799210</td>\n",
       "      <td>0.884581</td>\n",
       "      <td>0.920098</td>\n",
       "      <td>15.0</td>\n",
       "      <td>0.974890</td>\n",
       "      <td>0.842798</td>\n",
       "      <td>0.618197</td>\n",
       "      <td>0.112078</td>\n",
       "    </tr>\n",
       "    <tr>\n",
       "      <th>15</th>\n",
       "      <td>0.407070</td>\n",
       "      <td>0.557889</td>\n",
       "      <td>0.845588</td>\n",
       "      <td>15.0</td>\n",
       "      <td>0.988135</td>\n",
       "      <td>0.576591</td>\n",
       "      <td>0.117338</td>\n",
       "      <td>0.300247</td>\n",
       "    </tr>\n",
       "    <tr>\n",
       "      <th>16</th>\n",
       "      <td>0.415607</td>\n",
       "      <td>0.568448</td>\n",
       "      <td>0.856712</td>\n",
       "      <td>15.0</td>\n",
       "      <td>0.991684</td>\n",
       "      <td>0.585059</td>\n",
       "      <td>0.122948</td>\n",
       "      <td>0.300675</td>\n",
       "    </tr>\n",
       "    <tr>\n",
       "      <th>17</th>\n",
       "      <td>0.767897</td>\n",
       "      <td>0.852702</td>\n",
       "      <td>0.922022</td>\n",
       "      <td>15.0</td>\n",
       "      <td>0.946603</td>\n",
       "      <td>0.807741</td>\n",
       "      <td>0.537459</td>\n",
       "      <td>0.136253</td>\n",
       "    </tr>\n",
       "    <tr>\n",
       "      <th>18</th>\n",
       "      <td>0.464228</td>\n",
       "      <td>0.617961</td>\n",
       "      <td>0.883497</td>\n",
       "      <td>15.0</td>\n",
       "      <td>0.996093</td>\n",
       "      <td>0.620870</td>\n",
       "      <td>0.168483</td>\n",
       "      <td>0.286703</td>\n",
       "    </tr>\n",
       "    <tr>\n",
       "      <th>19</th>\n",
       "      <td>0.559373</td>\n",
       "      <td>0.681344</td>\n",
       "      <td>0.895395</td>\n",
       "      <td>15.0</td>\n",
       "      <td>0.978717</td>\n",
       "      <td>0.680175</td>\n",
       "      <td>0.293060</td>\n",
       "      <td>0.235644</td>\n",
       "    </tr>\n",
       "    <tr>\n",
       "      <th>20</th>\n",
       "      <td>0.427995</td>\n",
       "      <td>0.578366</td>\n",
       "      <td>0.857409</td>\n",
       "      <td>15.0</td>\n",
       "      <td>0.990188</td>\n",
       "      <td>0.592278</td>\n",
       "      <td>0.137996</td>\n",
       "      <td>0.294104</td>\n",
       "    </tr>\n",
       "    <tr>\n",
       "      <th>21</th>\n",
       "      <td>0.365729</td>\n",
       "      <td>0.512080</td>\n",
       "      <td>0.811291</td>\n",
       "      <td>15.0</td>\n",
       "      <td>0.975878</td>\n",
       "      <td>0.542314</td>\n",
       "      <td>0.084406</td>\n",
       "      <td>0.306241</td>\n",
       "    </tr>\n",
       "    <tr>\n",
       "      <th>22</th>\n",
       "      <td>0.669398</td>\n",
       "      <td>0.780216</td>\n",
       "      <td>0.936104</td>\n",
       "      <td>15.0</td>\n",
       "      <td>0.966948</td>\n",
       "      <td>0.754309</td>\n",
       "      <td>0.410905</td>\n",
       "      <td>0.192540</td>\n",
       "    </tr>\n",
       "    <tr>\n",
       "      <th>23</th>\n",
       "      <td>0.431536</td>\n",
       "      <td>0.579590</td>\n",
       "      <td>0.856234</td>\n",
       "      <td>15.0</td>\n",
       "      <td>0.988724</td>\n",
       "      <td>0.594119</td>\n",
       "      <td>0.144155</td>\n",
       "      <td>0.291287</td>\n",
       "    </tr>\n",
       "    <tr>\n",
       "      <th>24</th>\n",
       "      <td>0.409956</td>\n",
       "      <td>0.563019</td>\n",
       "      <td>0.852190</td>\n",
       "      <td>15.0</td>\n",
       "      <td>0.991107</td>\n",
       "      <td>0.580362</td>\n",
       "      <td>0.117376</td>\n",
       "      <td>0.301904</td>\n",
       "    </tr>\n",
       "  </tbody>\n",
       "</table>\n",
       "</div>"
      ],
      "text/plain": [
       "         25%       50%       75%  count       max      mean       min  \\\n",
       "0   0.421301  0.572715  0.856246   15.0  0.990636  0.588163  0.130668   \n",
       "1   0.820393  0.875026  0.903976   15.0  0.944986  0.853423  0.700457   \n",
       "2   0.588587  0.828850  0.955826   15.0  0.969043  0.757089  0.341961   \n",
       "3   0.367600  0.514613  0.814025   15.0  0.977523  0.544319  0.085227   \n",
       "4   0.365196  0.512312  0.810574   15.0  0.975276  0.541625  0.083625   \n",
       "5   0.415570  0.565075  0.849048   15.0  0.988302  0.582696  0.127199   \n",
       "6   0.688830  0.869754  0.925146   15.0  0.983181  0.802148  0.478338   \n",
       "7   0.354089  0.499282  0.799839   15.0  0.970357  0.531823  0.075748   \n",
       "8   0.673112  0.789459  0.940058   15.0  0.967765  0.757031  0.409392   \n",
       "9   0.709229  0.875242  0.923018   15.0  0.984388  0.811416  0.508403   \n",
       "10  0.595938  0.829366  0.946019   15.0  0.970465  0.758505  0.356164   \n",
       "11  0.479147  0.633458  0.889476   15.0  0.994695  0.630846  0.183096   \n",
       "12  0.591905  0.745946  0.956311   15.0  0.995806  0.719099  0.308199   \n",
       "13  0.348180  0.491468  0.793991   15.0  0.967799  0.526799  0.072431   \n",
       "14  0.799210  0.884581  0.920098   15.0  0.974890  0.842798  0.618197   \n",
       "15  0.407070  0.557889  0.845588   15.0  0.988135  0.576591  0.117338   \n",
       "16  0.415607  0.568448  0.856712   15.0  0.991684  0.585059  0.122948   \n",
       "17  0.767897  0.852702  0.922022   15.0  0.946603  0.807741  0.537459   \n",
       "18  0.464228  0.617961  0.883497   15.0  0.996093  0.620870  0.168483   \n",
       "19  0.559373  0.681344  0.895395   15.0  0.978717  0.680175  0.293060   \n",
       "20  0.427995  0.578366  0.857409   15.0  0.990188  0.592278  0.137996   \n",
       "21  0.365729  0.512080  0.811291   15.0  0.975878  0.542314  0.084406   \n",
       "22  0.669398  0.780216  0.936104   15.0  0.966948  0.754309  0.410905   \n",
       "23  0.431536  0.579590  0.856234   15.0  0.988724  0.594119  0.144155   \n",
       "24  0.409956  0.563019  0.852190   15.0  0.991107  0.580362  0.117376   \n",
       "\n",
       "         std  \n",
       "0   0.297188  \n",
       "1   0.073257  \n",
       "2   0.231928  \n",
       "3   0.306598  \n",
       "4   0.306175  \n",
       "5   0.296976  \n",
       "6   0.173298  \n",
       "7   0.306862  \n",
       "8   0.193781  \n",
       "9   0.160755  \n",
       "10  0.224501  \n",
       "11  0.281067  \n",
       "12  0.242374  \n",
       "13  0.307066  \n",
       "14  0.112078  \n",
       "15  0.300247  \n",
       "16  0.300675  \n",
       "17  0.136253  \n",
       "18  0.286703  \n",
       "19  0.235644  \n",
       "20  0.294104  \n",
       "21  0.306241  \n",
       "22  0.192540  \n",
       "23  0.291287  \n",
       "24  0.301904  "
      ]
     },
     "execution_count": 49,
     "metadata": {},
     "output_type": "execute_result"
    }
   ],
   "source": [
    "cosine_similarity_statistics_abnormal"
   ]
  },
  {
   "cell_type": "markdown",
   "metadata": {},
   "source": [
    "#### Predict and Score"
   ]
  },
  {
   "cell_type": "code",
   "execution_count": 50,
   "metadata": {},
   "outputs": [],
   "source": [
    "column_name = 'mean'\n",
    "scores = (\n",
    "    list(cosine_similarity_statistics_normal[column_name].values)\n",
    "    + list(cosine_similarity_statistics_abnormal[column_name].values)\n",
    "    )"
   ]
  },
  {
   "cell_type": "code",
   "execution_count": 51,
   "metadata": {},
   "outputs": [],
   "source": [
    "preds = [\n",
    "    label_normal\n",
    "    if (score > threshold)\n",
    "    else label_abnormal\n",
    "    for score in scores\n",
    "    ]"
   ]
  },
  {
   "cell_type": "markdown",
   "metadata": {},
   "source": [
    "#### Evaluate"
   ]
  },
  {
   "cell_type": "code",
   "execution_count": 52,
   "metadata": {},
   "outputs": [
    {
     "name": "stdout",
     "output_type": "stream",
     "text": [
      "#Pred Normal: 32\n"
     ]
    }
   ],
   "source": [
    "print('#Pred Normal: {}'.format(preds.count(1)))"
   ]
  },
  {
   "cell_type": "code",
   "execution_count": 53,
   "metadata": {},
   "outputs": [
    {
     "name": "stdout",
     "output_type": "stream",
     "text": [
      "Acc: 0.7400  Precision: 0.6875  Recall: 0.8800  F1: 0.771930\n",
      "Confusion Matrix\n",
      "[[15 10]\n",
      " [ 3 22]]\n"
     ]
    }
   ],
   "source": [
    "evaluate_bc(labels, preds)"
   ]
  },
  {
   "cell_type": "code",
   "execution_count": 54,
   "metadata": {},
   "outputs": [
    {
     "name": "stdout",
     "output_type": "stream",
     "text": [
      "AUC: 0.7936\n"
     ]
    },
    {
     "data": {
      "image/png": "[encoded data removed]",
      "text/plain": [
       "<Figure size 432x288 with 1 Axes>"
      ]
     },
     "metadata": {
      "needs_background": "light"
     },
     "output_type": "display_data"
    }
   ],
   "source": [
    "# AUROC\n",
    "\n",
    "fpr, tpr, _ = metrics.roc_curve(labels, scores)\n",
    "auc = metrics.auc(fpr, tpr)\n",
    "print('AUC: {:.4f}'.format(auc))\n",
    "\n",
    "plt.plot(fpr, tpr, label='AUC = {:.2f}'.format(auc))\n",
    "plt.legend()\n",
    "plt.title('ROC curve')\n",
    "plt.xlabel('False Positive Rate')\n",
    "plt.ylabel('True Positive Rate')\n",
    "plt.grid(True)\n",
    "plt.show()"
   ]
  },
  {
   "cell_type": "markdown",
   "metadata": {},
   "source": [
    "## Test by LOF"
   ]
  },
  {
   "cell_type": "markdown",
   "metadata": {},
   "source": [
    "#### Train"
   ]
  },
  {
   "cell_type": "code",
   "execution_count": 55,
   "metadata": {},
   "outputs": [],
   "source": [
    "clf = LocalOutlierFactor(\n",
    "    n_neighbors=2,\n",
    "    novelty=True,\n",
    "    contamination='auto',\n",
    "    )"
   ]
  },
  {
   "cell_type": "code",
   "execution_count": 56,
   "metadata": {},
   "outputs": [
    {
     "data": {
      "text/plain": [
       "LocalOutlierFactor(algorithm='auto', contamination='auto', leaf_size=30,\n",
       "          metric='minkowski', metric_params=None, n_jobs=None,\n",
       "          n_neighbors=2, novelty=True, p=2)"
      ]
     },
     "execution_count": 56,
     "metadata": {},
     "output_type": "execute_result"
    }
   ],
   "source": [
    "clf.fit(embeddings_ref)"
   ]
  },
  {
   "cell_type": "markdown",
   "metadata": {},
   "source": [
    "#### Score and Predict"
   ]
  },
  {
   "cell_type": "code",
   "execution_count": 57,
   "metadata": {},
   "outputs": [],
   "source": [
    "embeddings = list(embeddings_normal) + list(embeddings_abnormal)\n",
    "preds = clf.predict(embeddings)\n",
    "scores = clf.score_samples(embeddings)"
   ]
  },
  {
   "cell_type": "code",
   "execution_count": 58,
   "metadata": {},
   "outputs": [
    {
     "name": "stdout",
     "output_type": "stream",
     "text": [
      "#Pred Normal: 44\n"
     ]
    }
   ],
   "source": [
    "print('#Pred Normal: {}'.format(list(preds).count(1)))"
   ]
  },
  {
   "cell_type": "markdown",
   "metadata": {},
   "source": [
    "#### Evaluate"
   ]
  },
  {
   "cell_type": "code",
   "execution_count": 59,
   "metadata": {},
   "outputs": [
    {
     "name": "stdout",
     "output_type": "stream",
     "text": [
      "Acc: 0.5800  Precision: 0.5455  Recall: 0.9600  F1: 0.695652\n",
      "Confusion Matrix\n",
      "[[ 5 20]\n",
      " [ 1 24]]\n"
     ]
    }
   ],
   "source": [
    "evaluate_bc(labels, preds)"
   ]
  },
  {
   "cell_type": "code",
   "execution_count": 60,
   "metadata": {},
   "outputs": [
    {
     "name": "stdout",
     "output_type": "stream",
     "text": [
      "AUC: 0.6288\n"
     ]
    },
    {
     "data": {
      "image/png": "[encoded data removed]",
      "text/plain": [
       "<Figure size 432x288 with 1 Axes>"
      ]
     },
     "metadata": {
      "needs_background": "light"
     },
     "output_type": "display_data"
    }
   ],
   "source": [
    "# AUROC\n",
    "\n",
    "fpr, tpr, _ = metrics.roc_curve(labels, scores)\n",
    "auc = metrics.auc(fpr, tpr)\n",
    "print('AUC: {:.4f}'.format(auc))\n",
    "\n",
    "plt.plot(fpr, tpr, label='AUC = {:.2f}'.format(auc))\n",
    "plt.legend()\n",
    "plt.title('ROC curve')\n",
    "plt.xlabel('False Positive Rate')\n",
    "plt.ylabel('True Positive Rate')\n",
    "plt.grid(True)\n",
    "plt.show()"
   ]
  },
  {
   "cell_type": "code",
   "execution_count": null,
   "metadata": {},
   "outputs": [],
   "source": []
  },
  {
   "cell_type": "code",
   "execution_count": null,
   "metadata": {},
   "outputs": [],
   "source": []
  }
 ],
 "metadata": {
  "kernelspec": {
   "display_name": "Python 3",
   "language": "python",
   "name": "python3"
  },
  "language_info": {
   "codemirror_mode": {
    "name": "ipython",
    "version": 3
   },
   "file_extension": ".py",
   "mimetype": "text/x-python",
   "name": "python",
   "nbconvert_exporter": "python",
   "pygments_lexer": "ipython3",
   "version": "3.7.3"
  }
 },
 "nbformat": 4,
 "nbformat_minor": 2
}

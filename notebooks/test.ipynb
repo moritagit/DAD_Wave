{
 "cells": [
  {
   "cell_type": "markdown",
   "metadata": {},
   "source": [
    "# DAD for Wave by Triplet Loss"
   ]
  },
  {
   "cell_type": "markdown",
   "metadata": {},
   "source": [
    "## Settings"
   ]
  },
  {
   "cell_type": "code",
   "execution_count": 1,
   "metadata": {},
   "outputs": [],
   "source": [
    "from pathlib import Path\n",
    "import sys"
   ]
  },
  {
   "cell_type": "code",
   "execution_count": 2,
   "metadata": {},
   "outputs": [],
   "source": [
    "import matplotlib.pyplot as plt\n",
    "import numpy as np\n",
    "import pandas as pd\n",
    "\n",
    "from sklearn.neighbors import LocalOutlierFactor\n",
    "from sklearn import metrics\n",
    "\n",
    "import torch\n",
    "from torchvision import transforms"
   ]
  },
  {
   "cell_type": "code",
   "execution_count": 3,
   "metadata": {},
   "outputs": [],
   "source": [
    "sys.path.append('../src')\n",
    "\n",
    "import utils\n",
    "from dataloader import ESC50DatasetTest\n",
    "from models import EmbeddingNet, TripletNet"
   ]
  },
  {
   "cell_type": "code",
   "execution_count": 4,
   "metadata": {},
   "outputs": [],
   "source": [
    "no_cuda = False\n",
    "seed = 0"
   ]
  },
  {
   "cell_type": "code",
   "execution_count": 5,
   "metadata": {},
   "outputs": [],
   "source": [
    "data_dir = Path().cwd().parent/'data'\n",
    "raw_data_dir = data_dir/'external'/'ESC-50'\n",
    "processed_data_dir = data_dir/'processed'/'ESC-50'\n",
    "models_dir = Path().cwd().parent/'models'"
   ]
  },
  {
   "cell_type": "code",
   "execution_count": 6,
   "metadata": {},
   "outputs": [],
   "source": [
    "#model_path = models_dir/'model_tmp.pth'\n",
    "embeddingnet_path = models_dir/'embeddingnet_best_m08.pth'"
   ]
  },
  {
   "cell_type": "code",
   "execution_count": 7,
   "metadata": {},
   "outputs": [],
   "source": [
    "metadata_path = raw_data_dir/'meta'/'esc50.csv'\n",
    "audio_dir = raw_data_dir/'audio'\n",
    "spectrogram_dir = processed_data_dir/'spectrogram'"
   ]
  },
  {
   "cell_type": "code",
   "execution_count": 8,
   "metadata": {},
   "outputs": [],
   "source": [
    "train_metadata_path = processed_data_dir/'metadata_train.csv'\n",
    "valid_metadata_path = processed_data_dir/'metadata_valid.csv'\n",
    "test_metadata_path = processed_data_dir/'metadata_test.csv'"
   ]
  },
  {
   "cell_type": "code",
   "execution_count": 9,
   "metadata": {},
   "outputs": [],
   "source": [
    "np.random.seed(seed)"
   ]
  },
  {
   "cell_type": "code",
   "execution_count": 10,
   "metadata": {},
   "outputs": [
    {
     "name": "stdout",
     "output_type": "stream",
     "text": [
      "device: cuda\n"
     ]
    }
   ],
   "source": [
    "use_cuda = torch.cuda.is_available() and (not no_cuda)\n",
    "device = 'cuda' if use_cuda else 'cpu'\n",
    "torch.manual_seed(seed)\n",
    "torch.backends.cudnn.benchmark = True\n",
    "\n",
    "print('device: {}'.format(device))"
   ]
  },
  {
   "cell_type": "code",
   "execution_count": 11,
   "metadata": {},
   "outputs": [],
   "source": [
    "def evaluate_bc(y_true, y_pred):\n",
    "    confusion_matrix = metrics.confusion_matrix(y_true, y_pred)\n",
    "    acc = metrics.accuracy_score(y_true, y_pred)\n",
    "    prec = metrics.precision_score(y_true, y_pred)\n",
    "    recall = metrics.recall_score(y_true, y_pred)\n",
    "    f1 = metrics.f1_score(y_true, y_pred)\n",
    "\n",
    "    print('Acc: {:.4f}  Precision: {:.4f}  Recall: {:.4f}  F1: {:4f}'.format(acc, prec, recall, f1))\n",
    "    print('Confusion Matrix')\n",
    "    print(confusion_matrix)"
   ]
  },
  {
   "cell_type": "code",
   "execution_count": 12,
   "metadata": {},
   "outputs": [],
   "source": [
    "def evaluate_auc(labels, scores):\n",
    "    fpr, tpr, _ = metrics.roc_curve(labels, scores)\n",
    "    auc = metrics.auc(fpr, tpr)\n",
    "\n",
    "    plt.title('ROC curve (AUC = {:.2f})'.format(auc))\n",
    "    plt.xlabel('False Positive Rate')\n",
    "    plt.ylabel('True Positive Rate')\n",
    "    plt.grid(True)\n",
    "    plt.show()"
   ]
  },
  {
   "cell_type": "markdown",
   "metadata": {},
   "source": [
    "## Hyperparameters"
   ]
  },
  {
   "cell_type": "code",
   "execution_count": 13,
   "metadata": {},
   "outputs": [],
   "source": [
    "input_size = (257, 431)\n",
    "output_size = 128\n",
    "\n",
    "batch_size = 8"
   ]
  },
  {
   "cell_type": "markdown",
   "metadata": {},
   "source": [
    "## Dataloader"
   ]
  },
  {
   "cell_type": "code",
   "execution_count": 14,
   "metadata": {},
   "outputs": [],
   "source": [
    "kwargs = {'num_workers': 1, 'pin_memory': True} if use_cuda else {}"
   ]
  },
  {
   "cell_type": "code",
   "execution_count": 15,
   "metadata": {},
   "outputs": [],
   "source": [
    "transform = transforms.Compose([\n",
    "    transforms.ToTensor(),\n",
    "    ])"
   ]
  },
  {
   "cell_type": "code",
   "execution_count": 16,
   "metadata": {},
   "outputs": [],
   "source": [
    "dataset = ESC50DatasetTest(\n",
    "    test_metadata_path, audio_dir, spectrogram_dir, transform,\n",
    "    )"
   ]
  },
  {
   "cell_type": "code",
   "execution_count": 17,
   "metadata": {},
   "outputs": [],
   "source": [
    "dataloader = torch.utils.data.DataLoader(dataset, batch_size=batch_size, shuffle=False, **kwargs)"
   ]
  },
  {
   "cell_type": "markdown",
   "metadata": {},
   "source": [
    "## Model"
   ]
  },
  {
   "cell_type": "code",
   "execution_count": 18,
   "metadata": {},
   "outputs": [],
   "source": [
    "embedding_net = EmbeddingNet(input_size, output_size).to(device)\n",
    "embedding_net.eval()\n",
    "embedding_net.load_state_dict(torch.load(str(embeddingnet_path)))\n",
    "\n",
    "#model = TripletNet(embedding_net).to(device)\n",
    "#model.eval()\n",
    "#model.load_state_dict(torch.load(str(model_path)))"
   ]
  },
  {
   "cell_type": "markdown",
   "metadata": {},
   "source": [
    "## Build Embeddings"
   ]
  },
  {
   "cell_type": "code",
   "execution_count": 19,
   "metadata": {},
   "outputs": [
    {
     "name": "stdout",
     "output_type": "stream",
     "text": [
      "Minibatch 25/25\n"
     ]
    },
    {
     "data": {
      "text/plain": [
       "(200, 128)"
      ]
     },
     "execution_count": 19,
     "metadata": {},
     "output_type": "execute_result"
    }
   ],
   "source": [
    "embeddings_all = []\n",
    "for i, (spec, label) in enumerate(dataloader):\n",
    "    print('\\rMinibatch {}/{}'.format(i+1, len(dataloader)), end='')\n",
    "    if use_cuda: \n",
    "        spec =spec.cuda()\n",
    "    embeddings = embedding_net(spec)\n",
    "    embeddings = embeddings.cpu().detach().numpy().reshape(-1, output_size)\n",
    "    embeddings_all.extend(list(embeddings))\n",
    "print()\n",
    "dataset.embeddings = np.array(embeddings_all)\n",
    "dataset.embeddings.shape"
   ]
  },
  {
   "cell_type": "markdown",
   "metadata": {},
   "source": [
    "### Test Settings"
   ]
  },
  {
   "cell_type": "code",
   "execution_count": 20,
   "metadata": {},
   "outputs": [],
   "source": [
    "label_normal = 1\n",
    "label_abnormal = -1"
   ]
  },
  {
   "cell_type": "code",
   "execution_count": 21,
   "metadata": {},
   "outputs": [
    {
     "data": {
      "text/html": [
       "<div>\n",
       "<style scoped>\n",
       "    .dataframe tbody tr th:only-of-type {\n",
       "        vertical-align: middle;\n",
       "    }\n",
       "\n",
       "    .dataframe tbody tr th {\n",
       "        vertical-align: top;\n",
       "    }\n",
       "\n",
       "    .dataframe thead th {\n",
       "        text-align: right;\n",
       "    }\n",
       "</style>\n",
       "<table border=\"1\" class=\"dataframe\">\n",
       "  <thead>\n",
       "    <tr style=\"text-align: right;\">\n",
       "      <th></th>\n",
       "      <th>target</th>\n",
       "      <th>category</th>\n",
       "    </tr>\n",
       "  </thead>\n",
       "  <tbody>\n",
       "    <tr>\n",
       "      <th>0</th>\n",
       "      <td>2</td>\n",
       "      <td>pig</td>\n",
       "    </tr>\n",
       "    <tr>\n",
       "      <th>1</th>\n",
       "      <td>34</td>\n",
       "      <td>can_opening</td>\n",
       "    </tr>\n",
       "    <tr>\n",
       "      <th>2</th>\n",
       "      <td>24</td>\n",
       "      <td>coughing</td>\n",
       "    </tr>\n",
       "    <tr>\n",
       "      <th>3</th>\n",
       "      <td>40</td>\n",
       "      <td>helicopter</td>\n",
       "    </tr>\n",
       "    <tr>\n",
       "      <th>4</th>\n",
       "      <td>28</td>\n",
       "      <td>snoring</td>\n",
       "    </tr>\n",
       "  </tbody>\n",
       "</table>\n",
       "</div>"
      ],
      "text/plain": [
       "   target     category\n",
       "0       2          pig\n",
       "1      34  can_opening\n",
       "2      24     coughing\n",
       "3      40   helicopter\n",
       "4      28      snoring"
      ]
     },
     "execution_count": 21,
     "metadata": {},
     "output_type": "execute_result"
    }
   ],
   "source": [
    "dataset.metadata.loc[:, ['target', 'category']].drop_duplicates().reset_index(drop=True)"
   ]
  },
  {
   "cell_type": "code",
   "execution_count": 22,
   "metadata": {},
   "outputs": [],
   "source": [
    "_label_normal = 24\n",
    "indices_normal_all = dataset.label2indices[_label_normal]"
   ]
  },
  {
   "cell_type": "code",
   "execution_count": 23,
   "metadata": {},
   "outputs": [],
   "source": [
    "n_ref = 15"
   ]
  },
  {
   "cell_type": "code",
   "execution_count": 61,
   "metadata": {},
   "outputs": [
    {
     "data": {
      "text/plain": [
       "array([126, 144, 139, 155, 128, 157, 131, 121, 148, 127, 151, 130, 147,\n",
       "       152, 150, 153, 122, 159, 138, 146, 142, 145, 120, 158, 129])"
      ]
     },
     "execution_count": 61,
     "metadata": {},
     "output_type": "execute_result"
    }
   ],
   "source": [
    "# all\n",
    "#indices_abnormal = np.array(list(set(dataset.metadata.index.values) - set(indices_normal_all)))\n",
    "\n",
    "# one class\n",
    "_label_abnormal = 40\n",
    "#indices_abnormal = np.array(list(dataset.label2indices[_label_abnormal]))\n",
    "\n",
    "# a part of one class\n",
    "n_abnormal = 25\n",
    "indices_abnormal = np.random.permutation(dataset.label2indices[_label_abnormal])[:n_abnormal]\n",
    "\n",
    "indices_abnormal"
   ]
  },
  {
   "cell_type": "markdown",
   "metadata": {},
   "source": [
    "## Preparation"
   ]
  },
  {
   "cell_type": "code",
   "execution_count": 62,
   "metadata": {},
   "outputs": [],
   "source": [
    "_indices_ref = np.random.permutation(range(len(indices_normal_all)))[:n_ref]\n",
    "indices_ref = np.array(indices_normal_all)[_indices_ref]"
   ]
  },
  {
   "cell_type": "code",
   "execution_count": 63,
   "metadata": {},
   "outputs": [
    {
     "data": {
      "text/plain": [
       "(15, 128)"
      ]
     },
     "execution_count": 63,
     "metadata": {},
     "output_type": "execute_result"
    }
   ],
   "source": [
    "embeddings_ref = dataset.embeddings[indices_ref]\n",
    "embeddings_ref.shape"
   ]
  },
  {
   "cell_type": "code",
   "execution_count": 64,
   "metadata": {},
   "outputs": [
    {
     "data": {
      "text/plain": [
       "(25, 128)"
      ]
     },
     "execution_count": 64,
     "metadata": {},
     "output_type": "execute_result"
    }
   ],
   "source": [
    "indices_normal = np.array(sorted(list(set(indices_normal_all) - set(indices_ref))))\n",
    "embeddings_normal = dataset.embeddings[indices_normal]\n",
    "embeddings_normal.shape"
   ]
  },
  {
   "cell_type": "code",
   "execution_count": 65,
   "metadata": {},
   "outputs": [
    {
     "data": {
      "text/plain": [
       "(25, 128)"
      ]
     },
     "execution_count": 65,
     "metadata": {},
     "output_type": "execute_result"
    }
   ],
   "source": [
    "embeddings_abnormal = dataset.embeddings[indices_abnormal]\n",
    "embeddings_abnormal.shape"
   ]
  },
  {
   "cell_type": "code",
   "execution_count": 66,
   "metadata": {},
   "outputs": [
    {
     "name": "stdout",
     "output_type": "stream",
     "text": [
      "[1, 1, 1, 1, 1, 1, 1, 1, 1, 1, 1, 1, 1, 1, 1, 1, 1, 1, 1, 1, 1, 1, 1, 1, 1, -1, -1, -1, -1, -1, -1, -1, -1, -1, -1, -1, -1, -1, -1, -1, -1, -1, -1, -1, -1, -1, -1, -1, -1, -1]\n"
     ]
    }
   ],
   "source": [
    "labels = [label_normal]*len(embeddings_normal) + [label_abnormal]*len(embeddings_abnormal)\n",
    "print(labels)"
   ]
  },
  {
   "cell_type": "markdown",
   "metadata": {},
   "source": [
    "## Threshold"
   ]
  },
  {
   "cell_type": "markdown",
   "metadata": {},
   "source": [
    "### Euclid Distance"
   ]
  },
  {
   "cell_type": "code",
   "execution_count": 67,
   "metadata": {},
   "outputs": [],
   "source": [
    "threshold = 0.3"
   ]
  },
  {
   "cell_type": "code",
   "execution_count": 68,
   "metadata": {},
   "outputs": [],
   "source": [
    "data_list = []\n",
    "for embedding in embeddings_normal:\n",
    "    euclid_distances = np.sqrt(np.sum((embedding[np.newaxis, :] - embeddings_ref)**2, axis=1))\n",
    "    data = pd.DataFrame(euclid_distances).describe()\n",
    "    data_list.append(data.to_dict()[0])\n",
    "euclid_distance_statistics_normal = pd.io.json.json_normalize(data_list)"
   ]
  },
  {
   "cell_type": "code",
   "execution_count": 69,
   "metadata": {},
   "outputs": [
    {
     "name": "stdout",
     "output_type": "stream",
     "text": [
      "mean: 0.2914  max: 0.8473  min: 0.0286\n"
     ]
    }
   ],
   "source": [
    "print('mean: {:.4f}  max: {:.4f}  min: {:.4f}'.format(\n",
    "    euclid_distance_statistics_normal['mean'].mean(),\n",
    "    euclid_distance_statistics_normal['max'].max(),\n",
    "    euclid_distance_statistics_normal['min'].min(),\n",
    "    ))"
   ]
  },
  {
   "cell_type": "code",
   "execution_count": 70,
   "metadata": {
    "scrolled": true
   },
   "outputs": [
    {
     "data": {
      "text/html": [
       "<div>\n",
       "<style scoped>\n",
       "    .dataframe tbody tr th:only-of-type {\n",
       "        vertical-align: middle;\n",
       "    }\n",
       "\n",
       "    .dataframe tbody tr th {\n",
       "        vertical-align: top;\n",
       "    }\n",
       "\n",
       "    .dataframe thead th {\n",
       "        text-align: right;\n",
       "    }\n",
       "</style>\n",
       "<table border=\"1\" class=\"dataframe\">\n",
       "  <thead>\n",
       "    <tr style=\"text-align: right;\">\n",
       "      <th></th>\n",
       "      <th>25%</th>\n",
       "      <th>50%</th>\n",
       "      <th>75%</th>\n",
       "      <th>count</th>\n",
       "      <th>max</th>\n",
       "      <th>mean</th>\n",
       "      <th>min</th>\n",
       "      <th>std</th>\n",
       "    </tr>\n",
       "  </thead>\n",
       "  <tbody>\n",
       "    <tr>\n",
       "      <th>0</th>\n",
       "      <td>0.068327</td>\n",
       "      <td>0.143908</td>\n",
       "      <td>0.410029</td>\n",
       "      <td>15.0</td>\n",
       "      <td>0.781108</td>\n",
       "      <td>0.262876</td>\n",
       "      <td>0.038522</td>\n",
       "      <td>0.242809</td>\n",
       "    </tr>\n",
       "    <tr>\n",
       "      <th>1</th>\n",
       "      <td>0.120896</td>\n",
       "      <td>0.249572</td>\n",
       "      <td>0.461884</td>\n",
       "      <td>15.0</td>\n",
       "      <td>0.831046</td>\n",
       "      <td>0.314955</td>\n",
       "      <td>0.029517</td>\n",
       "      <td>0.238012</td>\n",
       "    </tr>\n",
       "    <tr>\n",
       "      <th>2</th>\n",
       "      <td>0.122367</td>\n",
       "      <td>0.153582</td>\n",
       "      <td>0.312554</td>\n",
       "      <td>15.0</td>\n",
       "      <td>0.689098</td>\n",
       "      <td>0.240430</td>\n",
       "      <td>0.068554</td>\n",
       "      <td>0.184538</td>\n",
       "    </tr>\n",
       "    <tr>\n",
       "      <th>3</th>\n",
       "      <td>0.250621</td>\n",
       "      <td>0.422561</td>\n",
       "      <td>0.458773</td>\n",
       "      <td>15.0</td>\n",
       "      <td>0.499652</td>\n",
       "      <td>0.356339</td>\n",
       "      <td>0.091819</td>\n",
       "      <td>0.133963</td>\n",
       "    </tr>\n",
       "    <tr>\n",
       "      <th>4</th>\n",
       "      <td>0.236262</td>\n",
       "      <td>0.260566</td>\n",
       "      <td>0.311425</td>\n",
       "      <td>15.0</td>\n",
       "      <td>0.591487</td>\n",
       "      <td>0.282285</td>\n",
       "      <td>0.051798</td>\n",
       "      <td>0.112533</td>\n",
       "    </tr>\n",
       "    <tr>\n",
       "      <th>5</th>\n",
       "      <td>0.375363</td>\n",
       "      <td>0.416005</td>\n",
       "      <td>0.444036</td>\n",
       "      <td>15.0</td>\n",
       "      <td>0.502245</td>\n",
       "      <td>0.392905</td>\n",
       "      <td>0.166264</td>\n",
       "      <td>0.087596</td>\n",
       "    </tr>\n",
       "    <tr>\n",
       "      <th>6</th>\n",
       "      <td>0.276472</td>\n",
       "      <td>0.398789</td>\n",
       "      <td>0.451110</td>\n",
       "      <td>15.0</td>\n",
       "      <td>0.523466</td>\n",
       "      <td>0.359468</td>\n",
       "      <td>0.166657</td>\n",
       "      <td>0.124299</td>\n",
       "    </tr>\n",
       "    <tr>\n",
       "      <th>7</th>\n",
       "      <td>0.207073</td>\n",
       "      <td>0.350723</td>\n",
       "      <td>0.397086</td>\n",
       "      <td>15.0</td>\n",
       "      <td>0.446109</td>\n",
       "      <td>0.305920</td>\n",
       "      <td>0.089066</td>\n",
       "      <td>0.115183</td>\n",
       "    </tr>\n",
       "    <tr>\n",
       "      <th>8</th>\n",
       "      <td>0.094463</td>\n",
       "      <td>0.159458</td>\n",
       "      <td>0.350736</td>\n",
       "      <td>15.0</td>\n",
       "      <td>0.721373</td>\n",
       "      <td>0.247964</td>\n",
       "      <td>0.049475</td>\n",
       "      <td>0.211194</td>\n",
       "    </tr>\n",
       "    <tr>\n",
       "      <th>9</th>\n",
       "      <td>0.220958</td>\n",
       "      <td>0.254802</td>\n",
       "      <td>0.316583</td>\n",
       "      <td>15.0</td>\n",
       "      <td>0.532809</td>\n",
       "      <td>0.269543</td>\n",
       "      <td>0.128348</td>\n",
       "      <td>0.103010</td>\n",
       "    </tr>\n",
       "    <tr>\n",
       "      <th>10</th>\n",
       "      <td>0.220318</td>\n",
       "      <td>0.377271</td>\n",
       "      <td>0.418443</td>\n",
       "      <td>15.0</td>\n",
       "      <td>0.455250</td>\n",
       "      <td>0.320894</td>\n",
       "      <td>0.084069</td>\n",
       "      <td>0.124706</td>\n",
       "    </tr>\n",
       "    <tr>\n",
       "      <th>11</th>\n",
       "      <td>0.180667</td>\n",
       "      <td>0.227360</td>\n",
       "      <td>0.264463</td>\n",
       "      <td>15.0</td>\n",
       "      <td>0.636625</td>\n",
       "      <td>0.259011</td>\n",
       "      <td>0.093015</td>\n",
       "      <td>0.135649</td>\n",
       "    </tr>\n",
       "    <tr>\n",
       "      <th>12</th>\n",
       "      <td>0.102466</td>\n",
       "      <td>0.191527</td>\n",
       "      <td>0.365582</td>\n",
       "      <td>15.0</td>\n",
       "      <td>0.739741</td>\n",
       "      <td>0.258643</td>\n",
       "      <td>0.059148</td>\n",
       "      <td>0.205793</td>\n",
       "    </tr>\n",
       "    <tr>\n",
       "      <th>13</th>\n",
       "      <td>0.231468</td>\n",
       "      <td>0.277262</td>\n",
       "      <td>0.322893</td>\n",
       "      <td>15.0</td>\n",
       "      <td>0.556034</td>\n",
       "      <td>0.276077</td>\n",
       "      <td>0.050834</td>\n",
       "      <td>0.108621</td>\n",
       "    </tr>\n",
       "    <tr>\n",
       "      <th>14</th>\n",
       "      <td>0.143128</td>\n",
       "      <td>0.167896</td>\n",
       "      <td>0.310694</td>\n",
       "      <td>15.0</td>\n",
       "      <td>0.683867</td>\n",
       "      <td>0.246624</td>\n",
       "      <td>0.090172</td>\n",
       "      <td>0.175379</td>\n",
       "    </tr>\n",
       "    <tr>\n",
       "      <th>15</th>\n",
       "      <td>0.117328</td>\n",
       "      <td>0.215859</td>\n",
       "      <td>0.477241</td>\n",
       "      <td>15.0</td>\n",
       "      <td>0.847267</td>\n",
       "      <td>0.316296</td>\n",
       "      <td>0.065924</td>\n",
       "      <td>0.251860</td>\n",
       "    </tr>\n",
       "    <tr>\n",
       "      <th>16</th>\n",
       "      <td>0.095866</td>\n",
       "      <td>0.155916</td>\n",
       "      <td>0.365821</td>\n",
       "      <td>15.0</td>\n",
       "      <td>0.738139</td>\n",
       "      <td>0.249978</td>\n",
       "      <td>0.028584</td>\n",
       "      <td>0.215718</td>\n",
       "    </tr>\n",
       "    <tr>\n",
       "      <th>17</th>\n",
       "      <td>0.128669</td>\n",
       "      <td>0.162368</td>\n",
       "      <td>0.321091</td>\n",
       "      <td>15.0</td>\n",
       "      <td>0.695758</td>\n",
       "      <td>0.243681</td>\n",
       "      <td>0.073761</td>\n",
       "      <td>0.185674</td>\n",
       "    </tr>\n",
       "    <tr>\n",
       "      <th>18</th>\n",
       "      <td>0.232183</td>\n",
       "      <td>0.401608</td>\n",
       "      <td>0.428246</td>\n",
       "      <td>15.0</td>\n",
       "      <td>0.477222</td>\n",
       "      <td>0.333349</td>\n",
       "      <td>0.046100</td>\n",
       "      <td>0.135415</td>\n",
       "    </tr>\n",
       "    <tr>\n",
       "      <th>19</th>\n",
       "      <td>0.087151</td>\n",
       "      <td>0.136835</td>\n",
       "      <td>0.407152</td>\n",
       "      <td>15.0</td>\n",
       "      <td>0.772297</td>\n",
       "      <td>0.270952</td>\n",
       "      <td>0.066959</td>\n",
       "      <td>0.235154</td>\n",
       "    </tr>\n",
       "    <tr>\n",
       "      <th>20</th>\n",
       "      <td>0.210505</td>\n",
       "      <td>0.223469</td>\n",
       "      <td>0.277422</td>\n",
       "      <td>15.0</td>\n",
       "      <td>0.585280</td>\n",
       "      <td>0.257433</td>\n",
       "      <td>0.073443</td>\n",
       "      <td>0.117623</td>\n",
       "    </tr>\n",
       "    <tr>\n",
       "      <th>21</th>\n",
       "      <td>0.221621</td>\n",
       "      <td>0.400365</td>\n",
       "      <td>0.416720</td>\n",
       "      <td>15.0</td>\n",
       "      <td>0.478657</td>\n",
       "      <td>0.332323</td>\n",
       "      <td>0.084176</td>\n",
       "      <td>0.131375</td>\n",
       "    </tr>\n",
       "    <tr>\n",
       "      <th>22</th>\n",
       "      <td>0.129636</td>\n",
       "      <td>0.185904</td>\n",
       "      <td>0.285489</td>\n",
       "      <td>15.0</td>\n",
       "      <td>0.657287</td>\n",
       "      <td>0.243970</td>\n",
       "      <td>0.091436</td>\n",
       "      <td>0.169807</td>\n",
       "    </tr>\n",
       "    <tr>\n",
       "      <th>23</th>\n",
       "      <td>0.271518</td>\n",
       "      <td>0.418578</td>\n",
       "      <td>0.466210</td>\n",
       "      <td>15.0</td>\n",
       "      <td>0.535330</td>\n",
       "      <td>0.362884</td>\n",
       "      <td>0.133424</td>\n",
       "      <td>0.136189</td>\n",
       "    </tr>\n",
       "    <tr>\n",
       "      <th>24</th>\n",
       "      <td>0.236653</td>\n",
       "      <td>0.284546</td>\n",
       "      <td>0.335462</td>\n",
       "      <td>15.0</td>\n",
       "      <td>0.533615</td>\n",
       "      <td>0.281039</td>\n",
       "      <td>0.062618</td>\n",
       "      <td>0.105592</td>\n",
       "    </tr>\n",
       "  </tbody>\n",
       "</table>\n",
       "</div>"
      ],
      "text/plain": [
       "         25%       50%       75%  count       max      mean       min  \\\n",
       "0   0.068327  0.143908  0.410029   15.0  0.781108  0.262876  0.038522   \n",
       "1   0.120896  0.249572  0.461884   15.0  0.831046  0.314955  0.029517   \n",
       "2   0.122367  0.153582  0.312554   15.0  0.689098  0.240430  0.068554   \n",
       "3   0.250621  0.422561  0.458773   15.0  0.499652  0.356339  0.091819   \n",
       "4   0.236262  0.260566  0.311425   15.0  0.591487  0.282285  0.051798   \n",
       "5   0.375363  0.416005  0.444036   15.0  0.502245  0.392905  0.166264   \n",
       "6   0.276472  0.398789  0.451110   15.0  0.523466  0.359468  0.166657   \n",
       "7   0.207073  0.350723  0.397086   15.0  0.446109  0.305920  0.089066   \n",
       "8   0.094463  0.159458  0.350736   15.0  0.721373  0.247964  0.049475   \n",
       "9   0.220958  0.254802  0.316583   15.0  0.532809  0.269543  0.128348   \n",
       "10  0.220318  0.377271  0.418443   15.0  0.455250  0.320894  0.084069   \n",
       "11  0.180667  0.227360  0.264463   15.0  0.636625  0.259011  0.093015   \n",
       "12  0.102466  0.191527  0.365582   15.0  0.739741  0.258643  0.059148   \n",
       "13  0.231468  0.277262  0.322893   15.0  0.556034  0.276077  0.050834   \n",
       "14  0.143128  0.167896  0.310694   15.0  0.683867  0.246624  0.090172   \n",
       "15  0.117328  0.215859  0.477241   15.0  0.847267  0.316296  0.065924   \n",
       "16  0.095866  0.155916  0.365821   15.0  0.738139  0.249978  0.028584   \n",
       "17  0.128669  0.162368  0.321091   15.0  0.695758  0.243681  0.073761   \n",
       "18  0.232183  0.401608  0.428246   15.0  0.477222  0.333349  0.046100   \n",
       "19  0.087151  0.136835  0.407152   15.0  0.772297  0.270952  0.066959   \n",
       "20  0.210505  0.223469  0.277422   15.0  0.585280  0.257433  0.073443   \n",
       "21  0.221621  0.400365  0.416720   15.0  0.478657  0.332323  0.084176   \n",
       "22  0.129636  0.185904  0.285489   15.0  0.657287  0.243970  0.091436   \n",
       "23  0.271518  0.418578  0.466210   15.0  0.535330  0.362884  0.133424   \n",
       "24  0.236653  0.284546  0.335462   15.0  0.533615  0.281039  0.062618   \n",
       "\n",
       "         std  \n",
       "0   0.242809  \n",
       "1   0.238012  \n",
       "2   0.184538  \n",
       "3   0.133963  \n",
       "4   0.112533  \n",
       "5   0.087596  \n",
       "6   0.124299  \n",
       "7   0.115183  \n",
       "8   0.211194  \n",
       "9   0.103010  \n",
       "10  0.124706  \n",
       "11  0.135649  \n",
       "12  0.205793  \n",
       "13  0.108621  \n",
       "14  0.175379  \n",
       "15  0.251860  \n",
       "16  0.215718  \n",
       "17  0.185674  \n",
       "18  0.135415  \n",
       "19  0.235154  \n",
       "20  0.117623  \n",
       "21  0.131375  \n",
       "22  0.169807  \n",
       "23  0.136189  \n",
       "24  0.105592  "
      ]
     },
     "execution_count": 70,
     "metadata": {},
     "output_type": "execute_result"
    }
   ],
   "source": [
    "euclid_distance_statistics_normal"
   ]
  },
  {
   "cell_type": "code",
   "execution_count": 71,
   "metadata": {},
   "outputs": [],
   "source": [
    "data_list = []\n",
    "for embedding in embeddings_abnormal:\n",
    "    euclid_distances = np.sqrt(np.sum((embedding[np.newaxis, :] - embeddings_ref)**2, axis=1))\n",
    "    data = pd.DataFrame(euclid_distances).describe()\n",
    "    data_list.append(data.to_dict()[0])\n",
    "euclid_distance_statistics_abnormal = pd.io.json.json_normalize(data_list)"
   ]
  },
  {
   "cell_type": "code",
   "execution_count": 72,
   "metadata": {},
   "outputs": [
    {
     "name": "stdout",
     "output_type": "stream",
     "text": [
      "mean: 1.0713  max: 1.3723  min: 0.0831\n"
     ]
    }
   ],
   "source": [
    "print('mean: {:.4f}  max: {:.4f}  min: {:.4f}'.format(\n",
    "    euclid_distance_statistics_abnormal['mean'].mean(),\n",
    "    euclid_distance_statistics_abnormal['max'].max(),\n",
    "    euclid_distance_statistics_abnormal['min'].min(),\n",
    "    ))"
   ]
  },
  {
   "cell_type": "code",
   "execution_count": 73,
   "metadata": {
    "scrolled": true
   },
   "outputs": [
    {
     "data": {
      "text/html": [
       "<div>\n",
       "<style scoped>\n",
       "    .dataframe tbody tr th:only-of-type {\n",
       "        vertical-align: middle;\n",
       "    }\n",
       "\n",
       "    .dataframe tbody tr th {\n",
       "        vertical-align: top;\n",
       "    }\n",
       "\n",
       "    .dataframe thead th {\n",
       "        text-align: right;\n",
       "    }\n",
       "</style>\n",
       "<table border=\"1\" class=\"dataframe\">\n",
       "  <thead>\n",
       "    <tr style=\"text-align: right;\">\n",
       "      <th></th>\n",
       "      <th>25%</th>\n",
       "      <th>50%</th>\n",
       "      <th>75%</th>\n",
       "      <th>count</th>\n",
       "      <th>max</th>\n",
       "      <th>mean</th>\n",
       "      <th>min</th>\n",
       "      <th>std</th>\n",
       "    </tr>\n",
       "  </thead>\n",
       "  <tbody>\n",
       "    <tr>\n",
       "      <th>0</th>\n",
       "      <td>0.845610</td>\n",
       "      <td>0.863298</td>\n",
       "      <td>0.896818</td>\n",
       "      <td>15.0</td>\n",
       "      <td>0.985924</td>\n",
       "      <td>0.874654</td>\n",
       "      <td>0.793268</td>\n",
       "      <td>0.048335</td>\n",
       "    </tr>\n",
       "    <tr>\n",
       "      <th>1</th>\n",
       "      <td>1.229625</td>\n",
       "      <td>1.251447</td>\n",
       "      <td>1.265519</td>\n",
       "      <td>15.0</td>\n",
       "      <td>1.282636</td>\n",
       "      <td>1.235365</td>\n",
       "      <td>1.070937</td>\n",
       "      <td>0.054560</td>\n",
       "    </tr>\n",
       "    <tr>\n",
       "      <th>2</th>\n",
       "      <td>0.112906</td>\n",
       "      <td>0.165897</td>\n",
       "      <td>0.427383</td>\n",
       "      <td>15.0</td>\n",
       "      <td>0.781984</td>\n",
       "      <td>0.294168</td>\n",
       "      <td>0.083076</td>\n",
       "      <td>0.231020</td>\n",
       "    </tr>\n",
       "    <tr>\n",
       "      <th>3</th>\n",
       "      <td>1.243132</td>\n",
       "      <td>1.267791</td>\n",
       "      <td>1.278886</td>\n",
       "      <td>15.0</td>\n",
       "      <td>1.296733</td>\n",
       "      <td>1.248842</td>\n",
       "      <td>1.083506</td>\n",
       "      <td>0.055207</td>\n",
       "    </tr>\n",
       "    <tr>\n",
       "      <th>4</th>\n",
       "      <td>1.156926</td>\n",
       "      <td>1.181194</td>\n",
       "      <td>1.195335</td>\n",
       "      <td>15.0</td>\n",
       "      <td>1.218681</td>\n",
       "      <td>1.167730</td>\n",
       "      <td>1.051884</td>\n",
       "      <td>0.044390</td>\n",
       "    </tr>\n",
       "    <tr>\n",
       "      <th>5</th>\n",
       "      <td>1.123991</td>\n",
       "      <td>1.167595</td>\n",
       "      <td>1.188967</td>\n",
       "      <td>15.0</td>\n",
       "      <td>1.219629</td>\n",
       "      <td>1.138453</td>\n",
       "      <td>0.907243</td>\n",
       "      <td>0.079502</td>\n",
       "    </tr>\n",
       "    <tr>\n",
       "      <th>6</th>\n",
       "      <td>1.335870</td>\n",
       "      <td>1.353830</td>\n",
       "      <td>1.357742</td>\n",
       "      <td>15.0</td>\n",
       "      <td>1.368545</td>\n",
       "      <td>1.335031</td>\n",
       "      <td>1.193854</td>\n",
       "      <td>0.045507</td>\n",
       "    </tr>\n",
       "    <tr>\n",
       "      <th>7</th>\n",
       "      <td>1.340444</td>\n",
       "      <td>1.357571</td>\n",
       "      <td>1.361820</td>\n",
       "      <td>15.0</td>\n",
       "      <td>1.372257</td>\n",
       "      <td>1.339464</td>\n",
       "      <td>1.201065</td>\n",
       "      <td>0.044508</td>\n",
       "    </tr>\n",
       "    <tr>\n",
       "      <th>8</th>\n",
       "      <td>0.352895</td>\n",
       "      <td>0.383481</td>\n",
       "      <td>0.559615</td>\n",
       "      <td>15.0</td>\n",
       "      <td>0.786145</td>\n",
       "      <td>0.466140</td>\n",
       "      <td>0.316288</td>\n",
       "      <td>0.163467</td>\n",
       "    </tr>\n",
       "    <tr>\n",
       "      <th>9</th>\n",
       "      <td>0.944075</td>\n",
       "      <td>0.967580</td>\n",
       "      <td>0.997705</td>\n",
       "      <td>15.0</td>\n",
       "      <td>1.062393</td>\n",
       "      <td>0.969698</td>\n",
       "      <td>0.888167</td>\n",
       "      <td>0.044792</td>\n",
       "    </tr>\n",
       "    <tr>\n",
       "      <th>10</th>\n",
       "      <td>1.310714</td>\n",
       "      <td>1.329452</td>\n",
       "      <td>1.338286</td>\n",
       "      <td>15.0</td>\n",
       "      <td>1.351041</td>\n",
       "      <td>1.311912</td>\n",
       "      <td>1.159746</td>\n",
       "      <td>0.049517</td>\n",
       "    </tr>\n",
       "    <tr>\n",
       "      <th>11</th>\n",
       "      <td>1.329016</td>\n",
       "      <td>1.346906</td>\n",
       "      <td>1.352168</td>\n",
       "      <td>15.0</td>\n",
       "      <td>1.363288</td>\n",
       "      <td>1.328280</td>\n",
       "      <td>1.182977</td>\n",
       "      <td>0.046999</td>\n",
       "    </tr>\n",
       "    <tr>\n",
       "      <th>12</th>\n",
       "      <td>0.239661</td>\n",
       "      <td>0.258263</td>\n",
       "      <td>0.501768</td>\n",
       "      <td>15.0</td>\n",
       "      <td>0.810169</td>\n",
       "      <td>0.389881</td>\n",
       "      <td>0.196542</td>\n",
       "      <td>0.206220</td>\n",
       "    </tr>\n",
       "    <tr>\n",
       "      <th>13</th>\n",
       "      <td>1.209293</td>\n",
       "      <td>1.236129</td>\n",
       "      <td>1.258298</td>\n",
       "      <td>15.0</td>\n",
       "      <td>1.280564</td>\n",
       "      <td>1.220279</td>\n",
       "      <td>1.032070</td>\n",
       "      <td>0.063333</td>\n",
       "    </tr>\n",
       "    <tr>\n",
       "      <th>14</th>\n",
       "      <td>1.297461</td>\n",
       "      <td>1.316900</td>\n",
       "      <td>1.329012</td>\n",
       "      <td>15.0</td>\n",
       "      <td>1.343104</td>\n",
       "      <td>1.300641</td>\n",
       "      <td>1.141424</td>\n",
       "      <td>0.051902</td>\n",
       "    </tr>\n",
       "    <tr>\n",
       "      <th>15</th>\n",
       "      <td>1.293415</td>\n",
       "      <td>1.311849</td>\n",
       "      <td>1.329815</td>\n",
       "      <td>15.0</td>\n",
       "      <td>1.345331</td>\n",
       "      <td>1.298945</td>\n",
       "      <td>1.131943</td>\n",
       "      <td>0.054515</td>\n",
       "    </tr>\n",
       "    <tr>\n",
       "      <th>16</th>\n",
       "      <td>1.339093</td>\n",
       "      <td>1.355712</td>\n",
       "      <td>1.360190</td>\n",
       "      <td>15.0</td>\n",
       "      <td>1.370700</td>\n",
       "      <td>1.337832</td>\n",
       "      <td>1.198009</td>\n",
       "      <td>0.044937</td>\n",
       "    </tr>\n",
       "    <tr>\n",
       "      <th>17</th>\n",
       "      <td>0.502766</td>\n",
       "      <td>0.522605</td>\n",
       "      <td>0.658565</td>\n",
       "      <td>15.0</td>\n",
       "      <td>0.815095</td>\n",
       "      <td>0.580949</td>\n",
       "      <td>0.458178</td>\n",
       "      <td>0.114206</td>\n",
       "    </tr>\n",
       "    <tr>\n",
       "      <th>18</th>\n",
       "      <td>1.052582</td>\n",
       "      <td>1.081180</td>\n",
       "      <td>1.092339</td>\n",
       "      <td>15.0</td>\n",
       "      <td>1.124735</td>\n",
       "      <td>1.065702</td>\n",
       "      <td>0.944078</td>\n",
       "      <td>0.048925</td>\n",
       "    </tr>\n",
       "    <tr>\n",
       "      <th>19</th>\n",
       "      <td>1.269724</td>\n",
       "      <td>1.292349</td>\n",
       "      <td>1.303098</td>\n",
       "      <td>15.0</td>\n",
       "      <td>1.319012</td>\n",
       "      <td>1.274037</td>\n",
       "      <td>1.112049</td>\n",
       "      <td>0.053386</td>\n",
       "    </tr>\n",
       "    <tr>\n",
       "      <th>20</th>\n",
       "      <td>1.284421</td>\n",
       "      <td>1.302600</td>\n",
       "      <td>1.320440</td>\n",
       "      <td>15.0</td>\n",
       "      <td>1.335806</td>\n",
       "      <td>1.289682</td>\n",
       "      <td>1.122867</td>\n",
       "      <td>0.054357</td>\n",
       "    </tr>\n",
       "    <tr>\n",
       "      <th>21</th>\n",
       "      <td>0.222939</td>\n",
       "      <td>0.246639</td>\n",
       "      <td>0.483042</td>\n",
       "      <td>15.0</td>\n",
       "      <td>0.800354</td>\n",
       "      <td>0.377386</td>\n",
       "      <td>0.199813</td>\n",
       "      <td>0.204163</td>\n",
       "    </tr>\n",
       "    <tr>\n",
       "      <th>22</th>\n",
       "      <td>1.339252</td>\n",
       "      <td>1.356906</td>\n",
       "      <td>1.361130</td>\n",
       "      <td>15.0</td>\n",
       "      <td>1.371698</td>\n",
       "      <td>1.338531</td>\n",
       "      <td>1.199381</td>\n",
       "      <td>0.044842</td>\n",
       "    </tr>\n",
       "    <tr>\n",
       "      <th>23</th>\n",
       "      <td>1.310071</td>\n",
       "      <td>1.329557</td>\n",
       "      <td>1.340071</td>\n",
       "      <td>15.0</td>\n",
       "      <td>1.353639</td>\n",
       "      <td>1.312458</td>\n",
       "      <td>1.155497</td>\n",
       "      <td>0.051092</td>\n",
       "    </tr>\n",
       "    <tr>\n",
       "      <th>24</th>\n",
       "      <td>1.285589</td>\n",
       "      <td>1.307414</td>\n",
       "      <td>1.312685</td>\n",
       "      <td>15.0</td>\n",
       "      <td>1.326225</td>\n",
       "      <td>1.286770</td>\n",
       "      <td>1.135965</td>\n",
       "      <td>0.049592</td>\n",
       "    </tr>\n",
       "  </tbody>\n",
       "</table>\n",
       "</div>"
      ],
      "text/plain": [
       "         25%       50%       75%  count       max      mean       min  \\\n",
       "0   0.845610  0.863298  0.896818   15.0  0.985924  0.874654  0.793268   \n",
       "1   1.229625  1.251447  1.265519   15.0  1.282636  1.235365  1.070937   \n",
       "2   0.112906  0.165897  0.427383   15.0  0.781984  0.294168  0.083076   \n",
       "3   1.243132  1.267791  1.278886   15.0  1.296733  1.248842  1.083506   \n",
       "4   1.156926  1.181194  1.195335   15.0  1.218681  1.167730  1.051884   \n",
       "5   1.123991  1.167595  1.188967   15.0  1.219629  1.138453  0.907243   \n",
       "6   1.335870  1.353830  1.357742   15.0  1.368545  1.335031  1.193854   \n",
       "7   1.340444  1.357571  1.361820   15.0  1.372257  1.339464  1.201065   \n",
       "8   0.352895  0.383481  0.559615   15.0  0.786145  0.466140  0.316288   \n",
       "9   0.944075  0.967580  0.997705   15.0  1.062393  0.969698  0.888167   \n",
       "10  1.310714  1.329452  1.338286   15.0  1.351041  1.311912  1.159746   \n",
       "11  1.329016  1.346906  1.352168   15.0  1.363288  1.328280  1.182977   \n",
       "12  0.239661  0.258263  0.501768   15.0  0.810169  0.389881  0.196542   \n",
       "13  1.209293  1.236129  1.258298   15.0  1.280564  1.220279  1.032070   \n",
       "14  1.297461  1.316900  1.329012   15.0  1.343104  1.300641  1.141424   \n",
       "15  1.293415  1.311849  1.329815   15.0  1.345331  1.298945  1.131943   \n",
       "16  1.339093  1.355712  1.360190   15.0  1.370700  1.337832  1.198009   \n",
       "17  0.502766  0.522605  0.658565   15.0  0.815095  0.580949  0.458178   \n",
       "18  1.052582  1.081180  1.092339   15.0  1.124735  1.065702  0.944078   \n",
       "19  1.269724  1.292349  1.303098   15.0  1.319012  1.274037  1.112049   \n",
       "20  1.284421  1.302600  1.320440   15.0  1.335806  1.289682  1.122867   \n",
       "21  0.222939  0.246639  0.483042   15.0  0.800354  0.377386  0.199813   \n",
       "22  1.339252  1.356906  1.361130   15.0  1.371698  1.338531  1.199381   \n",
       "23  1.310071  1.329557  1.340071   15.0  1.353639  1.312458  1.155497   \n",
       "24  1.285589  1.307414  1.312685   15.0  1.326225  1.286770  1.135965   \n",
       "\n",
       "         std  \n",
       "0   0.048335  \n",
       "1   0.054560  \n",
       "2   0.231020  \n",
       "3   0.055207  \n",
       "4   0.044390  \n",
       "5   0.079502  \n",
       "6   0.045507  \n",
       "7   0.044508  \n",
       "8   0.163467  \n",
       "9   0.044792  \n",
       "10  0.049517  \n",
       "11  0.046999  \n",
       "12  0.206220  \n",
       "13  0.063333  \n",
       "14  0.051902  \n",
       "15  0.054515  \n",
       "16  0.044937  \n",
       "17  0.114206  \n",
       "18  0.048925  \n",
       "19  0.053386  \n",
       "20  0.054357  \n",
       "21  0.204163  \n",
       "22  0.044842  \n",
       "23  0.051092  \n",
       "24  0.049592  "
      ]
     },
     "execution_count": 73,
     "metadata": {},
     "output_type": "execute_result"
    }
   ],
   "source": [
    "euclid_distance_statistics_abnormal"
   ]
  },
  {
   "cell_type": "markdown",
   "metadata": {},
   "source": [
    "#### Score and Predict"
   ]
  },
  {
   "cell_type": "code",
   "execution_count": 74,
   "metadata": {},
   "outputs": [],
   "source": [
    "column_name = 'mean'\n",
    "scores = (\n",
    "    list(euclid_distance_statistics_normal[column_name].values)\n",
    "    + list(euclid_distance_statistics_abnormal[column_name].values)\n",
    "    )"
   ]
  },
  {
   "cell_type": "code",
   "execution_count": 75,
   "metadata": {},
   "outputs": [],
   "source": [
    "preds = [\n",
    "    label_normal\n",
    "    if (score < threshold)\n",
    "    else label_abnormal\n",
    "    for score in scores\n",
    "    ]"
   ]
  },
  {
   "cell_type": "code",
   "execution_count": 76,
   "metadata": {},
   "outputs": [],
   "source": [
    "scores = [-score for score in scores]"
   ]
  },
  {
   "cell_type": "markdown",
   "metadata": {},
   "source": [
    "#### Evaluate"
   ]
  },
  {
   "cell_type": "code",
   "execution_count": 77,
   "metadata": {},
   "outputs": [
    {
     "name": "stdout",
     "output_type": "stream",
     "text": [
      "#Pred Normal: 16\n"
     ]
    }
   ],
   "source": [
    "print('#Pred Normal: {}'.format(preds.count(1)))"
   ]
  },
  {
   "cell_type": "code",
   "execution_count": 78,
   "metadata": {},
   "outputs": [
    {
     "name": "stdout",
     "output_type": "stream",
     "text": [
      "Acc: 0.7800  Precision: 0.9375  Recall: 0.6000  F1: 0.731707\n",
      "Confusion Matrix\n",
      "[[24  1]\n",
      " [10 15]]\n"
     ]
    }
   ],
   "source": [
    "evaluate_bc(labels, preds)"
   ]
  },
  {
   "cell_type": "code",
   "execution_count": 79,
   "metadata": {},
   "outputs": [
    {
     "name": "stdout",
     "output_type": "stream",
     "text": [
      "AUC: 0.9808\n"
     ]
    },
    {
     "data": {
      "image/png": "[encoded data removed]",
      "text/plain": [
       "<Figure size 432x288 with 1 Axes>"
      ]
     },
     "metadata": {
      "needs_background": "light"
     },
     "output_type": "display_data"
    }
   ],
   "source": [
    "# AUROC\n",
    "\n",
    "fpr, tpr, _ = metrics.roc_curve(labels, scores)\n",
    "auc = metrics.auc(fpr, tpr)\n",
    "print('AUC: {:.4f}'.format(auc))\n",
    "\n",
    "plt.plot(fpr, tpr, label='AUC = {:.2f}'.format(auc))\n",
    "plt.legend()\n",
    "plt.title('ROC curve')\n",
    "plt.xlabel('False Positive Rate')\n",
    "plt.ylabel('True Positive Rate')\n",
    "plt.grid(True)\n",
    "plt.show()"
   ]
  },
  {
   "cell_type": "markdown",
   "metadata": {},
   "source": [
    "### Cosine Similarity"
   ]
  },
  {
   "cell_type": "markdown",
   "metadata": {},
   "source": [
    "#### Watch Data"
   ]
  },
  {
   "cell_type": "code",
   "execution_count": 80,
   "metadata": {},
   "outputs": [],
   "source": [
    "threshold = 0.75"
   ]
  },
  {
   "cell_type": "code",
   "execution_count": 81,
   "metadata": {},
   "outputs": [],
   "source": [
    "data_list = []\n",
    "for embedding in embeddings_normal:\n",
    "    cosine_similarities = embeddings_ref.dot(embedding)\n",
    "    data = pd.DataFrame(cosine_similarities).describe()\n",
    "    data_list.append(data.to_dict()[0])\n",
    "cosine_similarity_statistics_normal = pd.io.json.json_normalize(data_list)"
   ]
  },
  {
   "cell_type": "code",
   "execution_count": 82,
   "metadata": {},
   "outputs": [
    {
     "name": "stdout",
     "output_type": "stream",
     "text": [
      "mean: 0.9435  max: 0.9996  min: 0.6411\n"
     ]
    }
   ],
   "source": [
    "print('mean: {:.4f}  max: {:.4f}  min: {:.4f}'.format(\n",
    "    cosine_similarity_statistics_normal['mean'].mean(),\n",
    "    cosine_similarity_statistics_normal['max'].max(),\n",
    "    cosine_similarity_statistics_normal['min'].min(),\n",
    "    ))"
   ]
  },
  {
   "cell_type": "code",
   "execution_count": 83,
   "metadata": {
    "scrolled": true
   },
   "outputs": [
    {
     "data": {
      "text/html": [
       "<div>\n",
       "<style scoped>\n",
       "    .dataframe tbody tr th:only-of-type {\n",
       "        vertical-align: middle;\n",
       "    }\n",
       "\n",
       "    .dataframe tbody tr th {\n",
       "        vertical-align: top;\n",
       "    }\n",
       "\n",
       "    .dataframe thead th {\n",
       "        text-align: right;\n",
       "    }\n",
       "</style>\n",
       "<table border=\"1\" class=\"dataframe\">\n",
       "  <thead>\n",
       "    <tr style=\"text-align: right;\">\n",
       "      <th></th>\n",
       "      <th>25%</th>\n",
       "      <th>50%</th>\n",
       "      <th>75%</th>\n",
       "      <th>count</th>\n",
       "      <th>max</th>\n",
       "      <th>mean</th>\n",
       "      <th>min</th>\n",
       "      <th>std</th>\n",
       "    </tr>\n",
       "  </thead>\n",
       "  <tbody>\n",
       "    <tr>\n",
       "      <th>0</th>\n",
       "      <td>0.914792</td>\n",
       "      <td>0.989645</td>\n",
       "      <td>0.997663</td>\n",
       "      <td>15.0</td>\n",
       "      <td>0.999258</td>\n",
       "      <td>0.937935</td>\n",
       "      <td>0.694935</td>\n",
       "      <td>0.091923</td>\n",
       "    </tr>\n",
       "    <tr>\n",
       "      <th>1</th>\n",
       "      <td>0.893094</td>\n",
       "      <td>0.968857</td>\n",
       "      <td>0.992692</td>\n",
       "      <td>15.0</td>\n",
       "      <td>0.999564</td>\n",
       "      <td>0.923965</td>\n",
       "      <td>0.654682</td>\n",
       "      <td>0.099842</td>\n",
       "    </tr>\n",
       "    <tr>\n",
       "      <th>2</th>\n",
       "      <td>0.950372</td>\n",
       "      <td>0.988206</td>\n",
       "      <td>0.992287</td>\n",
       "      <td>15.0</td>\n",
       "      <td>0.997650</td>\n",
       "      <td>0.955205</td>\n",
       "      <td>0.762572</td>\n",
       "      <td>0.067025</td>\n",
       "    </tr>\n",
       "    <tr>\n",
       "      <th>3</th>\n",
       "      <td>0.894709</td>\n",
       "      <td>0.910721</td>\n",
       "      <td>0.967239</td>\n",
       "      <td>15.0</td>\n",
       "      <td>0.995785</td>\n",
       "      <td>0.928137</td>\n",
       "      <td>0.875174</td>\n",
       "      <td>0.041723</td>\n",
       "    </tr>\n",
       "    <tr>\n",
       "      <th>4</th>\n",
       "      <td>0.951482</td>\n",
       "      <td>0.966053</td>\n",
       "      <td>0.972011</td>\n",
       "      <td>15.0</td>\n",
       "      <td>0.998659</td>\n",
       "      <td>0.954248</td>\n",
       "      <td>0.825072</td>\n",
       "      <td>0.039198</td>\n",
       "    </tr>\n",
       "    <tr>\n",
       "      <th>5</th>\n",
       "      <td>0.901274</td>\n",
       "      <td>0.913470</td>\n",
       "      <td>0.929516</td>\n",
       "      <td>15.0</td>\n",
       "      <td>0.986178</td>\n",
       "      <td>0.919232</td>\n",
       "      <td>0.873875</td>\n",
       "      <td>0.030365</td>\n",
       "    </tr>\n",
       "    <tr>\n",
       "      <th>6</th>\n",
       "      <td>0.898203</td>\n",
       "      <td>0.920484</td>\n",
       "      <td>0.961761</td>\n",
       "      <td>15.0</td>\n",
       "      <td>0.986113</td>\n",
       "      <td>0.928181</td>\n",
       "      <td>0.862992</td>\n",
       "      <td>0.042416</td>\n",
       "    </tr>\n",
       "    <tr>\n",
       "      <th>7</th>\n",
       "      <td>0.920916</td>\n",
       "      <td>0.938497</td>\n",
       "      <td>0.978309</td>\n",
       "      <td>15.0</td>\n",
       "      <td>0.996034</td>\n",
       "      <td>0.947015</td>\n",
       "      <td>0.900493</td>\n",
       "      <td>0.032472</td>\n",
       "    </tr>\n",
       "    <tr>\n",
       "      <th>8</th>\n",
       "      <td>0.936718</td>\n",
       "      <td>0.987287</td>\n",
       "      <td>0.995536</td>\n",
       "      <td>15.0</td>\n",
       "      <td>0.998776</td>\n",
       "      <td>0.948442</td>\n",
       "      <td>0.739811</td>\n",
       "      <td>0.077375</td>\n",
       "    </tr>\n",
       "    <tr>\n",
       "      <th>9</th>\n",
       "      <td>0.949888</td>\n",
       "      <td>0.967538</td>\n",
       "      <td>0.975339</td>\n",
       "      <td>15.0</td>\n",
       "      <td>0.991763</td>\n",
       "      <td>0.958721</td>\n",
       "      <td>0.858057</td>\n",
       "      <td>0.033092</td>\n",
       "    </tr>\n",
       "    <tr>\n",
       "      <th>10</th>\n",
       "      <td>0.912352</td>\n",
       "      <td>0.928833</td>\n",
       "      <td>0.975565</td>\n",
       "      <td>15.0</td>\n",
       "      <td>0.996466</td>\n",
       "      <td>0.941256</td>\n",
       "      <td>0.896374</td>\n",
       "      <td>0.036284</td>\n",
       "    </tr>\n",
       "    <tr>\n",
       "      <th>11</th>\n",
       "      <td>0.965028</td>\n",
       "      <td>0.974154</td>\n",
       "      <td>0.983678</td>\n",
       "      <td>15.0</td>\n",
       "      <td>0.995674</td>\n",
       "      <td>0.957870</td>\n",
       "      <td>0.797354</td>\n",
       "      <td>0.050569</td>\n",
       "    </tr>\n",
       "    <tr>\n",
       "      <th>12</th>\n",
       "      <td>0.932932</td>\n",
       "      <td>0.981659</td>\n",
       "      <td>0.994744</td>\n",
       "      <td>15.0</td>\n",
       "      <td>0.998251</td>\n",
       "      <td>0.946788</td>\n",
       "      <td>0.726391</td>\n",
       "      <td>0.077432</td>\n",
       "    </tr>\n",
       "    <tr>\n",
       "      <th>13</th>\n",
       "      <td>0.947870</td>\n",
       "      <td>0.961563</td>\n",
       "      <td>0.973149</td>\n",
       "      <td>15.0</td>\n",
       "      <td>0.998708</td>\n",
       "      <td>0.956385</td>\n",
       "      <td>0.845413</td>\n",
       "      <td>0.034841</td>\n",
       "    </tr>\n",
       "    <tr>\n",
       "      <th>14</th>\n",
       "      <td>0.951377</td>\n",
       "      <td>0.985905</td>\n",
       "      <td>0.989748</td>\n",
       "      <td>15.0</td>\n",
       "      <td>0.995934</td>\n",
       "      <td>0.955235</td>\n",
       "      <td>0.766163</td>\n",
       "      <td>0.064663</td>\n",
       "    </tr>\n",
       "    <tr>\n",
       "      <th>15</th>\n",
       "      <td>0.885310</td>\n",
       "      <td>0.976702</td>\n",
       "      <td>0.993115</td>\n",
       "      <td>15.0</td>\n",
       "      <td>0.997827</td>\n",
       "      <td>0.920376</td>\n",
       "      <td>0.641070</td>\n",
       "      <td>0.107358</td>\n",
       "    </tr>\n",
       "    <tr>\n",
       "      <th>16</th>\n",
       "      <td>0.932551</td>\n",
       "      <td>0.987845</td>\n",
       "      <td>0.995316</td>\n",
       "      <td>15.0</td>\n",
       "      <td>0.999591</td>\n",
       "      <td>0.947039</td>\n",
       "      <td>0.727575</td>\n",
       "      <td>0.079105</td>\n",
       "    </tr>\n",
       "    <tr>\n",
       "      <th>17</th>\n",
       "      <td>0.947996</td>\n",
       "      <td>0.986818</td>\n",
       "      <td>0.991710</td>\n",
       "      <td>15.0</td>\n",
       "      <td>0.997280</td>\n",
       "      <td>0.954222</td>\n",
       "      <td>0.757960</td>\n",
       "      <td>0.067937</td>\n",
       "    </tr>\n",
       "    <tr>\n",
       "      <th>18</th>\n",
       "      <td>0.908258</td>\n",
       "      <td>0.919356</td>\n",
       "      <td>0.972828</td>\n",
       "      <td>15.0</td>\n",
       "      <td>0.998937</td>\n",
       "      <td>0.935882</td>\n",
       "      <td>0.886130</td>\n",
       "      <td>0.038955</td>\n",
       "    </tr>\n",
       "    <tr>\n",
       "      <th>19</th>\n",
       "      <td>0.915521</td>\n",
       "      <td>0.990638</td>\n",
       "      <td>0.996202</td>\n",
       "      <td>15.0</td>\n",
       "      <td>0.997758</td>\n",
       "      <td>0.937487</td>\n",
       "      <td>0.701779</td>\n",
       "      <td>0.090756</td>\n",
       "    </tr>\n",
       "    <tr>\n",
       "      <th>20</th>\n",
       "      <td>0.961512</td>\n",
       "      <td>0.975031</td>\n",
       "      <td>0.977843</td>\n",
       "      <td>15.0</td>\n",
       "      <td>0.997303</td>\n",
       "      <td>0.960407</td>\n",
       "      <td>0.828723</td>\n",
       "      <td>0.040860</td>\n",
       "    </tr>\n",
       "    <tr>\n",
       "      <th>21</th>\n",
       "      <td>0.913124</td>\n",
       "      <td>0.919854</td>\n",
       "      <td>0.975375</td>\n",
       "      <td>15.0</td>\n",
       "      <td>0.996457</td>\n",
       "      <td>0.936726</td>\n",
       "      <td>0.885444</td>\n",
       "      <td>0.039257</td>\n",
       "    </tr>\n",
       "    <tr>\n",
       "      <th>22</th>\n",
       "      <td>0.957692</td>\n",
       "      <td>0.982720</td>\n",
       "      <td>0.991596</td>\n",
       "      <td>15.0</td>\n",
       "      <td>0.995820</td>\n",
       "      <td>0.956783</td>\n",
       "      <td>0.783987</td>\n",
       "      <td>0.060763</td>\n",
       "    </tr>\n",
       "    <tr>\n",
       "      <th>23</th>\n",
       "      <td>0.891283</td>\n",
       "      <td>0.912396</td>\n",
       "      <td>0.963059</td>\n",
       "      <td>15.0</td>\n",
       "      <td>0.991099</td>\n",
       "      <td>0.925502</td>\n",
       "      <td>0.856711</td>\n",
       "      <td>0.046622</td>\n",
       "    </tr>\n",
       "    <tr>\n",
       "      <th>24</th>\n",
       "      <td>0.943717</td>\n",
       "      <td>0.959517</td>\n",
       "      <td>0.971753</td>\n",
       "      <td>15.0</td>\n",
       "      <td>0.998040</td>\n",
       "      <td>0.955305</td>\n",
       "      <td>0.857628</td>\n",
       "      <td>0.032332</td>\n",
       "    </tr>\n",
       "  </tbody>\n",
       "</table>\n",
       "</div>"
      ],
      "text/plain": [
       "         25%       50%       75%  count       max      mean       min  \\\n",
       "0   0.914792  0.989645  0.997663   15.0  0.999258  0.937935  0.694935   \n",
       "1   0.893094  0.968857  0.992692   15.0  0.999564  0.923965  0.654682   \n",
       "2   0.950372  0.988206  0.992287   15.0  0.997650  0.955205  0.762572   \n",
       "3   0.894709  0.910721  0.967239   15.0  0.995785  0.928137  0.875174   \n",
       "4   0.951482  0.966053  0.972011   15.0  0.998659  0.954248  0.825072   \n",
       "5   0.901274  0.913470  0.929516   15.0  0.986178  0.919232  0.873875   \n",
       "6   0.898203  0.920484  0.961761   15.0  0.986113  0.928181  0.862992   \n",
       "7   0.920916  0.938497  0.978309   15.0  0.996034  0.947015  0.900493   \n",
       "8   0.936718  0.987287  0.995536   15.0  0.998776  0.948442  0.739811   \n",
       "9   0.949888  0.967538  0.975339   15.0  0.991763  0.958721  0.858057   \n",
       "10  0.912352  0.928833  0.975565   15.0  0.996466  0.941256  0.896374   \n",
       "11  0.965028  0.974154  0.983678   15.0  0.995674  0.957870  0.797354   \n",
       "12  0.932932  0.981659  0.994744   15.0  0.998251  0.946788  0.726391   \n",
       "13  0.947870  0.961563  0.973149   15.0  0.998708  0.956385  0.845413   \n",
       "14  0.951377  0.985905  0.989748   15.0  0.995934  0.955235  0.766163   \n",
       "15  0.885310  0.976702  0.993115   15.0  0.997827  0.920376  0.641070   \n",
       "16  0.932551  0.987845  0.995316   15.0  0.999591  0.947039  0.727575   \n",
       "17  0.947996  0.986818  0.991710   15.0  0.997280  0.954222  0.757960   \n",
       "18  0.908258  0.919356  0.972828   15.0  0.998937  0.935882  0.886130   \n",
       "19  0.915521  0.990638  0.996202   15.0  0.997758  0.937487  0.701779   \n",
       "20  0.961512  0.975031  0.977843   15.0  0.997303  0.960407  0.828723   \n",
       "21  0.913124  0.919854  0.975375   15.0  0.996457  0.936726  0.885444   \n",
       "22  0.957692  0.982720  0.991596   15.0  0.995820  0.956783  0.783987   \n",
       "23  0.891283  0.912396  0.963059   15.0  0.991099  0.925502  0.856711   \n",
       "24  0.943717  0.959517  0.971753   15.0  0.998040  0.955305  0.857628   \n",
       "\n",
       "         std  \n",
       "0   0.091923  \n",
       "1   0.099842  \n",
       "2   0.067025  \n",
       "3   0.041723  \n",
       "4   0.039198  \n",
       "5   0.030365  \n",
       "6   0.042416  \n",
       "7   0.032472  \n",
       "8   0.077375  \n",
       "9   0.033092  \n",
       "10  0.036284  \n",
       "11  0.050569  \n",
       "12  0.077432  \n",
       "13  0.034841  \n",
       "14  0.064663  \n",
       "15  0.107358  \n",
       "16  0.079105  \n",
       "17  0.067937  \n",
       "18  0.038955  \n",
       "19  0.090756  \n",
       "20  0.040860  \n",
       "21  0.039257  \n",
       "22  0.060763  \n",
       "23  0.046622  \n",
       "24  0.032332  "
      ]
     },
     "execution_count": 83,
     "metadata": {},
     "output_type": "execute_result"
    }
   ],
   "source": [
    "cosine_similarity_statistics_normal"
   ]
  },
  {
   "cell_type": "code",
   "execution_count": 84,
   "metadata": {},
   "outputs": [],
   "source": [
    "data_list = []\n",
    "for embedding in embeddings_abnormal:\n",
    "    cosine_similarities = embeddings_ref.dot(embedding)\n",
    "    data = pd.DataFrame(cosine_similarities).describe()\n",
    "    data_list.append(data.to_dict()[0])\n",
    "cosine_similarity_statistics_abnormal = pd.io.json.json_normalize(data_list)"
   ]
  },
  {
   "cell_type": "code",
   "execution_count": 85,
   "metadata": {},
   "outputs": [
    {
     "name": "stdout",
     "output_type": "stream",
     "text": [
      "mean: 0.3617  max: 0.9965  min: 0.0585\n"
     ]
    }
   ],
   "source": [
    "print('mean: {:.4f}  max: {:.4f}  min: {:.4f}'.format(\n",
    "    cosine_similarity_statistics_abnormal['mean'].mean(),\n",
    "    cosine_similarity_statistics_abnormal['max'].max(),\n",
    "    cosine_similarity_statistics_abnormal['min'].min(),\n",
    "    ))"
   ]
  },
  {
   "cell_type": "code",
   "execution_count": 86,
   "metadata": {
    "scrolled": true
   },
   "outputs": [
    {
     "data": {
      "text/html": [
       "<div>\n",
       "<style scoped>\n",
       "    .dataframe tbody tr th:only-of-type {\n",
       "        vertical-align: middle;\n",
       "    }\n",
       "\n",
       "    .dataframe tbody tr th {\n",
       "        vertical-align: top;\n",
       "    }\n",
       "\n",
       "    .dataframe thead th {\n",
       "        text-align: right;\n",
       "    }\n",
       "</style>\n",
       "<table border=\"1\" class=\"dataframe\">\n",
       "  <thead>\n",
       "    <tr style=\"text-align: right;\">\n",
       "      <th></th>\n",
       "      <th>25%</th>\n",
       "      <th>50%</th>\n",
       "      <th>75%</th>\n",
       "      <th>count</th>\n",
       "      <th>max</th>\n",
       "      <th>mean</th>\n",
       "      <th>min</th>\n",
       "      <th>std</th>\n",
       "    </tr>\n",
       "  </thead>\n",
       "  <tbody>\n",
       "    <tr>\n",
       "      <th>0</th>\n",
       "      <td>0.597778</td>\n",
       "      <td>0.627358</td>\n",
       "      <td>0.642469</td>\n",
       "      <td>15.0</td>\n",
       "      <td>0.685363</td>\n",
       "      <td>0.616400</td>\n",
       "      <td>0.513977</td>\n",
       "      <td>0.043098</td>\n",
       "    </tr>\n",
       "    <tr>\n",
       "      <th>1</th>\n",
       "      <td>0.199227</td>\n",
       "      <td>0.216940</td>\n",
       "      <td>0.244003</td>\n",
       "      <td>15.0</td>\n",
       "      <td>0.426547</td>\n",
       "      <td>0.235547</td>\n",
       "      <td>0.177423</td>\n",
       "      <td>0.064382</td>\n",
       "    </tr>\n",
       "    <tr>\n",
       "      <th>2</th>\n",
       "      <td>0.907305</td>\n",
       "      <td>0.986239</td>\n",
       "      <td>0.993581</td>\n",
       "      <td>15.0</td>\n",
       "      <td>0.996549</td>\n",
       "      <td>0.931826</td>\n",
       "      <td>0.694250</td>\n",
       "      <td>0.093219</td>\n",
       "    </tr>\n",
       "    <tr>\n",
       "      <th>3</th>\n",
       "      <td>0.182221</td>\n",
       "      <td>0.196353</td>\n",
       "      <td>0.227291</td>\n",
       "      <td>15.0</td>\n",
       "      <td>0.413007</td>\n",
       "      <td>0.218775</td>\n",
       "      <td>0.159242</td>\n",
       "      <td>0.065907</td>\n",
       "    </tr>\n",
       "    <tr>\n",
       "      <th>4</th>\n",
       "      <td>0.285581</td>\n",
       "      <td>0.302390</td>\n",
       "      <td>0.330752</td>\n",
       "      <td>15.0</td>\n",
       "      <td>0.446770</td>\n",
       "      <td>0.317284</td>\n",
       "      <td>0.257408</td>\n",
       "      <td>0.050470</td>\n",
       "    </tr>\n",
       "    <tr>\n",
       "      <th>5</th>\n",
       "      <td>0.293177</td>\n",
       "      <td>0.318361</td>\n",
       "      <td>0.368322</td>\n",
       "      <td>15.0</td>\n",
       "      <td>0.588455</td>\n",
       "      <td>0.349013</td>\n",
       "      <td>0.256252</td>\n",
       "      <td>0.085156</td>\n",
       "    </tr>\n",
       "    <tr>\n",
       "      <th>6</th>\n",
       "      <td>0.078268</td>\n",
       "      <td>0.083572</td>\n",
       "      <td>0.107718</td>\n",
       "      <td>15.0</td>\n",
       "      <td>0.287356</td>\n",
       "      <td>0.107879</td>\n",
       "      <td>0.063542</td>\n",
       "      <td>0.058471</td>\n",
       "    </tr>\n",
       "    <tr>\n",
       "      <th>7</th>\n",
       "      <td>0.072723</td>\n",
       "      <td>0.078500</td>\n",
       "      <td>0.101599</td>\n",
       "      <td>15.0</td>\n",
       "      <td>0.278721</td>\n",
       "      <td>0.101993</td>\n",
       "      <td>0.058455</td>\n",
       "      <td>0.057418</td>\n",
       "    </tr>\n",
       "    <tr>\n",
       "      <th>8</th>\n",
       "      <td>0.842013</td>\n",
       "      <td>0.926471</td>\n",
       "      <td>0.937732</td>\n",
       "      <td>15.0</td>\n",
       "      <td>0.949981</td>\n",
       "      <td>0.878887</td>\n",
       "      <td>0.690988</td>\n",
       "      <td>0.089212</td>\n",
       "    </tr>\n",
       "    <tr>\n",
       "      <th>9</th>\n",
       "      <td>0.502244</td>\n",
       "      <td>0.531895</td>\n",
       "      <td>0.554360</td>\n",
       "      <td>15.0</td>\n",
       "      <td>0.605580</td>\n",
       "      <td>0.528907</td>\n",
       "      <td>0.435661</td>\n",
       "      <td>0.043676</td>\n",
       "    </tr>\n",
       "    <tr>\n",
       "      <th>10</th>\n",
       "      <td>0.104494</td>\n",
       "      <td>0.116279</td>\n",
       "      <td>0.141004</td>\n",
       "      <td>15.0</td>\n",
       "      <td>0.327495</td>\n",
       "      <td>0.138299</td>\n",
       "      <td>0.087344</td>\n",
       "      <td>0.062339</td>\n",
       "    </tr>\n",
       "    <tr>\n",
       "      <th>11</th>\n",
       "      <td>0.085820</td>\n",
       "      <td>0.092922</td>\n",
       "      <td>0.116846</td>\n",
       "      <td>15.0</td>\n",
       "      <td>0.300282</td>\n",
       "      <td>0.116805</td>\n",
       "      <td>0.070722</td>\n",
       "      <td>0.060019</td>\n",
       "    </tr>\n",
       "    <tr>\n",
       "      <th>12</th>\n",
       "      <td>0.871851</td>\n",
       "      <td>0.966650</td>\n",
       "      <td>0.971280</td>\n",
       "      <td>15.0</td>\n",
       "      <td>0.980686</td>\n",
       "      <td>0.904150</td>\n",
       "      <td>0.671813</td>\n",
       "      <td>0.100377</td>\n",
       "    </tr>\n",
       "    <tr>\n",
       "      <th>13</th>\n",
       "      <td>0.208338</td>\n",
       "      <td>0.235992</td>\n",
       "      <td>0.268806</td>\n",
       "      <td>15.0</td>\n",
       "      <td>0.467416</td>\n",
       "      <td>0.253588</td>\n",
       "      <td>0.180078</td>\n",
       "      <td>0.073457</td>\n",
       "    </tr>\n",
       "    <tr>\n",
       "      <th>14</th>\n",
       "      <td>0.116861</td>\n",
       "      <td>0.132888</td>\n",
       "      <td>0.158291</td>\n",
       "      <td>15.0</td>\n",
       "      <td>0.348576</td>\n",
       "      <td>0.152909</td>\n",
       "      <td>0.098035</td>\n",
       "      <td>0.064649</td>\n",
       "    </tr>\n",
       "    <tr>\n",
       "      <th>15</th>\n",
       "      <td>0.115793</td>\n",
       "      <td>0.139527</td>\n",
       "      <td>0.163537</td>\n",
       "      <td>15.0</td>\n",
       "      <td>0.359352</td>\n",
       "      <td>0.154984</td>\n",
       "      <td>0.095042</td>\n",
       "      <td>0.067697</td>\n",
       "    </tr>\n",
       "    <tr>\n",
       "      <th>16</th>\n",
       "      <td>0.074940</td>\n",
       "      <td>0.081023</td>\n",
       "      <td>0.103408</td>\n",
       "      <td>15.0</td>\n",
       "      <td>0.282387</td>\n",
       "      <td>0.104160</td>\n",
       "      <td>0.060591</td>\n",
       "      <td>0.057873</td>\n",
       "    </tr>\n",
       "    <tr>\n",
       "      <th>17</th>\n",
       "      <td>0.782653</td>\n",
       "      <td>0.863442</td>\n",
       "      <td>0.873611</td>\n",
       "      <td>15.0</td>\n",
       "      <td>0.895037</td>\n",
       "      <td>0.825163</td>\n",
       "      <td>0.667810</td>\n",
       "      <td>0.072150</td>\n",
       "    </tr>\n",
       "    <tr>\n",
       "      <th>18</th>\n",
       "      <td>0.403391</td>\n",
       "      <td>0.415524</td>\n",
       "      <td>0.445992</td>\n",
       "      <td>15.0</td>\n",
       "      <td>0.554359</td>\n",
       "      <td>0.431022</td>\n",
       "      <td>0.367486</td>\n",
       "      <td>0.050599</td>\n",
       "    </tr>\n",
       "    <tr>\n",
       "      <th>19</th>\n",
       "      <td>0.150965</td>\n",
       "      <td>0.164917</td>\n",
       "      <td>0.193888</td>\n",
       "      <td>15.0</td>\n",
       "      <td>0.381674</td>\n",
       "      <td>0.187084</td>\n",
       "      <td>0.130103</td>\n",
       "      <td>0.065078</td>\n",
       "    </tr>\n",
       "    <tr>\n",
       "      <th>20</th>\n",
       "      <td>0.128216</td>\n",
       "      <td>0.151617</td>\n",
       "      <td>0.175130</td>\n",
       "      <td>15.0</td>\n",
       "      <td>0.369585</td>\n",
       "      <td>0.166981</td>\n",
       "      <td>0.107812</td>\n",
       "      <td>0.066990</td>\n",
       "    </tr>\n",
       "    <tr>\n",
       "      <th>21</th>\n",
       "      <td>0.881332</td>\n",
       "      <td>0.969585</td>\n",
       "      <td>0.975145</td>\n",
       "      <td>15.0</td>\n",
       "      <td>0.980037</td>\n",
       "      <td>0.909338</td>\n",
       "      <td>0.679717</td>\n",
       "      <td>0.096885</td>\n",
       "    </tr>\n",
       "    <tr>\n",
       "      <th>22</th>\n",
       "      <td>0.073663</td>\n",
       "      <td>0.079403</td>\n",
       "      <td>0.103196</td>\n",
       "      <td>15.0</td>\n",
       "      <td>0.280743</td>\n",
       "      <td>0.103229</td>\n",
       "      <td>0.059222</td>\n",
       "      <td>0.057803</td>\n",
       "    </tr>\n",
       "    <tr>\n",
       "      <th>23</th>\n",
       "      <td>0.102102</td>\n",
       "      <td>0.116139</td>\n",
       "      <td>0.141849</td>\n",
       "      <td>15.0</td>\n",
       "      <td>0.332413</td>\n",
       "      <td>0.137508</td>\n",
       "      <td>0.083830</td>\n",
       "      <td>0.064277</td>\n",
       "    </tr>\n",
       "    <tr>\n",
       "      <th>24</th>\n",
       "      <td>0.138427</td>\n",
       "      <td>0.145335</td>\n",
       "      <td>0.173612</td>\n",
       "      <td>15.0</td>\n",
       "      <td>0.354791</td>\n",
       "      <td>0.170964</td>\n",
       "      <td>0.120563</td>\n",
       "      <td>0.061244</td>\n",
       "    </tr>\n",
       "  </tbody>\n",
       "</table>\n",
       "</div>"
      ],
      "text/plain": [
       "         25%       50%       75%  count       max      mean       min  \\\n",
       "0   0.597778  0.627358  0.642469   15.0  0.685363  0.616400  0.513977   \n",
       "1   0.199227  0.216940  0.244003   15.0  0.426547  0.235547  0.177423   \n",
       "2   0.907305  0.986239  0.993581   15.0  0.996549  0.931826  0.694250   \n",
       "3   0.182221  0.196353  0.227291   15.0  0.413007  0.218775  0.159242   \n",
       "4   0.285581  0.302390  0.330752   15.0  0.446770  0.317284  0.257408   \n",
       "5   0.293177  0.318361  0.368322   15.0  0.588455  0.349013  0.256252   \n",
       "6   0.078268  0.083572  0.107718   15.0  0.287356  0.107879  0.063542   \n",
       "7   0.072723  0.078500  0.101599   15.0  0.278721  0.101993  0.058455   \n",
       "8   0.842013  0.926471  0.937732   15.0  0.949981  0.878887  0.690988   \n",
       "9   0.502244  0.531895  0.554360   15.0  0.605580  0.528907  0.435661   \n",
       "10  0.104494  0.116279  0.141004   15.0  0.327495  0.138299  0.087344   \n",
       "11  0.085820  0.092922  0.116846   15.0  0.300282  0.116805  0.070722   \n",
       "12  0.871851  0.966650  0.971280   15.0  0.980686  0.904150  0.671813   \n",
       "13  0.208338  0.235992  0.268806   15.0  0.467416  0.253588  0.180078   \n",
       "14  0.116861  0.132888  0.158291   15.0  0.348576  0.152909  0.098035   \n",
       "15  0.115793  0.139527  0.163537   15.0  0.359352  0.154984  0.095042   \n",
       "16  0.074940  0.081023  0.103408   15.0  0.282387  0.104160  0.060591   \n",
       "17  0.782653  0.863442  0.873611   15.0  0.895037  0.825163  0.667810   \n",
       "18  0.403391  0.415524  0.445992   15.0  0.554359  0.431022  0.367486   \n",
       "19  0.150965  0.164917  0.193888   15.0  0.381674  0.187084  0.130103   \n",
       "20  0.128216  0.151617  0.175130   15.0  0.369585  0.166981  0.107812   \n",
       "21  0.881332  0.969585  0.975145   15.0  0.980037  0.909338  0.679717   \n",
       "22  0.073663  0.079403  0.103196   15.0  0.280743  0.103229  0.059222   \n",
       "23  0.102102  0.116139  0.141849   15.0  0.332413  0.137508  0.083830   \n",
       "24  0.138427  0.145335  0.173612   15.0  0.354791  0.170964  0.120563   \n",
       "\n",
       "         std  \n",
       "0   0.043098  \n",
       "1   0.064382  \n",
       "2   0.093219  \n",
       "3   0.065907  \n",
       "4   0.050470  \n",
       "5   0.085156  \n",
       "6   0.058471  \n",
       "7   0.057418  \n",
       "8   0.089212  \n",
       "9   0.043676  \n",
       "10  0.062339  \n",
       "11  0.060019  \n",
       "12  0.100377  \n",
       "13  0.073457  \n",
       "14  0.064649  \n",
       "15  0.067697  \n",
       "16  0.057873  \n",
       "17  0.072150  \n",
       "18  0.050599  \n",
       "19  0.065078  \n",
       "20  0.066990  \n",
       "21  0.096885  \n",
       "22  0.057803  \n",
       "23  0.064277  \n",
       "24  0.061244  "
      ]
     },
     "execution_count": 86,
     "metadata": {},
     "output_type": "execute_result"
    }
   ],
   "source": [
    "cosine_similarity_statistics_abnormal"
   ]
  },
  {
   "cell_type": "markdown",
   "metadata": {},
   "source": [
    "#### Predict and Score"
   ]
  },
  {
   "cell_type": "code",
   "execution_count": 87,
   "metadata": {},
   "outputs": [],
   "source": [
    "column_name = 'mean'\n",
    "scores = (\n",
    "    list(cosine_similarity_statistics_normal[column_name].values)\n",
    "    + list(cosine_similarity_statistics_abnormal[column_name].values)\n",
    "    )"
   ]
  },
  {
   "cell_type": "code",
   "execution_count": 88,
   "metadata": {},
   "outputs": [],
   "source": [
    "preds = [\n",
    "    label_normal\n",
    "    if (score > threshold)\n",
    "    else label_abnormal\n",
    "    for score in scores\n",
    "    ]"
   ]
  },
  {
   "cell_type": "markdown",
   "metadata": {},
   "source": [
    "#### Evaluate"
   ]
  },
  {
   "cell_type": "code",
   "execution_count": 89,
   "metadata": {},
   "outputs": [
    {
     "name": "stdout",
     "output_type": "stream",
     "text": [
      "#Pred Normal: 30\n"
     ]
    }
   ],
   "source": [
    "print('#Pred Normal: {}'.format(preds.count(1)))"
   ]
  },
  {
   "cell_type": "code",
   "execution_count": 90,
   "metadata": {},
   "outputs": [
    {
     "name": "stdout",
     "output_type": "stream",
     "text": [
      "Acc: 0.9000  Precision: 0.8333  Recall: 1.0000  F1: 0.909091\n",
      "Confusion Matrix\n",
      "[[20  5]\n",
      " [ 0 25]]\n"
     ]
    }
   ],
   "source": [
    "evaluate_bc(labels, preds)"
   ]
  },
  {
   "cell_type": "code",
   "execution_count": 91,
   "metadata": {},
   "outputs": [
    {
     "name": "stdout",
     "output_type": "stream",
     "text": [
      "AUC: 0.9904\n"
     ]
    },
    {
     "data": {
      "image/png": "[encoded data removed]",
      "text/plain": [
       "<Figure size 432x288 with 1 Axes>"
      ]
     },
     "metadata": {
      "needs_background": "light"
     },
     "output_type": "display_data"
    }
   ],
   "source": [
    "# AUROC\n",
    "\n",
    "fpr, tpr, _ = metrics.roc_curve(labels, scores)\n",
    "auc = metrics.auc(fpr, tpr)\n",
    "print('AUC: {:.4f}'.format(auc))\n",
    "\n",
    "plt.plot(fpr, tpr, label='AUC = {:.2f}'.format(auc))\n",
    "plt.legend()\n",
    "plt.title('ROC curve')\n",
    "plt.xlabel('False Positive Rate')\n",
    "plt.ylabel('True Positive Rate')\n",
    "plt.grid(True)\n",
    "plt.show()"
   ]
  },
  {
   "cell_type": "markdown",
   "metadata": {},
   "source": [
    "## Test by LOF"
   ]
  },
  {
   "cell_type": "markdown",
   "metadata": {},
   "source": [
    "#### Train"
   ]
  },
  {
   "cell_type": "code",
   "execution_count": 92,
   "metadata": {},
   "outputs": [],
   "source": [
    "clf = LocalOutlierFactor(\n",
    "    n_neighbors=1,\n",
    "    novelty=True,\n",
    "    contamination='auto',\n",
    "    )"
   ]
  },
  {
   "cell_type": "code",
   "execution_count": 93,
   "metadata": {},
   "outputs": [
    {
     "data": {
      "text/plain": [
       "LocalOutlierFactor(algorithm='auto', contamination='auto', leaf_size=30,\n",
       "          metric='minkowski', metric_params=None, n_jobs=None,\n",
       "          n_neighbors=1, novelty=True, p=2)"
      ]
     },
     "execution_count": 93,
     "metadata": {},
     "output_type": "execute_result"
    }
   ],
   "source": [
    "clf.fit(embeddings_ref)"
   ]
  },
  {
   "cell_type": "markdown",
   "metadata": {},
   "source": [
    "#### Score and Predict"
   ]
  },
  {
   "cell_type": "code",
   "execution_count": 94,
   "metadata": {},
   "outputs": [],
   "source": [
    "embeddings = list(embeddings_normal) + list(embeddings_abnormal)\n",
    "preds = clf.predict(embeddings)\n",
    "scores = clf.score_samples(embeddings)"
   ]
  },
  {
   "cell_type": "code",
   "execution_count": 95,
   "metadata": {},
   "outputs": [
    {
     "name": "stdout",
     "output_type": "stream",
     "text": [
      "#Pred Normal: 23\n"
     ]
    }
   ],
   "source": [
    "print('#Pred Normal: {}'.format(list(preds).count(1)))"
   ]
  },
  {
   "cell_type": "markdown",
   "metadata": {},
   "source": [
    "#### Evaluate"
   ]
  },
  {
   "cell_type": "code",
   "execution_count": 96,
   "metadata": {},
   "outputs": [
    {
     "name": "stdout",
     "output_type": "stream",
     "text": [
      "Acc: 0.9600  Precision: 1.0000  Recall: 0.9200  F1: 0.958333\n",
      "Confusion Matrix\n",
      "[[25  0]\n",
      " [ 2 23]]\n"
     ]
    }
   ],
   "source": [
    "evaluate_bc(labels, preds)"
   ]
  },
  {
   "cell_type": "code",
   "execution_count": 97,
   "metadata": {},
   "outputs": [
    {
     "name": "stdout",
     "output_type": "stream",
     "text": [
      "AUC: 0.9936\n"
     ]
    },
    {
     "data": {
      "image/png": "[encoded data removed]",
      "text/plain": [
       "<Figure size 432x288 with 1 Axes>"
      ]
     },
     "metadata": {
      "needs_background": "light"
     },
     "output_type": "display_data"
    }
   ],
   "source": [
    "# AUROC\n",
    "\n",
    "fpr, tpr, _ = metrics.roc_curve(labels, scores)\n",
    "auc = metrics.auc(fpr, tpr)\n",
    "print('AUC: {:.4f}'.format(auc))\n",
    "\n",
    "plt.plot(fpr, tpr, label='AUC = {:.2f}'.format(auc))\n",
    "plt.legend()\n",
    "plt.title('ROC curve')\n",
    "plt.xlabel('False Positive Rate')\n",
    "plt.ylabel('True Positive Rate')\n",
    "plt.grid(True)\n",
    "plt.show()"
   ]
  }
 ],
 "metadata": {
  "kernelspec": {
   "display_name": "Python 3",
   "language": "python",
   "name": "python3"
  },
  "language_info": {
   "codemirror_mode": {
    "name": "ipython",
    "version": 3
   },
   "file_extension": ".py",
   "mimetype": "text/x-python",
   "name": "python",
   "nbconvert_exporter": "python",
   "pygments_lexer": "ipython3",
   "version": "3.7.3"
  }
 },
 "nbformat": 4,
 "nbformat_minor": 2
}

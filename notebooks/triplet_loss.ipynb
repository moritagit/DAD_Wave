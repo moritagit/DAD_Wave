{
 "cells": [
  {
   "cell_type": "markdown",
   "metadata": {},
   "source": [
    "# DAD for Wave by Triplet Loss"
   ]
  },
  {
   "cell_type": "markdown",
   "metadata": {},
   "source": [
    "## Settings"
   ]
  },
  {
   "cell_type": "code",
   "execution_count": 1,
   "metadata": {},
   "outputs": [],
   "source": [
    "from pathlib import Path\n",
    "import sys"
   ]
  },
  {
   "cell_type": "code",
   "execution_count": 2,
   "metadata": {},
   "outputs": [],
   "source": [
    "import torch\n",
    "from torchvision import transforms"
   ]
  },
  {
   "cell_type": "code",
   "execution_count": 3,
   "metadata": {},
   "outputs": [],
   "source": [
    "sys.path.append('../src')\n",
    "\n",
    "import utils\n",
    "from dataloader import ESC50DatasetTriplet\n",
    "from models import EmbeddingNet, TripletNet\n",
    "from loss_functions import TripletLoss\n",
    "from trainer import fit"
   ]
  },
  {
   "cell_type": "code",
   "execution_count": 4,
   "metadata": {},
   "outputs": [],
   "source": [
    "no_cuda = False\n",
    "seed = 0"
   ]
  },
  {
   "cell_type": "code",
   "execution_count": 5,
   "metadata": {},
   "outputs": [],
   "source": [
    "data_dir = Path().cwd().parent/'data'\n",
    "raw_data_dir = data_dir/'external'/'ESC-50'\n",
    "processed_data_dir = data_dir/'processed'/'ESC-50'\n",
    "models_dir = Path().cwd().parent/'models'"
   ]
  },
  {
   "cell_type": "code",
   "execution_count": 6,
   "metadata": {},
   "outputs": [],
   "source": [
    "model_path_tmp = models_dir/'model_tmp.pth'\n",
    "model_path = models_dir/'model.pth'\n",
    "embeddingnet_path = models_dir/'embeddingnet.pth'"
   ]
  },
  {
   "cell_type": "code",
   "execution_count": 7,
   "metadata": {},
   "outputs": [],
   "source": [
    "metadata_path = raw_data_dir/'meta'/'esc50.csv'\n",
    "audio_dir = raw_data_dir/'audio'\n",
    "spectrogram_dir = processed_data_dir/'spectrogram'"
   ]
  },
  {
   "cell_type": "code",
   "execution_count": 8,
   "metadata": {},
   "outputs": [],
   "source": [
    "train_metadata_path = processed_data_dir/'metadata_train.csv'\n",
    "valid_metadata_path = processed_data_dir/'metadata_valid.csv'\n",
    "test_metadata_path = processed_data_dir/'metadata_test.csv'"
   ]
  },
  {
   "cell_type": "code",
   "execution_count": 9,
   "metadata": {},
   "outputs": [
    {
     "name": "stdout",
     "output_type": "stream",
     "text": [
      "device: cuda\n"
     ]
    }
   ],
   "source": [
    "use_cuda = torch.cuda.is_available() and (not no_cuda)\n",
    "device = 'cuda' if use_cuda else 'cpu'\n",
    "torch.manual_seed(seed)\n",
    "\n",
    "print('device: {}'.format(device))"
   ]
  },
  {
   "cell_type": "markdown",
   "metadata": {},
   "source": [
    "## Train"
   ]
  },
  {
   "cell_type": "markdown",
   "metadata": {},
   "source": [
    "### Hyperparameters"
   ]
  },
  {
   "cell_type": "code",
   "execution_count": 10,
   "metadata": {},
   "outputs": [],
   "source": [
    "input_size = (257, 431)\n",
    "output_size = 128\n",
    "\n",
    "margin = 0.8\n",
    "\n",
    "lr = 5e-6\n",
    "weight_decay = 1e-5\n",
    "\n",
    "batch_size = 2\n",
    "n_epochs = 30\n",
    "\n",
    "log_interval = 100"
   ]
  },
  {
   "cell_type": "markdown",
   "metadata": {},
   "source": [
    "### Dataloaders"
   ]
  },
  {
   "cell_type": "code",
   "execution_count": 11,
   "metadata": {},
   "outputs": [],
   "source": [
    "kwargs = {'num_workers': 1, 'pin_memory': True} if use_cuda else {}"
   ]
  },
  {
   "cell_type": "code",
   "execution_count": 12,
   "metadata": {},
   "outputs": [],
   "source": [
    "transform = transforms.Compose([\n",
    "    transforms.ToTensor(),\n",
    "    ])"
   ]
  },
  {
   "cell_type": "code",
   "execution_count": 13,
   "metadata": {},
   "outputs": [],
   "source": [
    "dataset_train = ESC50DatasetTriplet(\n",
    "    train_metadata_path, audio_dir, spectrogram_dir, transform,\n",
    "    )"
   ]
  },
  {
   "cell_type": "code",
   "execution_count": 14,
   "metadata": {},
   "outputs": [],
   "source": [
    "dataset_valid = ESC50DatasetTriplet(\n",
    "    valid_metadata_path, audio_dir, spectrogram_dir, transform,\n",
    "    )"
   ]
  },
  {
   "cell_type": "code",
   "execution_count": 15,
   "metadata": {},
   "outputs": [],
   "source": [
    "dataloader_train = torch.utils.data.DataLoader(dataset_train, batch_size=batch_size, shuffle=True, **kwargs)"
   ]
  },
  {
   "cell_type": "code",
   "execution_count": 16,
   "metadata": {},
   "outputs": [],
   "source": [
    "dataloader_valid = torch.utils.data.DataLoader(dataset_valid, batch_size=batch_size, shuffle=False, **kwargs)"
   ]
  },
  {
   "cell_type": "markdown",
   "metadata": {},
   "source": [
    "### Model"
   ]
  },
  {
   "cell_type": "code",
   "execution_count": 17,
   "metadata": {},
   "outputs": [],
   "source": [
    "embedding_net = EmbeddingNet(input_size, output_size).to(device)\n",
    "model = TripletNet(embedding_net).to(device)"
   ]
  },
  {
   "cell_type": "code",
   "execution_count": 18,
   "metadata": {},
   "outputs": [],
   "source": [
    "loss_function = TripletLoss(margin)\n",
    "optimizer = torch.optim.Adam(model.parameters(), lr=lr, weight_decay=weight_decay)\n",
    "scheduler = torch.optim.lr_scheduler.StepLR(optimizer, 8, gamma=0.1, last_epoch=-1)"
   ]
  },
  {
   "cell_type": "markdown",
   "metadata": {},
   "source": [
    "### Train"
   ]
  },
  {
   "cell_type": "code",
   "execution_count": 19,
   "metadata": {},
   "outputs": [],
   "source": [
    "torch.backends.cudnn.benchmark = True"
   ]
  },
  {
   "cell_type": "code",
   "execution_count": 20,
   "metadata": {
    "scrolled": true
   },
   "outputs": [
    {
     "name": "stdout",
     "output_type": "stream",
     "text": [
      "Train: [0/1600 (0%)]\tLoss: 0.793592\n",
      "Train: [200/1600 (12%)]\tLoss: 0.796300\n",
      "Train: [400/1600 (25%)]\tLoss: 0.794598\n",
      "Train: [600/1600 (38%)]\tLoss: 0.787550\n",
      "Train: [800/1600 (50%)]\tLoss: 0.746206\n",
      "Train: [1000/1600 (62%)]\tLoss: 0.683375\n",
      "Train: [1200/1600 (75%)]\tLoss: 0.653792\n",
      "Train: [1400/1600 (88%)]\tLoss: 0.620712\n",
      "Epoch: 1/30. Train set: Average loss: 0.7199\n",
      "Epoch: 1/30. Validation set: Average loss: 0.5594\n",
      "Train: [0/1600 (0%)]\tLoss: 0.732125\n",
      "Train: [200/1600 (12%)]\tLoss: 0.689834\n",
      "Train: [400/1600 (25%)]\tLoss: 0.633253\n",
      "Train: [600/1600 (38%)]\tLoss: 0.694788\n",
      "Train: [800/1600 (50%)]\tLoss: 0.637754\n",
      "Train: [1000/1600 (62%)]\tLoss: 0.611609\n",
      "Train: [1200/1600 (75%)]\tLoss: 0.606764\n",
      "Train: [1400/1600 (88%)]\tLoss: 0.678660\n",
      "Epoch: 2/30. Train set: Average loss: 0.6489\n",
      "Epoch: 2/30. Validation set: Average loss: 0.5460\n",
      "Train: [0/1600 (0%)]\tLoss: 0.346349\n",
      "Train: [200/1600 (12%)]\tLoss: 0.664487\n",
      "Train: [400/1600 (25%)]\tLoss: 0.633415\n",
      "Train: [600/1600 (38%)]\tLoss: 0.635110\n",
      "Train: [800/1600 (50%)]\tLoss: 0.638404\n",
      "Train: [1000/1600 (62%)]\tLoss: 0.590850\n",
      "Train: [1200/1600 (75%)]\tLoss: 0.607607\n",
      "Train: [1400/1600 (88%)]\tLoss: 0.674102\n",
      "Epoch: 3/30. Train set: Average loss: 0.6287\n",
      "Epoch: 3/30. Validation set: Average loss: 0.5352\n",
      "Train: [0/1600 (0%)]\tLoss: 0.743075\n",
      "Train: [200/1600 (12%)]\tLoss: 0.612330\n",
      "Train: [400/1600 (25%)]\tLoss: 0.647281\n",
      "Train: [600/1600 (38%)]\tLoss: 0.613641\n",
      "Train: [800/1600 (50%)]\tLoss: 0.706793\n",
      "Train: [1000/1600 (62%)]\tLoss: 0.649139\n",
      "Train: [1200/1600 (75%)]\tLoss: 0.604993\n",
      "Train: [1400/1600 (88%)]\tLoss: 0.612153\n",
      "Epoch: 4/30. Train set: Average loss: 0.6292\n",
      "Epoch: 4/30. Validation set: Average loss: 0.5311\n",
      "Train: [0/1600 (0%)]\tLoss: 1.131339\n",
      "Train: [200/1600 (12%)]\tLoss: 0.618047\n",
      "Train: [400/1600 (25%)]\tLoss: 0.607418\n",
      "Train: [600/1600 (38%)]\tLoss: 0.651033\n",
      "Train: [800/1600 (50%)]\tLoss: 0.601365\n",
      "Train: [1000/1600 (62%)]\tLoss: 0.610336\n",
      "Train: [1200/1600 (75%)]\tLoss: 0.589641\n",
      "Train: [1400/1600 (88%)]\tLoss: 0.519987\n",
      "Epoch: 5/30. Train set: Average loss: 0.6058\n",
      "Epoch: 5/30. Validation set: Average loss: 0.5044\n",
      "Train: [0/1600 (0%)]\tLoss: 0.889195\n",
      "Train: [200/1600 (12%)]\tLoss: 0.602185\n",
      "Train: [400/1600 (25%)]\tLoss: 0.623951\n",
      "Train: [600/1600 (38%)]\tLoss: 0.570810\n",
      "Train: [800/1600 (50%)]\tLoss: 0.580177\n",
      "Train: [1000/1600 (62%)]\tLoss: 0.613530\n",
      "Train: [1200/1600 (75%)]\tLoss: 0.502933\n",
      "Train: [1400/1600 (88%)]\tLoss: 0.508216\n",
      "Epoch: 6/30. Train set: Average loss: 0.5657\n",
      "Epoch: 6/30. Validation set: Average loss: 0.5108\n",
      "Train: [0/1600 (0%)]\tLoss: 0.000000\n",
      "Train: [200/1600 (12%)]\tLoss: 0.577331\n",
      "Train: [400/1600 (25%)]\tLoss: 0.550700\n",
      "Train: [600/1600 (38%)]\tLoss: 0.588042\n",
      "Train: [800/1600 (50%)]\tLoss: 0.616556\n",
      "Train: [1000/1600 (62%)]\tLoss: 0.544593\n",
      "Train: [1200/1600 (75%)]\tLoss: 0.550464\n",
      "Train: [1400/1600 (88%)]\tLoss: 0.492644\n",
      "Epoch: 7/30. Train set: Average loss: 0.5583\n",
      "Epoch: 7/30. Validation set: Average loss: 0.5154\n",
      "Train: [0/1600 (0%)]\tLoss: 0.000000\n",
      "Train: [200/1600 (12%)]\tLoss: 0.534837\n",
      "Train: [400/1600 (25%)]\tLoss: 0.531053\n",
      "Train: [600/1600 (38%)]\tLoss: 0.610495\n",
      "Train: [800/1600 (50%)]\tLoss: 0.579174\n",
      "Train: [1000/1600 (62%)]\tLoss: 0.571468\n",
      "Train: [1200/1600 (75%)]\tLoss: 0.539749\n",
      "Train: [1400/1600 (88%)]\tLoss: 0.565114\n",
      "Epoch: 8/30. Train set: Average loss: 0.5586\n",
      "Epoch: 8/30. Validation set: Average loss: 0.5189\n",
      "Train: [0/1600 (0%)]\tLoss: 0.220814\n",
      "Train: [200/1600 (12%)]\tLoss: 0.580065\n",
      "Train: [400/1600 (25%)]\tLoss: 0.570001\n",
      "Train: [600/1600 (38%)]\tLoss: 0.562039\n",
      "Train: [800/1600 (50%)]\tLoss: 0.614148\n",
      "Train: [1000/1600 (62%)]\tLoss: 0.515901\n",
      "Train: [1200/1600 (75%)]\tLoss: 0.612518\n",
      "Train: [1400/1600 (88%)]\tLoss: 0.554685\n",
      "Epoch: 9/30. Train set: Average loss: 0.5646\n",
      "Epoch: 9/30. Validation set: Average loss: 0.4771\n",
      "Train: [0/1600 (0%)]\tLoss: 0.051973\n",
      "Train: [200/1600 (12%)]\tLoss: 0.586518\n",
      "Train: [400/1600 (25%)]\tLoss: 0.495376\n",
      "Train: [600/1600 (38%)]\tLoss: 0.574628\n",
      "Train: [800/1600 (50%)]\tLoss: 0.544312\n",
      "Train: [1000/1600 (62%)]\tLoss: 0.525548\n",
      "Train: [1200/1600 (75%)]\tLoss: 0.573327\n",
      "Train: [1400/1600 (88%)]\tLoss: 0.614995\n",
      "Epoch: 10/30. Train set: Average loss: 0.5563\n",
      "Epoch: 10/30. Validation set: Average loss: 0.4816\n",
      "Train: [0/1600 (0%)]\tLoss: 0.768269\n",
      "Train: [200/1600 (12%)]\tLoss: 0.472605\n",
      "Train: [400/1600 (25%)]\tLoss: 0.542253\n",
      "Train: [600/1600 (38%)]\tLoss: 0.505035\n",
      "Train: [800/1600 (50%)]\tLoss: 0.531159\n",
      "Train: [1000/1600 (62%)]\tLoss: 0.617785\n",
      "Train: [1200/1600 (75%)]\tLoss: 0.579916\n",
      "Train: [1400/1600 (88%)]\tLoss: 0.493081\n",
      "Epoch: 11/30. Train set: Average loss: 0.5337\n",
      "Epoch: 11/30. Validation set: Average loss: 0.5063\n",
      "Train: [0/1600 (0%)]\tLoss: 0.303726\n",
      "Train: [200/1600 (12%)]\tLoss: 0.552923\n",
      "Train: [400/1600 (25%)]\tLoss: 0.449274\n",
      "Train: [600/1600 (38%)]\tLoss: 0.562519\n",
      "Train: [800/1600 (50%)]\tLoss: 0.576351\n",
      "Train: [1000/1600 (62%)]\tLoss: 0.546915\n",
      "Train: [1200/1600 (75%)]\tLoss: 0.549360\n",
      "Train: [1400/1600 (88%)]\tLoss: 0.541745\n",
      "Epoch: 12/30. Train set: Average loss: 0.5398\n",
      "Epoch: 12/30. Validation set: Average loss: 0.4669\n",
      "Train: [0/1600 (0%)]\tLoss: 0.785741\n",
      "Train: [200/1600 (12%)]\tLoss: 0.538001\n",
      "Train: [400/1600 (25%)]\tLoss: 0.546553\n",
      "Train: [600/1600 (38%)]\tLoss: 0.468893\n",
      "Train: [800/1600 (50%)]\tLoss: 0.548328\n",
      "Train: [1000/1600 (62%)]\tLoss: 0.556169\n",
      "Train: [1200/1600 (75%)]\tLoss: 0.559183\n",
      "Train: [1400/1600 (88%)]\tLoss: 0.508466\n",
      "Epoch: 13/30. Train set: Average loss: 0.5358\n",
      "Epoch: 13/30. Validation set: Average loss: 0.5364\n",
      "Train: [0/1600 (0%)]\tLoss: 0.872980\n",
      "Train: [200/1600 (12%)]\tLoss: 0.491821\n",
      "Train: [400/1600 (25%)]\tLoss: 0.481656\n",
      "Train: [600/1600 (38%)]\tLoss: 0.468696\n",
      "Train: [800/1600 (50%)]\tLoss: 0.603434\n",
      "Train: [1000/1600 (62%)]\tLoss: 0.520023\n",
      "Train: [1200/1600 (75%)]\tLoss: 0.559893\n",
      "Train: [1400/1600 (88%)]\tLoss: 0.558592\n",
      "Epoch: 14/30. Train set: Average loss: 0.5310\n",
      "Epoch: 14/30. Validation set: Average loss: 0.4752\n",
      "Train: [0/1600 (0%)]\tLoss: 0.701606\n",
      "Train: [200/1600 (12%)]\tLoss: 0.449839\n",
      "Train: [400/1600 (25%)]\tLoss: 0.535963\n",
      "Train: [600/1600 (38%)]\tLoss: 0.565754\n",
      "Train: [800/1600 (50%)]\tLoss: 0.536942\n",
      "Train: [1000/1600 (62%)]\tLoss: 0.466721\n",
      "Train: [1200/1600 (75%)]\tLoss: 0.544034\n",
      "Train: [1400/1600 (88%)]\tLoss: 0.510191\n",
      "Epoch: 15/30. Train set: Average loss: 0.5178\n",
      "Epoch: 15/30. Validation set: Average loss: 0.4663\n",
      "Train: [0/1600 (0%)]\tLoss: 1.259701\n",
      "Train: [200/1600 (12%)]\tLoss: 0.664340\n",
      "Train: [400/1600 (25%)]\tLoss: 0.532052\n",
      "Train: [600/1600 (38%)]\tLoss: 0.524080\n",
      "Train: [800/1600 (50%)]\tLoss: 0.578176\n",
      "Train: [1000/1600 (62%)]\tLoss: 0.534188\n",
      "Train: [1200/1600 (75%)]\tLoss: 0.609168\n",
      "Train: [1400/1600 (88%)]\tLoss: 0.574380\n",
      "Epoch: 16/30. Train set: Average loss: 0.5759\n",
      "Epoch: 16/30. Validation set: Average loss: 0.5112\n",
      "Train: [0/1600 (0%)]\tLoss: 0.621403\n",
      "Train: [200/1600 (12%)]\tLoss: 0.550677\n",
      "Train: [400/1600 (25%)]\tLoss: 0.523768\n",
      "Train: [600/1600 (38%)]\tLoss: 0.533104\n",
      "Train: [800/1600 (50%)]\tLoss: 0.522085\n",
      "Train: [1000/1600 (62%)]\tLoss: 0.544974\n",
      "Train: [1200/1600 (75%)]\tLoss: 0.576701\n",
      "Train: [1400/1600 (88%)]\tLoss: 0.510669\n",
      "Epoch: 17/30. Train set: Average loss: 0.5344\n",
      "Epoch: 17/30. Validation set: Average loss: 0.4774\n",
      "Train: [0/1600 (0%)]\tLoss: 0.848974\n",
      "Train: [200/1600 (12%)]\tLoss: 0.527563\n",
      "Train: [400/1600 (25%)]\tLoss: 0.483942\n",
      "Train: [600/1600 (38%)]\tLoss: 0.505013\n",
      "Train: [800/1600 (50%)]\tLoss: 0.559832\n",
      "Train: [1000/1600 (62%)]\tLoss: 0.514001\n",
      "Train: [1200/1600 (75%)]\tLoss: 0.562182\n",
      "Train: [1400/1600 (88%)]\tLoss: 0.490146\n",
      "Epoch: 18/30. Train set: Average loss: 0.5250\n",
      "Epoch: 18/30. Validation set: Average loss: 0.4677\n",
      "Train: [0/1600 (0%)]\tLoss: 0.450281\n",
      "Train: [200/1600 (12%)]\tLoss: 0.549365\n",
      "Train: [400/1600 (25%)]\tLoss: 0.533137\n",
      "Train: [600/1600 (38%)]\tLoss: 0.491833\n",
      "Train: [800/1600 (50%)]\tLoss: 0.580527\n",
      "Train: [1000/1600 (62%)]\tLoss: 0.472039\n",
      "Train: [1200/1600 (75%)]\tLoss: 0.543074\n",
      "Train: [1400/1600 (88%)]\tLoss: 0.498548\n",
      "Epoch: 19/30. Train set: Average loss: 0.5332\n",
      "Epoch: 19/30. Validation set: Average loss: 0.4904\n",
      "Train: [0/1600 (0%)]\tLoss: 0.031967\n",
      "Train: [200/1600 (12%)]\tLoss: 0.545794\n",
      "Train: [400/1600 (25%)]\tLoss: 0.494766\n",
      "Train: [600/1600 (38%)]\tLoss: 0.484133\n",
      "Train: [800/1600 (50%)]\tLoss: 0.539277\n",
      "Train: [1000/1600 (62%)]\tLoss: 0.536330\n",
      "Train: [1200/1600 (75%)]\tLoss: 0.588939\n",
      "Train: [1400/1600 (88%)]\tLoss: 0.577551\n",
      "Epoch: 20/30. Train set: Average loss: 0.5409\n",
      "Epoch: 20/30. Validation set: Average loss: 0.4833\n",
      "Train: [0/1600 (0%)]\tLoss: 1.249120\n"
     ]
    },
    {
     "name": "stdout",
     "output_type": "stream",
     "text": [
      "Train: [200/1600 (12%)]\tLoss: 0.494419\n",
      "Train: [400/1600 (25%)]\tLoss: 0.524357\n",
      "Train: [600/1600 (38%)]\tLoss: 0.597911\n",
      "Train: [800/1600 (50%)]\tLoss: 0.555895\n",
      "Train: [1000/1600 (62%)]\tLoss: 0.548066\n",
      "Train: [1200/1600 (75%)]\tLoss: 0.552301\n",
      "Train: [1400/1600 (88%)]\tLoss: 0.558375\n",
      "Epoch: 21/30. Train set: Average loss: 0.5433\n",
      "Epoch: 21/30. Validation set: Average loss: 0.4644\n",
      "Train: [0/1600 (0%)]\tLoss: 0.000000\n",
      "Train: [200/1600 (12%)]\tLoss: 0.566640\n",
      "Train: [400/1600 (25%)]\tLoss: 0.536603\n",
      "Train: [600/1600 (38%)]\tLoss: 0.493391\n",
      "Train: [800/1600 (50%)]\tLoss: 0.494045\n",
      "Train: [1000/1600 (62%)]\tLoss: 0.557401\n",
      "Train: [1200/1600 (75%)]\tLoss: 0.630864\n",
      "Train: [1400/1600 (88%)]\tLoss: 0.609256\n",
      "Epoch: 22/30. Train set: Average loss: 0.5449\n",
      "Epoch: 22/30. Validation set: Average loss: 0.4733\n",
      "Train: [0/1600 (0%)]\tLoss: 1.140111\n",
      "Train: [200/1600 (12%)]\tLoss: 0.507648\n",
      "Train: [400/1600 (25%)]\tLoss: 0.630149\n",
      "Train: [600/1600 (38%)]\tLoss: 0.549085\n",
      "Train: [800/1600 (50%)]\tLoss: 0.482042\n",
      "Train: [1000/1600 (62%)]\tLoss: 0.565789\n",
      "Train: [1200/1600 (75%)]\tLoss: 0.587176\n",
      "Train: [1400/1600 (88%)]\tLoss: 0.487412\n",
      "Epoch: 23/30. Train set: Average loss: 0.5383\n",
      "Epoch: 23/30. Validation set: Average loss: 0.4691\n",
      "Train: [0/1600 (0%)]\tLoss: 1.510884\n",
      "Train: [200/1600 (12%)]\tLoss: 0.604439\n",
      "Train: [400/1600 (25%)]\tLoss: 0.489100\n",
      "Train: [600/1600 (38%)]\tLoss: 0.542627\n",
      "Train: [800/1600 (50%)]\tLoss: 0.568198\n",
      "Train: [1000/1600 (62%)]\tLoss: 0.503846\n",
      "Train: [1200/1600 (75%)]\tLoss: 0.509130\n",
      "Train: [1400/1600 (88%)]\tLoss: 0.523845\n",
      "Epoch: 24/30. Train set: Average loss: 0.5402\n",
      "Epoch: 24/30. Validation set: Average loss: 0.4820\n",
      "Train: [0/1600 (0%)]\tLoss: 0.462061\n",
      "Train: [200/1600 (12%)]\tLoss: 0.602754\n",
      "Train: [400/1600 (25%)]\tLoss: 0.558342\n",
      "Train: [600/1600 (38%)]\tLoss: 0.511735\n",
      "Train: [800/1600 (50%)]\tLoss: 0.551098\n",
      "Train: [1000/1600 (62%)]\tLoss: 0.510490\n",
      "Train: [1200/1600 (75%)]\tLoss: 0.553634\n",
      "Train: [1400/1600 (88%)]\tLoss: 0.525080\n",
      "Epoch: 25/30. Train set: Average loss: 0.5444\n",
      "Epoch: 25/30. Validation set: Average loss: 0.4690\n",
      "Train: [0/1600 (0%)]\tLoss: 0.052421\n",
      "Train: [200/1600 (12%)]\tLoss: 0.548727\n",
      "Train: [400/1600 (25%)]\tLoss: 0.537020\n",
      "Train: [600/1600 (38%)]\tLoss: 0.533492\n",
      "Train: [800/1600 (50%)]\tLoss: 0.531173\n",
      "Train: [1000/1600 (62%)]\tLoss: 0.568012\n",
      "Train: [1200/1600 (75%)]\tLoss: 0.567462\n",
      "Train: [1400/1600 (88%)]\tLoss: 0.525989\n",
      "Epoch: 26/30. Train set: Average loss: 0.5440\n",
      "Epoch: 26/30. Validation set: Average loss: 0.4808\n",
      "Train: [0/1600 (0%)]\tLoss: 0.691543\n",
      "Train: [200/1600 (12%)]\tLoss: 0.567785\n",
      "Train: [400/1600 (25%)]\tLoss: 0.562345\n",
      "Train: [600/1600 (38%)]\tLoss: 0.492333\n",
      "Train: [800/1600 (50%)]\tLoss: 0.563934\n",
      "Train: [1000/1600 (62%)]\tLoss: 0.527921\n",
      "Train: [1200/1600 (75%)]\tLoss: 0.534443\n",
      "Train: [1400/1600 (88%)]\tLoss: 0.544985\n",
      "Epoch: 27/30. Train set: Average loss: 0.5415\n",
      "Epoch: 27/30. Validation set: Average loss: 0.4724\n",
      "Train: [0/1600 (0%)]\tLoss: 0.789374\n",
      "Train: [200/1600 (12%)]\tLoss: 0.535451\n",
      "Train: [400/1600 (25%)]\tLoss: 0.534545\n",
      "Train: [600/1600 (38%)]\tLoss: 0.557506\n",
      "Train: [800/1600 (50%)]\tLoss: 0.540978\n",
      "Train: [1000/1600 (62%)]\tLoss: 0.545064\n",
      "Train: [1200/1600 (75%)]\tLoss: 0.542713\n",
      "Train: [1400/1600 (88%)]\tLoss: 0.577442\n",
      "Epoch: 28/30. Train set: Average loss: 0.5454\n",
      "Epoch: 28/30. Validation set: Average loss: 0.4791\n",
      "Train: [0/1600 (0%)]\tLoss: 0.585237\n",
      "Train: [200/1600 (12%)]\tLoss: 0.620812\n",
      "Train: [400/1600 (25%)]\tLoss: 0.587828\n",
      "Train: [600/1600 (38%)]\tLoss: 0.528145\n",
      "Train: [800/1600 (50%)]\tLoss: 0.572256\n",
      "Train: [1000/1600 (62%)]\tLoss: 0.556617\n",
      "Train: [1200/1600 (75%)]\tLoss: 0.524606\n",
      "Train: [1400/1600 (88%)]\tLoss: 0.499201\n",
      "Epoch: 29/30. Train set: Average loss: 0.5467\n",
      "Epoch: 29/30. Validation set: Average loss: 0.4686\n",
      "Train: [0/1600 (0%)]\tLoss: 0.000000\n",
      "Train: [200/1600 (12%)]\tLoss: 0.498391\n",
      "Train: [400/1600 (25%)]\tLoss: 0.532635\n",
      "Train: [600/1600 (38%)]\tLoss: 0.488906\n",
      "Train: [800/1600 (50%)]\tLoss: 0.540033\n",
      "Train: [1000/1600 (62%)]\tLoss: 0.527673\n",
      "Train: [1200/1600 (75%)]\tLoss: 0.539595\n",
      "Train: [1400/1600 (88%)]\tLoss: 0.510770\n",
      "Epoch: 30/30. Train set: Average loss: 0.5251\n",
      "Epoch: 30/30. Validation set: Average loss: 0.4680\n"
     ]
    }
   ],
   "source": [
    "fit(\n",
    "    dataloader_train,\n",
    "    dataloader_valid,\n",
    "    model, loss_function, optimizer, scheduler,\n",
    "    n_epochs, use_cuda, log_interval,\n",
    "    model_path=model_path_tmp,\n",
    "    )"
   ]
  },
  {
   "cell_type": "code",
   "execution_count": 21,
   "metadata": {},
   "outputs": [],
   "source": [
    "# save best model as other name\n",
    "model.load_state_dict(torch.load(str(model_path_tmp)))\n",
    "\n",
    "torch.save(model.state_dict(), str(model_path))\n",
    "torch.save(embedding_net.state_dict(), str(embeddingnet_path))"
   ]
  }
 ],
 "metadata": {
  "kernelspec": {
   "display_name": "Python 3",
   "language": "python",
   "name": "python3"
  },
  "language_info": {
   "codemirror_mode": {
    "name": "ipython",
    "version": 3
   },
   "file_extension": ".py",
   "mimetype": "text/x-python",
   "name": "python",
   "nbconvert_exporter": "python",
   "pygments_lexer": "ipython3",
   "version": "3.7.3"
  }
 },
 "nbformat": 4,
 "nbformat_minor": 2
}

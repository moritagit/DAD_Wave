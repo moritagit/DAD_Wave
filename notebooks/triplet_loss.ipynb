{
 "cells": [
  {
   "cell_type": "markdown",
   "metadata": {},
   "source": [
    "# DAD for Wave by Triplet Loss"
   ]
  },
  {
   "cell_type": "markdown",
   "metadata": {},
   "source": [
    "## Settings"
   ]
  },
  {
   "cell_type": "code",
   "execution_count": 1,
   "metadata": {},
   "outputs": [],
   "source": [
    "from pathlib import Path\n",
    "import sys"
   ]
  },
  {
   "cell_type": "code",
   "execution_count": 2,
   "metadata": {},
   "outputs": [],
   "source": [
    "import torch\n",
    "from torchvision import transforms"
   ]
  },
  {
   "cell_type": "code",
   "execution_count": 3,
   "metadata": {},
   "outputs": [],
   "source": [
    "sys.path.append('../src')\n",
    "\n",
    "import utils\n",
    "from dataloader import ESC50DatasetTriplet\n",
    "from models import EmbeddingNet, TripletNet\n",
    "from loss_functions import TripletLoss\n",
    "from trainer import fit"
   ]
  },
  {
   "cell_type": "code",
   "execution_count": 4,
   "metadata": {},
   "outputs": [],
   "source": [
    "no_cuda = False\n",
    "seed = 0"
   ]
  },
  {
   "cell_type": "code",
   "execution_count": 5,
   "metadata": {},
   "outputs": [],
   "source": [
    "data_dir = Path().cwd().parent/'data'\n",
    "raw_data_dir = data_dir/'external'/'ESC-50'\n",
    "processed_data_dir = data_dir/'processed'/'ESC-50'\n",
    "models_dir = Path().cwd().parent/'models'"
   ]
  },
  {
   "cell_type": "code",
   "execution_count": 6,
   "metadata": {},
   "outputs": [],
   "source": [
    "model_path_tmp = models_dir/'model_tmp.pth'\n",
    "model_path = models_dir/'model.pth'\n",
    "embeddingnet_path = models_dir/'embeddingnet.pth'"
   ]
  },
  {
   "cell_type": "code",
   "execution_count": 7,
   "metadata": {},
   "outputs": [],
   "source": [
    "metadata_path = raw_data_dir/'meta'/'esc50.csv'\n",
    "audio_dir = raw_data_dir/'audio'\n",
    "spectrogram_dir = processed_data_dir/'spectrogram'"
   ]
  },
  {
   "cell_type": "code",
   "execution_count": 8,
   "metadata": {},
   "outputs": [],
   "source": [
    "train_metadata_path = processed_data_dir/'metadata_train.csv'\n",
    "valid_metadata_path = processed_data_dir/'metadata_valid.csv'\n",
    "test_metadata_path = processed_data_dir/'metadata_test.csv'"
   ]
  },
  {
   "cell_type": "code",
   "execution_count": null,
   "metadata": {},
   "outputs": [
    {
     "name": "stdout",
     "output_type": "stream",
     "text": [
      "device: cuda\n"
     ]
    }
   ],
   "source": [
    "use_cuda = torch.cuda.is_available() and (not no_cuda)\n",
    "device = 'cuda' if use_cuda else 'cpu'\n",
    "torch.manual_seed(seed)\n",
    "\n",
    "print('device: {}'.format(device))"
   ]
  },
  {
   "cell_type": "markdown",
   "metadata": {},
   "source": [
    "## Train"
   ]
  },
  {
   "cell_type": "markdown",
   "metadata": {},
   "source": [
    "### Hyperparameters"
   ]
  },
  {
   "cell_type": "code",
   "execution_count": null,
   "metadata": {},
   "outputs": [],
   "source": [
    "input_size = (257, 431)\n",
    "output_size = 128\n",
    "\n",
    "margin = 0.8\n",
    "\n",
    "lr = 5e-6\n",
    "weight_decay = 1e-5\n",
    "\n",
    "batch_size = 2\n",
    "n_epochs = 30\n",
    "\n",
    "log_interval = 100"
   ]
  },
  {
   "cell_type": "markdown",
   "metadata": {},
   "source": [
    "### Dataloaders"
   ]
  },
  {
   "cell_type": "code",
   "execution_count": null,
   "metadata": {},
   "outputs": [],
   "source": [
    "kwargs = {'num_workers': 1, 'pin_memory': True} if use_cuda else {}"
   ]
  },
  {
   "cell_type": "code",
   "execution_count": null,
   "metadata": {},
   "outputs": [],
   "source": [
    "transform = transforms.Compose([\n",
    "    transforms.ToTensor(),\n",
    "    ])"
   ]
  },
  {
   "cell_type": "code",
   "execution_count": null,
   "metadata": {},
   "outputs": [],
   "source": [
    "dataset_train = ESC50DatasetTriplet(\n",
    "    train_metadata_path, audio_dir, spectrogram_dir, transform,\n",
    "    )"
   ]
  },
  {
   "cell_type": "code",
   "execution_count": null,
   "metadata": {},
   "outputs": [],
   "source": [
    "dataset_valid = ESC50DatasetTriplet(\n",
    "    valid_metadata_path, audio_dir, spectrogram_dir, transform,\n",
    "    )"
   ]
  },
  {
   "cell_type": "code",
   "execution_count": null,
   "metadata": {},
   "outputs": [],
   "source": [
    "dataloader_train = torch.utils.data.DataLoader(dataset_train, batch_size=batch_size, shuffle=True, **kwargs)"
   ]
  },
  {
   "cell_type": "code",
   "execution_count": null,
   "metadata": {},
   "outputs": [],
   "source": [
    "dataloader_valid = torch.utils.data.DataLoader(dataset_valid, batch_size=batch_size, shuffle=False, **kwargs)"
   ]
  },
  {
   "cell_type": "markdown",
   "metadata": {},
   "source": [
    "### Model"
   ]
  },
  {
   "cell_type": "code",
   "execution_count": null,
   "metadata": {},
   "outputs": [],
   "source": [
    "embedding_net = EmbeddingNet(input_size, output_size).to(device)\n",
    "model = TripletNet(embedding_net).to(device)"
   ]
  },
  {
   "cell_type": "code",
   "execution_count": null,
   "metadata": {},
   "outputs": [],
   "source": [
    "loss_function = TripletLoss(margin)\n",
    "optimizer = torch.optim.Adam(model.parameters(), lr=lr, weight_decay=weight_decay)\n",
    "scheduler = torch.optim.lr_scheduler.StepLR(optimizer, 8, gamma=0.1, last_epoch=-1)"
   ]
  },
  {
   "cell_type": "markdown",
   "metadata": {},
   "source": [
    "### Train"
   ]
  },
  {
   "cell_type": "code",
   "execution_count": null,
   "metadata": {},
   "outputs": [],
   "source": [
    "torch.backends.cudnn.benchmark = True"
   ]
  },
  {
   "cell_type": "code",
   "execution_count": null,
   "metadata": {
    "scrolled": true
   },
   "outputs": [
    {
     "name": "stdout",
     "output_type": "stream",
     "text": [
      "Train: [0/1600 (0%)]\tLoss: 0.793592\n",
      "Train: [200/1600 (12%)]\tLoss: 0.796300\n",
      "Train: [400/1600 (25%)]\tLoss: 0.794598\n",
      "Train: [600/1600 (38%)]\tLoss: 0.787550\n",
      "Train: [800/1600 (50%)]\tLoss: 0.746206\n",
      "Train: [1000/1600 (62%)]\tLoss: 0.683375\n",
      "Train: [1200/1600 (75%)]\tLoss: 0.653792\n",
      "Train: [1400/1600 (88%)]\tLoss: 0.620712\n",
      "Epoch: 1/30. Train set: Average loss: 0.7199\n",
      "Epoch: 1/30. Validation set: Average loss: 0.5594\n",
      "Train: [0/1600 (0%)]\tLoss: 0.732125\n",
      "Train: [200/1600 (12%)]\tLoss: 0.689834\n",
      "Train: [400/1600 (25%)]\tLoss: 0.633253\n",
      "Train: [600/1600 (38%)]\tLoss: 0.694788\n",
      "Train: [800/1600 (50%)]\tLoss: 0.637754\n",
      "Train: [1000/1600 (62%)]\tLoss: 0.611609\n",
      "Train: [1200/1600 (75%)]\tLoss: 0.606764\n",
      "Train: [1400/1600 (88%)]\tLoss: 0.678660\n",
      "Epoch: 2/30. Train set: Average loss: 0.6489\n",
      "Epoch: 2/30. Validation set: Average loss: 0.5460\n",
      "Train: [0/1600 (0%)]\tLoss: 0.346349\n",
      "Train: [200/1600 (12%)]\tLoss: 0.664487\n",
      "Train: [400/1600 (25%)]\tLoss: 0.633415\n",
      "Train: [600/1600 (38%)]\tLoss: 0.635110\n",
      "Train: [800/1600 (50%)]\tLoss: 0.638404\n",
      "Train: [1000/1600 (62%)]\tLoss: 0.590850\n",
      "Train: [1200/1600 (75%)]\tLoss: 0.607607\n",
      "Train: [1400/1600 (88%)]\tLoss: 0.674102\n",
      "Epoch: 3/30. Train set: Average loss: 0.6287\n",
      "Epoch: 3/30. Validation set: Average loss: 0.5352\n",
      "Train: [0/1600 (0%)]\tLoss: 0.743075\n",
      "Train: [200/1600 (12%)]\tLoss: 0.612330\n",
      "Train: [400/1600 (25%)]\tLoss: 0.647281\n",
      "Train: [600/1600 (38%)]\tLoss: 0.613641\n",
      "Train: [800/1600 (50%)]\tLoss: 0.706793\n",
      "Train: [1000/1600 (62%)]\tLoss: 0.649139\n",
      "Train: [1200/1600 (75%)]\tLoss: 0.604993\n",
      "Train: [1400/1600 (88%)]\tLoss: 0.612153\n",
      "Epoch: 4/30. Train set: Average loss: 0.6292\n",
      "Epoch: 4/30. Validation set: Average loss: 0.5311\n",
      "Train: [0/1600 (0%)]\tLoss: 1.131339\n",
      "Train: [200/1600 (12%)]\tLoss: 0.618047\n",
      "Train: [400/1600 (25%)]\tLoss: 0.607418\n",
      "Train: [600/1600 (38%)]\tLoss: 0.651033\n",
      "Train: [800/1600 (50%)]\tLoss: 0.601365\n",
      "Train: [1000/1600 (62%)]\tLoss: 0.610336\n",
      "Train: [1200/1600 (75%)]\tLoss: 0.589641\n",
      "Train: [1400/1600 (88%)]\tLoss: 0.519987\n"
     ]
    }
   ],
   "source": [
    "fit(\n",
    "    dataloader_train,\n",
    "    dataloader_valid,\n",
    "    model, loss_function, optimizer, scheduler,\n",
    "    n_epochs, use_cuda, log_interval,\n",
    "    model_path=model_path_tmp,\n",
    "    )"
   ]
  },
  {
   "cell_type": "code",
   "execution_count": null,
   "metadata": {},
   "outputs": [],
   "source": [
    "# save best model as other name\n",
    "model.load_state_dict(torch.load(str(model_path_tmp)))\n",
    "\n",
    "torch.save(model.state_dict(), str(model_path))\n",
    "torch.save(embedding_net.state_dict(), str(embeddingnet_path))"
   ]
  }
 ],
 "metadata": {
  "kernelspec": {
   "display_name": "Python 3",
   "language": "python",
   "name": "python3"
  },
  "language_info": {
   "codemirror_mode": {
    "name": "ipython",
    "version": 3
   },
   "file_extension": ".py",
   "mimetype": "text/x-python",
   "name": "python",
   "nbconvert_exporter": "python",
   "pygments_lexer": "ipython3",
   "version": "3.7.3"
  }
 },
 "nbformat": 4,
 "nbformat_minor": 2
}

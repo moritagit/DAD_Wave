{
 "cells": [
  {
   "cell_type": "markdown",
   "metadata": {},
   "source": [
    "# DAD for Wave by Triplet Loss"
   ]
  },
  {
   "cell_type": "markdown",
   "metadata": {},
   "source": [
    "## Settings"
   ]
  },
  {
   "cell_type": "code",
   "execution_count": 1,
   "metadata": {
    "collapsed": true
   },
   "outputs": [],
   "source": [
    "from pathlib import Path\n",
    "import sys"
   ]
  },
  {
   "cell_type": "code",
   "execution_count": 2,
   "metadata": {
    "collapsed": true
   },
   "outputs": [],
   "source": [
    "import torch\n",
    "from torchvision import transforms"
   ]
  },
  {
   "cell_type": "code",
   "execution_count": 3,
   "metadata": {
    "collapsed": true
   },
   "outputs": [],
   "source": [
    "sys.path.append('../src')\n",
    "\n",
    "import utils\n",
    "from dataloader import ESC50DatasetTriplet\n",
    "from models import EmbeddingNet, TripletNet\n",
    "from loss_functions import TripletLoss\n",
    "from trainer import fit"
   ]
  },
  {
   "cell_type": "code",
   "execution_count": 4,
   "metadata": {
    "collapsed": true
   },
   "outputs": [],
   "source": [
    "no_cuda = False\n",
    "seed = 0"
   ]
  },
  {
   "cell_type": "code",
   "execution_count": 5,
   "metadata": {
    "collapsed": true
   },
   "outputs": [],
   "source": [
    "data_dir = Path().cwd().parent/'data'\n",
    "raw_data_dir = data_dir/'external'/'ESC-50'\n",
    "processed_data_dir = data_dir/'processed'/'ESC-50'\n",
    "\n",
    "model_path = Path().cwd().parent/'models'/'model.pth'\n",
    "embeddingnet_path = Path().cwd().parent/'models'/'embeddingnet.pth'"
   ]
  },
  {
   "cell_type": "code",
   "execution_count": 6,
   "metadata": {
    "collapsed": true
   },
   "outputs": [],
   "source": [
    "metadata_path = raw_data_dir/'meta'/'esc50.csv'\n",
    "audio_dir = raw_data_dir/'audio'\n",
    "spectrogram_dir = processed_data_dir/'spectrogram'"
   ]
  },
  {
   "cell_type": "code",
   "execution_count": 7,
   "metadata": {
    "collapsed": true
   },
   "outputs": [],
   "source": [
    "train_metadata_path = processed_data_dir/'metadata_train.csv'\n",
    "valid_metadata_path = processed_data_dir/'metadata_valid.csv'\n",
    "test_metadata_path = processed_data_dir/'metadata_test.csv'"
   ]
  },
  {
   "cell_type": "code",
   "execution_count": 8,
   "metadata": {
    "collapsed": false
   },
   "outputs": [
    {
     "name": "stdout",
     "output_type": "stream",
     "text": [
      "device: cpu\n"
     ]
    }
   ],
   "source": [
    "use_cuda = torch.cuda.is_available() and (not no_cuda)\n",
    "device = 'cuda' if use_cuda else 'cpu'\n",
    "torch.manual_seed(seed)\n",
    "\n",
    "print('device: {}'.format(device))"
   ]
  },
  {
   "cell_type": "markdown",
   "metadata": {},
   "source": [
    "## Train"
   ]
  },
  {
   "cell_type": "markdown",
   "metadata": {},
   "source": [
    "### Hyperparameters"
   ]
  },
  {
   "cell_type": "code",
   "execution_count": 9,
   "metadata": {
    "collapsed": true
   },
   "outputs": [],
   "source": [
    "input_size = (257, 431)\n",
    "output_size = 128\n",
    "\n",
    "margin = 1.\n",
    "\n",
    "lr = 1e-5\n",
    "weight_decay = 1e-6\n",
    "\n",
    "batch_size = 2\n",
    "n_epochs = 2\n",
    "\n",
    "log_interval = 100"
   ]
  },
  {
   "cell_type": "markdown",
   "metadata": {},
   "source": [
    "### Dataloaders"
   ]
  },
  {
   "cell_type": "code",
   "execution_count": 10,
   "metadata": {
    "collapsed": true
   },
   "outputs": [],
   "source": [
    "kwargs = {'num_workers': 1, 'pin_memory': True} if use_cuda else {}"
   ]
  },
  {
   "cell_type": "code",
   "execution_count": 11,
   "metadata": {
    "collapsed": true
   },
   "outputs": [],
   "source": [
    "transform = transforms.Compose([\n",
    "    transforms.ToTensor(),\n",
    "    ])"
   ]
  },
  {
   "cell_type": "code",
   "execution_count": 12,
   "metadata": {
    "collapsed": true
   },
   "outputs": [],
   "source": [
    "dataset_train = ESC50DatasetTriplet(\n",
    "    train_metadata_path, audio_dir, spectrogram_dir, transform,\n",
    "    )"
   ]
  },
  {
   "cell_type": "code",
   "execution_count": 13,
   "metadata": {
    "collapsed": true
   },
   "outputs": [],
   "source": [
    "dataset_valid = ESC50DatasetTriplet(\n",
    "    valid_metadata_path, audio_dir, spectrogram_dir, transform,\n",
    "    )"
   ]
  },
  {
   "cell_type": "code",
   "execution_count": 14,
   "metadata": {
    "collapsed": true
   },
   "outputs": [],
   "source": [
    "dataloader_train = torch.utils.data.DataLoader(dataset_train, batch_size=batch_size, shuffle=True, **kwargs)"
   ]
  },
  {
   "cell_type": "code",
   "execution_count": 15,
   "metadata": {
    "collapsed": true
   },
   "outputs": [],
   "source": [
    "dataloader_valid = torch.utils.data.DataLoader(dataset_valid, batch_size=batch_size, shuffle=False, **kwargs)"
   ]
  },
  {
   "cell_type": "markdown",
   "metadata": {},
   "source": [
    "### Model"
   ]
  },
  {
   "cell_type": "code",
   "execution_count": 16,
   "metadata": {
    "collapsed": true
   },
   "outputs": [],
   "source": [
    "embedding_net = EmbeddingNet(input_size, output_size).to(device)\n",
    "model = TripletNet(embedding_net).to(device)"
   ]
  },
  {
   "cell_type": "code",
   "execution_count": 17,
   "metadata": {
    "collapsed": true
   },
   "outputs": [],
   "source": [
    "loss_function = TripletLoss(margin)\n",
    "optimizer = torch.optim.Adam(model.parameters(), lr=lr, weight_decay=weight_decay)\n",
    "scheduler = torch.optim.lr_scheduler.StepLR(optimizer, 8, gamma=0.1, last_epoch=-1)"
   ]
  },
  {
   "cell_type": "markdown",
   "metadata": {},
   "source": [
    "### Train"
   ]
  },
  {
   "cell_type": "code",
   "execution_count": null,
   "metadata": {
    "collapsed": true
   },
   "outputs": [],
   "source": [
    "torch.backends.cudnn.benchmark = True"
   ]
  },
  {
   "cell_type": "code",
   "execution_count": null,
   "metadata": {
    "collapsed": false,
    "scrolled": true
   },
   "outputs": [
    {
     "name": "stderr",
     "output_type": "stream",
     "text": [
      "ERROR:root:Internal Python error in the inspect module.\n",
      "Below is the traceback from this internal error.\n",
      "ERROR:tornado.general:Uncaught exception, closing connection.\n",
      "Traceback (most recent call last):\n",
      "  File \"C:\\Users\\User\\Anaconda3\\lib\\site-packages\\IPython\\core\\interactiveshell.py\", line 2881, in run_code\n",
      "    exec(code_obj, self.user_global_ns, self.user_ns)\n",
      "  File \"<ipython-input-19-164fd9a4ba7d>\", line 5, in <module>\n",
      "    n_epochs, use_cuda, log_interval,\n",
      "  File \"../src\\trainer.py\", line 25, in fit\n",
      "    train_loss, metrics = train_epoch(train_loader, model, loss_fn, optimizer, cuda, log_interval, metrics)\n",
      "  File \"../src\\trainer.py\", line 60, in train_epoch\n",
      "    outputs = model(*data)\n",
      "  File \"C:\\Users\\User\\Anaconda3\\lib\\site-packages\\torch\\nn\\modules\\module.py\", line 477, in __call__\n",
      "    result = self.forward(*input, **kwargs)\n",
      "  File \"../src\\models.py\", line 122, in forward\n",
      "    embed_anc = self.embedding_net(anchor)\n",
      "  File \"C:\\Users\\User\\Anaconda3\\lib\\site-packages\\torch\\nn\\modules\\module.py\", line 477, in __call__\n",
      "    result = self.forward(*input, **kwargs)\n",
      "  File \"../src\\models.py\", line 104, in forward\n",
      "    embedding = self.convnet_1(x)\n",
      "  File \"C:\\Users\\User\\Anaconda3\\lib\\site-packages\\torch\\nn\\modules\\module.py\", line 477, in __call__\n",
      "    result = self.forward(*input, **kwargs)\n",
      "  File \"C:\\Users\\User\\Anaconda3\\lib\\site-packages\\torch\\nn\\modules\\container.py\", line 91, in forward\n",
      "    input = module(input)\n",
      "  File \"C:\\Users\\User\\Anaconda3\\lib\\site-packages\\torch\\nn\\modules\\module.py\", line 477, in __call__\n",
      "    result = self.forward(*input, **kwargs)\n",
      "  File \"C:\\Users\\User\\Anaconda3\\lib\\site-packages\\torch\\nn\\modules\\activation.py\", line 46, in forward\n",
      "    return F.threshold(input, self.threshold, self.value, self.inplace)\n",
      "  File \"C:\\Users\\User\\Anaconda3\\lib\\site-packages\\torch\\nn\\functional.py\", line 625, in threshold\n",
      "    return torch._C._nn.threshold(input, threshold, value)\n",
      "KeyboardInterrupt\n",
      "\n",
      "During handling of the above exception, another exception occurred:\n",
      "\n",
      "Traceback (most recent call last):\n",
      "  File \"C:\\Users\\User\\Anaconda3\\lib\\site-packages\\IPython\\core\\interactiveshell.py\", line 1799, in showtraceback\n",
      "    etype, value, tb = self._get_exc_info(exc_tuple)\n",
      "  File \"C:\\Users\\User\\Anaconda3\\lib\\site-packages\\IPython\\core\\interactiveshell.py\", line 1736, in _get_exc_info\n",
      "    def _get_exc_info(self, exc_tuple=None):\n",
      "KeyboardInterrupt\n",
      "\n",
      "During handling of the above exception, another exception occurred:\n",
      "\n",
      "Traceback (most recent call last):\n",
      "  File \"C:\\Users\\User\\Anaconda3\\lib\\site-packages\\IPython\\core\\interactiveshell.py\", line 2827, in run_ast_nodes\n",
      "    if self.run_code(code, result):\n",
      "  File \"C:\\Users\\User\\Anaconda3\\lib\\site-packages\\IPython\\core\\interactiveshell.py\", line 2898, in run_code\n",
      "    self.showtraceback()\n",
      "  File \"C:\\Users\\User\\Anaconda3\\lib\\site-packages\\IPython\\core\\interactiveshell.py\", line 1836, in showtraceback\n",
      "    print('\\n' + self.get_exception_only(), file=sys.stderr)\n",
      "  File \"C:\\Users\\User\\Anaconda3\\lib\\site-packages\\IPython\\core\\interactiveshell.py\", line 1781, in get_exception_only\n",
      "    msg = traceback.format_exception_only(etype, value)\n",
      "  File \"C:\\Users\\User\\Anaconda3\\lib\\traceback.py\", line 136, in format_exception_only\n",
      "    return list(TracebackException(etype, value, None).format_exception_only())\n",
      "  File \"C:\\Users\\User\\Anaconda3\\lib\\traceback.py\", line 486, in __init__\n",
      "    _seen=_seen)\n",
      "  File \"C:\\Users\\User\\Anaconda3\\lib\\traceback.py\", line 462, in __init__\n",
      "    _seen.add(exc_value)\n",
      "KeyboardInterrupt\n",
      "\n",
      "During handling of the above exception, another exception occurred:\n",
      "\n",
      "Traceback (most recent call last):\n",
      "  File \"C:\\Users\\User\\Anaconda3\\lib\\site-packages\\IPython\\core\\interactiveshell.py\", line 1821, in showtraceback\n",
      "    stb = value._render_traceback_()\n",
      "AttributeError: 'KeyboardInterrupt' object has no attribute '_render_traceback_'\n",
      "\n",
      "During handling of the above exception, another exception occurred:\n",
      "\n",
      "Traceback (most recent call last):\n",
      "  File \"C:\\Users\\User\\Anaconda3\\lib\\site-packages\\IPython\\core\\ultratb.py\", line 1132, in get_records\n",
      "    return _fixed_getinnerframes(etb, number_of_lines_of_context, tb_offset)\n",
      "  File \"C:\\Users\\User\\Anaconda3\\lib\\site-packages\\IPython\\core\\ultratb.py\", line 313, in wrapped\n",
      "    return f(*args, **kwargs)\n",
      "  File \"C:\\Users\\User\\Anaconda3\\lib\\site-packages\\IPython\\core\\ultratb.py\", line 358, in _fixed_getinnerframes\n",
      "    records = fix_frame_records_filenames(inspect.getinnerframes(etb, context))\n",
      "  File \"C:\\Users\\User\\Anaconda3\\lib\\inspect.py\", line 1454, in getinnerframes\n",
      "    frameinfo = (tb.tb_frame,) + getframeinfo(tb, context)\n",
      "  File \"C:\\Users\\User\\Anaconda3\\lib\\inspect.py\", line 1415, in getframeinfo\n",
      "    lines, lnum = findsource(frame)\n",
      "  File \"C:\\Users\\User\\Anaconda3\\lib\\site-packages\\IPython\\core\\ultratb.py\", line 223, in findsource\n",
      "    pat = re.compile(r'^(\\s*def\\s)|(.*(?<!\\w)lambda(:|\\s))|^(\\s*@)')\n",
      "  File \"C:\\Users\\User\\Anaconda3\\lib\\re.py\", line 233, in compile\n",
      "    return _compile(pattern, flags)\n",
      "  File \"C:\\Users\\User\\Anaconda3\\lib\\re.py\", line 301, in _compile\n",
      "    p = sre_compile.compile(pattern, flags)\n",
      "  File \"C:\\Users\\User\\Anaconda3\\lib\\sre_compile.py\", line 566, in compile\n",
      "    code = _code(p, flags)\n",
      "  File \"C:\\Users\\User\\Anaconda3\\lib\\sre_compile.py\", line 551, in _code\n",
      "    _compile(code, p.data, flags)\n",
      "  File \"C:\\Users\\User\\Anaconda3\\lib\\sre_compile.py\", line 187, in _compile\n",
      "    _compile(code, av, flags)\n",
      "  File \"C:\\Users\\User\\Anaconda3\\lib\\sre_compile.py\", line 149, in _compile\n",
      "    emit((group-1)*2+1)\n",
      "KeyboardInterrupt\n",
      "\n",
      "During handling of the above exception, another exception occurred:\n",
      "\n",
      "Traceback (most recent call last):\n",
      "  File \"C:\\Users\\User\\Anaconda3\\lib\\site-packages\\IPython\\core\\interactiveshell.py\", line 1824, in showtraceback\n",
      "    value, tb, tb_offset=tb_offset)\n",
      "  File \"C:\\Users\\User\\Anaconda3\\lib\\site-packages\\IPython\\core\\ultratb.py\", line 1406, in structured_traceback\n",
      "    self, etype, value, tb, tb_offset, number_of_lines_of_context)\n",
      "  File \"C:\\Users\\User\\Anaconda3\\lib\\site-packages\\IPython\\core\\ultratb.py\", line 1314, in structured_traceback\n",
      "    self, etype, value, tb, tb_offset, number_of_lines_of_context\n",
      "  File \"C:\\Users\\User\\Anaconda3\\lib\\site-packages\\IPython\\core\\ultratb.py\", line 1164, in structured_traceback\n",
      "    tb_offset)\n",
      "  File \"C:\\Users\\User\\Anaconda3\\lib\\site-packages\\IPython\\core\\ultratb.py\", line 1108, in format_exception_as_a_whole\n",
      "    records = self.get_records(etb, number_of_lines_of_context, tb_offset)\n",
      "  File \"C:\\Users\\User\\Anaconda3\\lib\\site-packages\\IPython\\core\\ultratb.py\", line 1140, in get_records\n",
      "    inspect_error()\n",
      "  File \"C:\\Users\\User\\Anaconda3\\lib\\site-packages\\IPython\\core\\ultratb.py\", line 152, in inspect_error\n",
      "    error('Internal Python error in the inspect module.\\n'\n",
      "  File \"C:\\Users\\User\\Anaconda3\\lib\\logging\\__init__.py\", line 1837, in error\n",
      "    root.error(msg, *args, **kwargs)\n",
      "  File \"C:\\Users\\User\\Anaconda3\\lib\\logging\\__init__.py\", line 1330, in error\n",
      "    self._log(ERROR, msg, args, **kwargs)\n",
      "  File \"C:\\Users\\User\\Anaconda3\\lib\\logging\\__init__.py\", line 1437, in _log\n",
      "    self.handle(record)\n",
      "  File \"C:\\Users\\User\\Anaconda3\\lib\\logging\\__init__.py\", line 1447, in handle\n",
      "    self.callHandlers(record)\n",
      "  File \"C:\\Users\\User\\Anaconda3\\lib\\logging\\__init__.py\", line 1509, in callHandlers\n",
      "    hdlr.handle(record)\n",
      "  File \"C:\\Users\\User\\Anaconda3\\lib\\logging\\__init__.py\", line 858, in handle\n",
      "    self.emit(record)\n",
      "  File \"C:\\Users\\User\\Anaconda3\\lib\\logging\\__init__.py\", line 989, in emit\n",
      "    stream.write(msg)\n",
      "  File \"C:\\Users\\User\\AppData\\Roaming\\Python\\Python36\\site-packages\\colorama\\ansitowin32.py\", line 40, in write\n",
      "    self.__convertor.write(text)\n",
      "  File \"C:\\Users\\User\\AppData\\Roaming\\Python\\Python36\\site-packages\\colorama\\ansitowin32.py\", line 141, in write\n",
      "    self.write_and_convert(text)\n",
      "  File \"C:\\Users\\User\\AppData\\Roaming\\Python\\Python36\\site-packages\\colorama\\ansitowin32.py\", line 169, in write_and_convert\n",
      "    self.write_plain_text(text, cursor, len(text))\n",
      "  File \"C:\\Users\\User\\AppData\\Roaming\\Python\\Python36\\site-packages\\colorama\\ansitowin32.py\", line 175, in write_plain_text\n",
      "    self.wrapped.flush()\n",
      "  File \"C:\\Users\\User\\Anaconda3\\lib\\site-packages\\ipykernel\\iostream.py\", line 322, in flush\n",
      "    evt.wait()\n",
      "  File \"C:\\Users\\User\\Anaconda3\\lib\\threading.py\", line 551, in wait\n",
      "    signaled = self._cond.wait(timeout)\n",
      "  File \"C:\\Users\\User\\Anaconda3\\lib\\threading.py\", line 295, in wait\n",
      "    waiter.acquire()\n",
      "KeyboardInterrupt\n",
      "\n",
      "During handling of the above exception, another exception occurred:\n",
      "\n",
      "Traceback (most recent call last):\n",
      "  File \"C:\\Users\\User\\Anaconda3\\lib\\site-packages\\zmq\\eventloop\\zmqstream.py\", line 414, in _run_callback\n",
      "    callback(*args, **kwargs)\n",
      "  File \"C:\\Users\\User\\Anaconda3\\lib\\site-packages\\tornado\\stack_context.py\", line 275, in null_wrapper\n",
      "    return fn(*args, **kwargs)\n",
      "  File \"C:\\Users\\User\\Anaconda3\\lib\\site-packages\\ipykernel\\kernelbase.py\", line 276, in dispatcher\n",
      "    return self.dispatch_shell(stream, msg)\n",
      "  File \"C:\\Users\\User\\Anaconda3\\lib\\site-packages\\ipykernel\\kernelbase.py\", line 228, in dispatch_shell\n",
      "    handler(stream, idents, msg)\n",
      "  File \"C:\\Users\\User\\Anaconda3\\lib\\site-packages\\ipykernel\\kernelbase.py\", line 390, in execute_request\n",
      "    user_expressions, allow_stdin)\n",
      "  File \"C:\\Users\\User\\Anaconda3\\lib\\site-packages\\ipykernel\\ipkernel.py\", line 196, in do_execute\n",
      "    res = shell.run_cell(code, store_history=store_history, silent=silent)\n",
      "  File \"C:\\Users\\User\\Anaconda3\\lib\\site-packages\\ipykernel\\zmqshell.py\", line 501, in run_cell\n",
      "    return super(ZMQInteractiveShell, self).run_cell(*args, **kwargs)\n",
      "  File \"C:\\Users\\User\\Anaconda3\\lib\\site-packages\\IPython\\core\\interactiveshell.py\", line 2717, in run_cell\n",
      "    interactivity=interactivity, compiler=compiler, result=result)\n",
      "  File \"C:\\Users\\User\\Anaconda3\\lib\\site-packages\\IPython\\core\\interactiveshell.py\", line 2846, in run_ast_nodes\n",
      "    self.showtraceback()\n",
      "  File \"C:\\Users\\User\\Anaconda3\\lib\\site-packages\\IPython\\core\\interactiveshell.py\", line 1836, in showtraceback\n",
      "    print('\\n' + self.get_exception_only(), file=sys.stderr)\n",
      "  File \"C:\\Users\\User\\Anaconda3\\lib\\site-packages\\IPython\\core\\interactiveshell.py\", line 1781, in get_exception_only\n",
      "    msg = traceback.format_exception_only(etype, value)\n",
      "  File \"C:\\Users\\User\\Anaconda3\\lib\\traceback.py\", line 136, in format_exception_only\n",
      "    return list(TracebackException(etype, value, None).format_exception_only())\n",
      "  File \"C:\\Users\\User\\Anaconda3\\lib\\traceback.py\", line 510, in __init__\n",
      "    self._load_lines()\n",
      "  File \"C:\\Users\\User\\Anaconda3\\lib\\traceback.py\", line 522, in _load_lines\n",
      "    self.__context__._load_lines()\n",
      "  File \"C:\\Users\\User\\Anaconda3\\lib\\traceback.py\", line 520, in _load_lines\n",
      "    frame.line\n",
      "  File \"C:\\Users\\User\\Anaconda3\\lib\\traceback.py\", line 282, in line\n",
      "    self._line = linecache.getline(self.filename, self.lineno).strip()\n",
      "  File \"C:\\Users\\User\\Anaconda3\\lib\\linecache.py\", line 16, in getline\n",
      "    lines = getlines(filename, module_globals)\n",
      "  File \"C:\\Users\\User\\Anaconda3\\lib\\linecache.py\", line 47, in getlines\n",
      "    return updatecache(filename, module_globals)\n",
      "  File \"C:\\Users\\User\\Anaconda3\\lib\\linecache.py\", line 136, in updatecache\n",
      "    with tokenize.open(fullname) as fp:\n",
      "  File \"C:\\Users\\User\\Anaconda3\\lib\\tokenize.py\", line 452, in open\n",
      "    buffer = _builtin_open(filename, 'rb')\n",
      "KeyboardInterrupt\n",
      "ERROR:tornado.general:Uncaught exception, closing connection.\n",
      "Traceback (most recent call last):\n",
      "  File \"C:\\Users\\User\\Anaconda3\\lib\\site-packages\\IPython\\core\\interactiveshell.py\", line 2881, in run_code\n",
      "    exec(code_obj, self.user_global_ns, self.user_ns)\n",
      "  File \"<ipython-input-19-164fd9a4ba7d>\", line 5, in <module>\n",
      "    n_epochs, use_cuda, log_interval,\n",
      "  File \"../src\\trainer.py\", line 25, in fit\n",
      "    train_loss, metrics = train_epoch(train_loader, model, loss_fn, optimizer, cuda, log_interval, metrics)\n",
      "  File \"../src\\trainer.py\", line 60, in train_epoch\n",
      "    outputs = model(*data)\n",
      "  File \"C:\\Users\\User\\Anaconda3\\lib\\site-packages\\torch\\nn\\modules\\module.py\", line 477, in __call__\n",
      "    result = self.forward(*input, **kwargs)\n",
      "  File \"../src\\models.py\", line 122, in forward\n",
      "    embed_anc = self.embedding_net(anchor)\n",
      "  File \"C:\\Users\\User\\Anaconda3\\lib\\site-packages\\torch\\nn\\modules\\module.py\", line 477, in __call__\n",
      "    result = self.forward(*input, **kwargs)\n",
      "  File \"../src\\models.py\", line 104, in forward\n",
      "    embedding = self.convnet_1(x)\n",
      "  File \"C:\\Users\\User\\Anaconda3\\lib\\site-packages\\torch\\nn\\modules\\module.py\", line 477, in __call__\n",
      "    result = self.forward(*input, **kwargs)\n",
      "  File \"C:\\Users\\User\\Anaconda3\\lib\\site-packages\\torch\\nn\\modules\\container.py\", line 91, in forward\n",
      "    input = module(input)\n",
      "  File \"C:\\Users\\User\\Anaconda3\\lib\\site-packages\\torch\\nn\\modules\\module.py\", line 477, in __call__\n",
      "    result = self.forward(*input, **kwargs)\n",
      "  File \"C:\\Users\\User\\Anaconda3\\lib\\site-packages\\torch\\nn\\modules\\activation.py\", line 46, in forward\n",
      "    return F.threshold(input, self.threshold, self.value, self.inplace)\n",
      "  File \"C:\\Users\\User\\Anaconda3\\lib\\site-packages\\torch\\nn\\functional.py\", line 625, in threshold\n",
      "    return torch._C._nn.threshold(input, threshold, value)\n",
      "KeyboardInterrupt\n",
      "\n",
      "During handling of the above exception, another exception occurred:\n",
      "\n",
      "Traceback (most recent call last):\n",
      "  File \"C:\\Users\\User\\Anaconda3\\lib\\site-packages\\IPython\\core\\interactiveshell.py\", line 1799, in showtraceback\n",
      "    etype, value, tb = self._get_exc_info(exc_tuple)\n",
      "  File \"C:\\Users\\User\\Anaconda3\\lib\\site-packages\\IPython\\core\\interactiveshell.py\", line 1736, in _get_exc_info\n",
      "    def _get_exc_info(self, exc_tuple=None):\n",
      "KeyboardInterrupt\n",
      "\n",
      "During handling of the above exception, another exception occurred:\n",
      "\n",
      "Traceback (most recent call last):\n",
      "  File \"C:\\Users\\User\\Anaconda3\\lib\\site-packages\\IPython\\core\\interactiveshell.py\", line 2827, in run_ast_nodes\n",
      "    if self.run_code(code, result):\n",
      "  File \"C:\\Users\\User\\Anaconda3\\lib\\site-packages\\IPython\\core\\interactiveshell.py\", line 2898, in run_code\n",
      "    self.showtraceback()\n",
      "  File \"C:\\Users\\User\\Anaconda3\\lib\\site-packages\\IPython\\core\\interactiveshell.py\", line 1836, in showtraceback\n",
      "    print('\\n' + self.get_exception_only(), file=sys.stderr)\n",
      "  File \"C:\\Users\\User\\Anaconda3\\lib\\site-packages\\IPython\\core\\interactiveshell.py\", line 1781, in get_exception_only\n",
      "    msg = traceback.format_exception_only(etype, value)\n",
      "  File \"C:\\Users\\User\\Anaconda3\\lib\\traceback.py\", line 136, in format_exception_only\n",
      "    return list(TracebackException(etype, value, None).format_exception_only())\n",
      "  File \"C:\\Users\\User\\Anaconda3\\lib\\traceback.py\", line 486, in __init__\n",
      "    _seen=_seen)\n",
      "  File \"C:\\Users\\User\\Anaconda3\\lib\\traceback.py\", line 462, in __init__\n",
      "    _seen.add(exc_value)\n",
      "KeyboardInterrupt\n",
      "\n",
      "During handling of the above exception, another exception occurred:\n",
      "\n",
      "Traceback (most recent call last):\n",
      "  File \"C:\\Users\\User\\Anaconda3\\lib\\site-packages\\IPython\\core\\interactiveshell.py\", line 1821, in showtraceback\n",
      "    stb = value._render_traceback_()\n",
      "AttributeError: 'KeyboardInterrupt' object has no attribute '_render_traceback_'\n",
      "\n",
      "During handling of the above exception, another exception occurred:\n",
      "\n",
      "Traceback (most recent call last):\n",
      "  File \"C:\\Users\\User\\Anaconda3\\lib\\site-packages\\IPython\\core\\ultratb.py\", line 1132, in get_records\n",
      "    return _fixed_getinnerframes(etb, number_of_lines_of_context, tb_offset)\n",
      "  File \"C:\\Users\\User\\Anaconda3\\lib\\site-packages\\IPython\\core\\ultratb.py\", line 313, in wrapped\n",
      "    return f(*args, **kwargs)\n",
      "  File \"C:\\Users\\User\\Anaconda3\\lib\\site-packages\\IPython\\core\\ultratb.py\", line 358, in _fixed_getinnerframes\n",
      "    records = fix_frame_records_filenames(inspect.getinnerframes(etb, context))\n",
      "  File \"C:\\Users\\User\\Anaconda3\\lib\\inspect.py\", line 1454, in getinnerframes\n",
      "    frameinfo = (tb.tb_frame,) + getframeinfo(tb, context)\n",
      "  File \"C:\\Users\\User\\Anaconda3\\lib\\inspect.py\", line 1415, in getframeinfo\n",
      "    lines, lnum = findsource(frame)\n",
      "  File \"C:\\Users\\User\\Anaconda3\\lib\\site-packages\\IPython\\core\\ultratb.py\", line 223, in findsource\n",
      "    pat = re.compile(r'^(\\s*def\\s)|(.*(?<!\\w)lambda(:|\\s))|^(\\s*@)')\n",
      "  File \"C:\\Users\\User\\Anaconda3\\lib\\re.py\", line 233, in compile\n",
      "    return _compile(pattern, flags)\n",
      "  File \"C:\\Users\\User\\Anaconda3\\lib\\re.py\", line 301, in _compile\n",
      "    p = sre_compile.compile(pattern, flags)\n",
      "  File \"C:\\Users\\User\\Anaconda3\\lib\\sre_compile.py\", line 566, in compile\n",
      "    code = _code(p, flags)\n",
      "  File \"C:\\Users\\User\\Anaconda3\\lib\\sre_compile.py\", line 551, in _code\n",
      "    _compile(code, p.data, flags)\n",
      "  File \"C:\\Users\\User\\Anaconda3\\lib\\sre_compile.py\", line 187, in _compile\n",
      "    _compile(code, av, flags)\n",
      "  File \"C:\\Users\\User\\Anaconda3\\lib\\sre_compile.py\", line 149, in _compile\n",
      "    emit((group-1)*2+1)\n",
      "KeyboardInterrupt\n",
      "\n",
      "During handling of the above exception, another exception occurred:\n",
      "\n",
      "Traceback (most recent call last):\n",
      "  File \"C:\\Users\\User\\Anaconda3\\lib\\site-packages\\IPython\\core\\interactiveshell.py\", line 1824, in showtraceback\n",
      "    value, tb, tb_offset=tb_offset)\n",
      "  File \"C:\\Users\\User\\Anaconda3\\lib\\site-packages\\IPython\\core\\ultratb.py\", line 1406, in structured_traceback\n",
      "    self, etype, value, tb, tb_offset, number_of_lines_of_context)\n",
      "  File \"C:\\Users\\User\\Anaconda3\\lib\\site-packages\\IPython\\core\\ultratb.py\", line 1314, in structured_traceback\n",
      "    self, etype, value, tb, tb_offset, number_of_lines_of_context\n",
      "  File \"C:\\Users\\User\\Anaconda3\\lib\\site-packages\\IPython\\core\\ultratb.py\", line 1164, in structured_traceback\n",
      "    tb_offset)\n",
      "  File \"C:\\Users\\User\\Anaconda3\\lib\\site-packages\\IPython\\core\\ultratb.py\", line 1108, in format_exception_as_a_whole\n",
      "    records = self.get_records(etb, number_of_lines_of_context, tb_offset)\n",
      "  File \"C:\\Users\\User\\Anaconda3\\lib\\site-packages\\IPython\\core\\ultratb.py\", line 1140, in get_records\n",
      "    inspect_error()\n",
      "  File \"C:\\Users\\User\\Anaconda3\\lib\\site-packages\\IPython\\core\\ultratb.py\", line 152, in inspect_error\n",
      "    error('Internal Python error in the inspect module.\\n'\n",
      "  File \"C:\\Users\\User\\Anaconda3\\lib\\logging\\__init__.py\", line 1837, in error\n",
      "    root.error(msg, *args, **kwargs)\n",
      "  File \"C:\\Users\\User\\Anaconda3\\lib\\logging\\__init__.py\", line 1330, in error\n",
      "    self._log(ERROR, msg, args, **kwargs)\n",
      "  File \"C:\\Users\\User\\Anaconda3\\lib\\logging\\__init__.py\", line 1437, in _log\n",
      "    self.handle(record)\n",
      "  File \"C:\\Users\\User\\Anaconda3\\lib\\logging\\__init__.py\", line 1447, in handle\n",
      "    self.callHandlers(record)\n",
      "  File \"C:\\Users\\User\\Anaconda3\\lib\\logging\\__init__.py\", line 1509, in callHandlers\n",
      "    hdlr.handle(record)\n",
      "  File \"C:\\Users\\User\\Anaconda3\\lib\\logging\\__init__.py\", line 858, in handle\n",
      "    self.emit(record)\n",
      "  File \"C:\\Users\\User\\Anaconda3\\lib\\logging\\__init__.py\", line 989, in emit\n",
      "    stream.write(msg)\n",
      "  File \"C:\\Users\\User\\AppData\\Roaming\\Python\\Python36\\site-packages\\colorama\\ansitowin32.py\", line 40, in write\n",
      "    self.__convertor.write(text)\n",
      "  File \"C:\\Users\\User\\AppData\\Roaming\\Python\\Python36\\site-packages\\colorama\\ansitowin32.py\", line 141, in write\n",
      "    self.write_and_convert(text)\n",
      "  File \"C:\\Users\\User\\AppData\\Roaming\\Python\\Python36\\site-packages\\colorama\\ansitowin32.py\", line 169, in write_and_convert\n",
      "    self.write_plain_text(text, cursor, len(text))\n",
      "  File \"C:\\Users\\User\\AppData\\Roaming\\Python\\Python36\\site-packages\\colorama\\ansitowin32.py\", line 175, in write_plain_text\n",
      "    self.wrapped.flush()\n",
      "  File \"C:\\Users\\User\\Anaconda3\\lib\\site-packages\\ipykernel\\iostream.py\", line 322, in flush\n",
      "    evt.wait()\n",
      "  File \"C:\\Users\\User\\Anaconda3\\lib\\threading.py\", line 551, in wait\n",
      "    signaled = self._cond.wait(timeout)\n",
      "  File \"C:\\Users\\User\\Anaconda3\\lib\\threading.py\", line 295, in wait\n",
      "    waiter.acquire()\n",
      "KeyboardInterrupt\n",
      "\n",
      "During handling of the above exception, another exception occurred:\n",
      "\n",
      "Traceback (most recent call last):\n",
      "  File \"C:\\Users\\User\\Anaconda3\\lib\\site-packages\\zmq\\eventloop\\zmqstream.py\", line 440, in _handle_events\n",
      "    self._handle_recv()\n",
      "  File \"C:\\Users\\User\\Anaconda3\\lib\\site-packages\\zmq\\eventloop\\zmqstream.py\", line 472, in _handle_recv\n",
      "    self._run_callback(callback, msg)\n",
      "  File \"C:\\Users\\User\\Anaconda3\\lib\\site-packages\\zmq\\eventloop\\zmqstream.py\", line 414, in _run_callback\n",
      "    callback(*args, **kwargs)\n",
      "  File \"C:\\Users\\User\\Anaconda3\\lib\\site-packages\\tornado\\stack_context.py\", line 275, in null_wrapper\n",
      "    return fn(*args, **kwargs)\n",
      "  File \"C:\\Users\\User\\Anaconda3\\lib\\site-packages\\ipykernel\\kernelbase.py\", line 276, in dispatcher\n",
      "    return self.dispatch_shell(stream, msg)\n",
      "  File \"C:\\Users\\User\\Anaconda3\\lib\\site-packages\\ipykernel\\kernelbase.py\", line 228, in dispatch_shell\n",
      "    handler(stream, idents, msg)\n",
      "  File \"C:\\Users\\User\\Anaconda3\\lib\\site-packages\\ipykernel\\kernelbase.py\", line 390, in execute_request\n",
      "    user_expressions, allow_stdin)\n",
      "  File \"C:\\Users\\User\\Anaconda3\\lib\\site-packages\\ipykernel\\ipkernel.py\", line 196, in do_execute\n",
      "    res = shell.run_cell(code, store_history=store_history, silent=silent)\n",
      "  File \"C:\\Users\\User\\Anaconda3\\lib\\site-packages\\ipykernel\\zmqshell.py\", line 501, in run_cell\n",
      "    return super(ZMQInteractiveShell, self).run_cell(*args, **kwargs)\n",
      "  File \"C:\\Users\\User\\Anaconda3\\lib\\site-packages\\IPython\\core\\interactiveshell.py\", line 2717, in run_cell\n",
      "    interactivity=interactivity, compiler=compiler, result=result)\n",
      "  File \"C:\\Users\\User\\Anaconda3\\lib\\site-packages\\IPython\\core\\interactiveshell.py\", line 2846, in run_ast_nodes\n",
      "    self.showtraceback()\n",
      "  File \"C:\\Users\\User\\Anaconda3\\lib\\site-packages\\IPython\\core\\interactiveshell.py\", line 1836, in showtraceback\n",
      "    print('\\n' + self.get_exception_only(), file=sys.stderr)\n",
      "  File \"C:\\Users\\User\\Anaconda3\\lib\\site-packages\\IPython\\core\\interactiveshell.py\", line 1781, in get_exception_only\n",
      "    msg = traceback.format_exception_only(etype, value)\n",
      "  File \"C:\\Users\\User\\Anaconda3\\lib\\traceback.py\", line 136, in format_exception_only\n",
      "    return list(TracebackException(etype, value, None).format_exception_only())\n",
      "  File \"C:\\Users\\User\\Anaconda3\\lib\\traceback.py\", line 510, in __init__\n",
      "    self._load_lines()\n",
      "  File \"C:\\Users\\User\\Anaconda3\\lib\\traceback.py\", line 522, in _load_lines\n",
      "    self.__context__._load_lines()\n",
      "  File \"C:\\Users\\User\\Anaconda3\\lib\\traceback.py\", line 520, in _load_lines\n",
      "    frame.line\n",
      "  File \"C:\\Users\\User\\Anaconda3\\lib\\traceback.py\", line 282, in line\n",
      "    self._line = linecache.getline(self.filename, self.lineno).strip()\n",
      "  File \"C:\\Users\\User\\Anaconda3\\lib\\linecache.py\", line 16, in getline\n",
      "    lines = getlines(filename, module_globals)\n",
      "  File \"C:\\Users\\User\\Anaconda3\\lib\\linecache.py\", line 47, in getlines\n",
      "    return updatecache(filename, module_globals)\n",
      "  File \"C:\\Users\\User\\Anaconda3\\lib\\linecache.py\", line 136, in updatecache\n",
      "    with tokenize.open(fullname) as fp:\n",
      "  File \"C:\\Users\\User\\Anaconda3\\lib\\tokenize.py\", line 452, in open\n",
      "    buffer = _builtin_open(filename, 'rb')\n",
      "KeyboardInterrupt\n"
     ]
    }
   ],
   "source": [
    "fit(\n",
    "    dataloader_train,\n",
    "    dataloader_valid,\n",
    "    model, loss_function, optimizer, scheduler,\n",
    "    n_epochs, use_cuda, log_interval,\n",
    "    )"
   ]
  },
  {
   "cell_type": "code",
   "execution_count": null,
   "metadata": {
    "collapsed": true
   },
   "outputs": [],
   "source": [
    "torch.save(model.state_dict(), str(model_path))\n",
    "torch.save(embedding_net.state_dict(), str(embeddingnet_path))"
   ]
  },
  {
   "cell_type": "markdown",
   "metadata": {},
   "source": [
    "### Test"
   ]
  },
  {
   "cell_type": "code",
   "execution_count": null,
   "metadata": {
    "collapsed": true
   },
   "outputs": [],
   "source": [
    "model.load_state_dict(torch.load(str(model_path)))"
   ]
  },
  {
   "cell_type": "code",
   "execution_count": null,
   "metadata": {
    "collapsed": true
   },
   "outputs": [],
   "source": []
  },
  {
   "cell_type": "code",
   "execution_count": null,
   "metadata": {
    "collapsed": true
   },
   "outputs": [],
   "source": []
  }
 ],
 "metadata": {
  "kernelspec": {
   "display_name": "Python 3",
   "language": "python",
   "name": "python3"
  },
  "language_info": {
   "codemirror_mode": {
    "name": "ipython",
    "version": 3
   },
   "file_extension": ".py",
   "mimetype": "text/x-python",
   "name": "python",
   "nbconvert_exporter": "python",
   "pygments_lexer": "ipython3",
   "version": "3.6.0"
  }
 },
 "nbformat": 4,
 "nbformat_minor": 2
}
